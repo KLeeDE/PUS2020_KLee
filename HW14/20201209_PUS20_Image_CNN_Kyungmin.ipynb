{
  "nbformat": 4,
  "nbformat_minor": 0,
  "metadata": {
    "colab": {
      "name": "20201209_PUS20_Image_CNN_Kyungmin.ipynb",
      "provenance": [],
      "include_colab_link": true
    },
    "kernelspec": {
      "name": "python3",
      "display_name": "Python 3"
    },
    "accelerator": "GPU"
  },
  "cells": [
    {
      "cell_type": "markdown",
      "metadata": {
        "id": "view-in-github",
        "colab_type": "text"
      },
      "source": [
        "<a href=\"https://colab.research.google.com/github/KLeeDE/PUS2020_KLee/blob/master/HW14/20201209_PUS20_Image_CNN_Kyungmin.ipynb\" target=\"_parent\"><img src=\"https://colab.research.google.com/assets/colab-badge.svg\" alt=\"Open In Colab\"/></a>"
      ]
    },
    {
      "cell_type": "code",
      "metadata": {
        "colab": {
          "base_uri": "https://localhost:8080/"
        },
        "id": "odPR6co6SnC_",
        "outputId": "04903c76-ff9b-4f55-b7ab-bc5e534442de"
      },
      "source": [
        "from google.colab import drive\n",
        "drive.mount('/content/drive')"
      ],
      "execution_count": null,
      "outputs": [
        {
          "output_type": "stream",
          "text": [
            "Mounted at /content/drive\n"
          ],
          "name": "stdout"
        }
      ]
    },
    {
      "cell_type": "code",
      "metadata": {
        "id": "8eap3GBDS1AL"
      },
      "source": [
        "from keras.models import Sequential\r\n",
        "from keras.layers import Dense, Flatten\r\n",
        "from keras import backend as k"
      ],
      "execution_count": null,
      "outputs": []
    },
    {
      "cell_type": "code",
      "metadata": {
        "id": "LgKprevUS2VC"
      },
      "source": [
        "import glob\r\n",
        "import h5py\r\n",
        "from PIL import Image"
      ],
      "execution_count": null,
      "outputs": []
    },
    {
      "cell_type": "code",
      "metadata": {
        "colab": {
          "base_uri": "https://localhost:8080/"
        },
        "id": "U8KNvL8pS3f3",
        "outputId": "2d4ace08-192c-4471-86d0-cc34d5f80674"
      },
      "source": [
        "import numpy as np\r\n",
        "import pylab as pl\r\n",
        "%pylab inline"
      ],
      "execution_count": null,
      "outputs": [
        {
          "output_type": "stream",
          "text": [
            "Populating the interactive namespace from numpy and matplotlib\n"
          ],
          "name": "stdout"
        }
      ]
    },
    {
      "cell_type": "code",
      "metadata": {
        "colab": {
          "base_uri": "https://localhost:8080/"
        },
        "id": "L_c6d5jzT0We",
        "outputId": "d3a67471-0952-493d-9443-4948f95f4c5c"
      },
      "source": [
        "!pip install pillow"
      ],
      "execution_count": null,
      "outputs": [
        {
          "output_type": "stream",
          "text": [
            "Requirement already satisfied: pillow in /usr/local/lib/python3.6/dist-packages (7.0.0)\n"
          ],
          "name": "stdout"
        }
      ]
    },
    {
      "cell_type": "code",
      "metadata": {
        "colab": {
          "base_uri": "https://localhost:8080/"
        },
        "id": "ZfbHUpQOT2Xx",
        "outputId": "8af982f7-56cd-41d1-b23c-25a6a4eae0c8"
      },
      "source": [
        "cd /content/drive/Shareddrives/PUS2020/"
      ],
      "execution_count": null,
      "outputs": [
        {
          "output_type": "stream",
          "text": [
            "/content/drive/Shareddrives/PUS2020\n"
          ],
          "name": "stdout"
        }
      ]
    },
    {
      "cell_type": "code",
      "metadata": {
        "colab": {
          "base_uri": "https://localhost:8080/"
        },
        "id": "0ZFy_NSVUBT8",
        "outputId": "7508913b-a9d5-4109-8126-a7c4a54ca88f"
      },
      "source": [
        "ls"
      ],
      "execution_count": null,
      "outputs": [
        {
          "output_type": "stream",
          "text": [
            " 1-new-york-city-1270751697.jpg\n",
            " Cambodia.jpg\n",
            " classlogo.ipynb\n",
            " cnj.png\n",
            "'Copy of PUS2020 project proposal - midterm.gdoc'\n",
            " ct_shape_MonthlyAve.cpg\n",
            " ct_shape_MonthlyAve.dbf\n",
            " ct_shape_MonthlyAve.shp\n",
            " ct_shape_MonthlyAve.shx\n",
            " \u001b[0m\u001b[01;34mdata\u001b[0m/\n",
            "'Example PUS2020 class quiz.gform'\n",
            " \u001b[01;34mFBBianco_data\u001b[0m/\n",
            " \u001b[01;34mFBianco_data\u001b[0m/\n",
            " Figures_Defense.jpg\n",
            "'fxpq-c8ku?method=export&format=Shapefile'\n",
            " image_lan.jpg\n",
            " imgreconstruct_10000.h5\n",
            " imgreconstruct_10000.h5.1\n",
            " imgreconstruct_10000.h5.2\n",
            " imgreconstruct_10000.h5.3\n",
            " imgreconstruct_10000.h5.4\n",
            " imgreconstruct_10000.h5.5\n",
            " imgreconstruct_10000.h5.6\n",
            " \u001b[01;34minclassquizzes\u001b[0m/\n",
            " Kyungmin.jpg\n",
            " \u001b[01;34m__MACOSX\u001b[0m/\n",
            " manhattan.zip\n",
            " MapPLUTO+2008\n",
            " nyc_mappluto_20v5_shp.zip\n",
            " \u001b[01;34mOutput\u001b[0m/\n",
            " pearson.jpg\n",
            " philadelphia.jpg\n",
            "'PUS2020 CoC and Github repo.gform'\n",
            "'PUS2020 project proposal - midterm.gdoc'\n",
            " \u001b[01;34mspatialindex-src-1.8.5\u001b[0m/\n",
            " testDiffSheets.ipynb\n",
            " tl_2018_10_tract.cpg\n",
            " tl_2018_10_tract.dbf\n",
            " tl_2018_10_tract.prj\n",
            " tl_2018_10_tract.shp\n",
            " tl_2018_10_tract.shp.ea.iso.xml\n",
            " tl_2018_10_tract.shp.iso.xml\n",
            " tl_2018_10_tract.shx\n",
            " tl_2018_10_tract.zip\n",
            " tl_2018_10_tract.zip.1\n",
            " tl_2018_10_tract.zip.2\n",
            " tl_2018_us_county.cpg\n",
            " tl_2018_us_county.dbf\n",
            " tl_2018_us_county.prj\n",
            " tl_2018_us_county.shp\n",
            " tl_2018_us_county.shp.ea.iso.xml\n",
            " tl_2018_us_county.shp.iso.xml\n",
            " tl_2018_us_county.shx\n",
            " tl_2018_us_county.zip\n",
            "'tmp (1).raw'\n",
            " tmp.raw\n",
            "'tqmj-j8zm?method=export&format=Shapefile'\n",
            "'tqmj-j8zm?method=export&format=Shapefile.1'\n",
            " Untitled0.ipynb\n",
            " wilmington.jpg\n",
            " wilmingtonskyline.png\n",
            " yak.jpeg\n"
          ],
          "name": "stdout"
        }
      ]
    },
    {
      "cell_type": "code",
      "metadata": {
        "colab": {
          "base_uri": "https://localhost:8080/"
        },
        "id": "dGH_zarOUQ3e",
        "outputId": "cece6c89-d8bc-4192-9172-588fe8821104"
      },
      "source": [
        "ls data"
      ],
      "execution_count": null,
      "outputs": [
        {
          "output_type": "stream",
          "text": [
            "\u001b[0m\u001b[01;34m'2010 Census Tracts'\u001b[0m/\n",
            " 201903-citibike-tripdata.csv.zip\n",
            " 201904-citibike-tripdata.csv.zip\n",
            " 201905-citibike-tripdata.csv.zip\n",
            " 201906-citibike-tripdata.csv.zip\n",
            " 202003-citibike-tripdata.csv.zip\n",
            " 202004-citibike-tripdata.csv.zip\n",
            " 202005-citibike-tripdata.csv.zip\n",
            " 202006-citibike-tripdata.csv.zip\n",
            " 8230B06B-101B-4DAE-8046CBA2DA056DA6_source.jpg\n",
            " arrest_data_daily_by_zip.csv\n",
            " \u001b[01;34mcitibike\u001b[0m/\n",
            " citibikes_monthly.csv\n",
            " \u001b[01;34mfaces95\u001b[0m/\n",
            " faces.npy\n",
            " igfilters.png\n",
            " imgreconstruct_10000.h5\n",
            " imgreconstruct_5000.h5\n",
            " kalbar_drone_190113-768x512.jpg\n",
            " kalbar_drone_190195.jpg\n",
            " \u001b[01;34mLongitude_Graticules_and_World_Countries_Boundaries-shp\u001b[0m/\n",
            " Madrid.jpg\n",
            " MapPLUTO.cpg\n",
            " MapPLUTO.dbf\n",
            " MapPLUTO.prj\n",
            " MapPLUTO.sbn\n",
            " MapPLUTO.sbx\n",
            " MapPLUTO.shp\n",
            " MapPLUTO.shp.xml\n",
            " MapPLUTO.shx\n",
            " MNMapPLUTO.dbf\n",
            " MNMapPLUTO.prj\n",
            " MNMapPLUTO.sbn\n",
            " MNMapPLUTO.sbx\n",
            " MNMapPLUTO.shp\n",
            " MNMapPLUTO.shp.xml\n",
            " MNMapPLUTO.shx\n",
            " \u001b[01;34mnatural_earth_vector\u001b[0m/\n",
            " New-York-by-Gehry-1-537x368.jpg\n",
            "'Olympic Park.jpeg'\n",
            " philadelphia.jpg\n",
            " PLUTODD20v5.pdf\n",
            " PlutoReadme20v5.pdf\n",
            " PPR_Properties.csv\n",
            " satellite_image_of_los_angeles.jpg\n",
            " testimg.png\n",
            " Varnamesnlabels_m2ihip_R.xlsx\n",
            " Varnamesnlabels_m2ihip.xlsx\n",
            " wde.png\n",
            " wilmington.jpg\n"
          ],
          "name": "stdout"
        }
      ]
    },
    {
      "cell_type": "code",
      "metadata": {
        "id": "JmNfRIwerWEh"
      },
      "source": [
        "##!wget http://www.cl.cam.ac.uk/Research/DTG/attarchive/pub/data/att_faces.zip\r\n",
        "#!unzip faces95.zip"
      ],
      "execution_count": null,
      "outputs": []
    },
    {
      "cell_type": "code",
      "metadata": {
        "colab": {
          "base_uri": "https://localhost:8080/"
        },
        "id": "QVfgxN23URLz",
        "outputId": "f9979813-19ad-4c6e-d684-0e891611fffd"
      },
      "source": [
        "ls data/faces95/"
      ],
      "execution_count": null,
      "outputs": [
        {
          "output_type": "stream",
          "text": [
            "\u001b[0m\u001b[01;34madhast\u001b[0m/        damvo.17.jpg   jserai.5.jpg   ogefen.12.jpg  sgjday.1.jpg\n",
            "adhast.10.jpg  damvo.18.jpg   jserai.6.jpg   ogefen.13.jpg  sgjday.20.jpg\n",
            "adhast.11.jpg  damvo.19.jpg   jserai.7.jpg   ogefen.14.jpg  sgjday.2.jpg\n",
            "adhast.12.jpg  damvo.1.jpg    jserai.8.jpg   ogefen.15.jpg  sgjday.3.jpg\n",
            "adhast.13.jpg  damvo.20.jpg   jserai.9.jpg   ogefen.16.jpg  sgjday.4.jpg\n",
            "adhast.14.jpg  damvo.2.jpg    \u001b[01;34mjshea\u001b[0m/         ogefen.17.jpg  sgjday.5.jpg\n",
            "adhast.15.jpg  damvo.3.jpg    jshea.10.jpg   ogefen.18.jpg  sgjday.6.jpg\n",
            "adhast.16.jpg  damvo.4.jpg    jshea.11.jpg   ogefen.19.jpg  sgjday.7.jpg\n",
            "adhast.17.jpg  damvo.5.jpg    jshea.12.jpg   ogefen.1.jpg   sgjday.8.jpg\n",
            "adhast.18.jpg  damvo.6.jpg    jshea.13.jpg   ogefen.20.jpg  sgjday.9.jpg\n",
            "adhast.19.jpg  damvo.7.jpg    jshea.14.jpg   ogefen.2.jpg   \u001b[01;34msherbe\u001b[0m/\n",
            "adhast.1.jpg   damvo.8.jpg    jshea.15.jpg   ogefen.3.jpg   sherbe.10.jpg\n",
            "adhast.20.jpg  damvo.9.jpg    jshea.16.jpg   ogefen.4.jpg   sherbe.11.jpg\n",
            "adhast.2.jpg   \u001b[01;34mdarda\u001b[0m/         jshea.17.jpg   ogefen.5.jpg   sherbe.12.jpg\n",
            "adhast.3.jpg   darda.10.jpg   jshea.18.jpg   ogefen.6.jpg   sherbe.13.jpg\n",
            "adhast.4.jpg   darda.11.jpg   jshea.19.jpg   ogefen.7.jpg   sherbe.14.jpg\n",
            "adhast.5.jpg   darda.12.jpg   jshea.1.jpg    ogefen.8.jpg   sherbe.15.jpg\n",
            "adhast.6.jpg   darda.13.jpg   jshea.20.jpg   ogefen.9.jpg   sherbe.16.jpg\n",
            "adhast.7.jpg   darda.14.jpg   jshea.2.jpg    \u001b[01;34mpadnor\u001b[0m/        sherbe.17.jpg\n",
            "adhast.8.jpg   darda.15.jpg   jshea.3.jpg    padnor.10.jpg  sherbe.18.jpg\n",
            "adhast.9.jpg   darda.16.jpg   jshea.4.jpg    padnor.11.jpg  sherbe.19.jpg\n",
            "\u001b[01;34majbake\u001b[0m/        darda.17.jpg   jshea.5.jpg    padnor.12.jpg  sherbe.1.jpg\n",
            "ajbake.10.jpg  darda.18.jpg   jshea.6.jpg    padnor.13.jpg  sherbe.20.jpg\n",
            "ajbake.11.jpg  darda.19.jpg   jshea.7.jpg    padnor.14.jpg  sherbe.2.jpg\n",
            "ajbake.12.jpg  darda.1.jpg    jshea.8.jpg    padnor.15.jpg  sherbe.3.jpg\n",
            "ajbake.13.jpg  darda.20.jpg   jshea.9.jpg    padnor.16.jpg  sherbe.4.jpg\n",
            "ajbake.14.jpg  darda.2.jpg    \u001b[01;34mkbartl\u001b[0m/        padnor.17.jpg  sherbe.5.jpg\n",
            "ajbake.15.jpg  darda.3.jpg    kbartl.10.jpg  padnor.18.jpg  sherbe.6.jpg\n",
            "ajbake.16.jpg  darda.4.jpg    kbartl.11.jpg  padnor.19.jpg  sherbe.7.jpg\n",
            "ajbake.17.jpg  darda.5.jpg    kbartl.12.jpg  padnor.1.jpg   sherbe.8.jpg\n",
            "ajbake.18.jpg  darda.6.jpg    kbartl.13.jpg  padnor.20.jpg  sherbe.9.jpg\n",
            "ajbake.19.jpg  darda.7.jpg    kbartl.14.jpg  padnor.2.jpg   \u001b[01;34msimm\u001b[0m/\n",
            "ajbake.1.jpg   darda.8.jpg    kbartl.15.jpg  padnor.3.jpg   simm.10.jpg\n",
            "ajbake.20.jpg  darda.9.jpg    kbartl.16.jpg  padnor.4.jpg   simm.11.jpg\n",
            "ajbake.2.jpg   \u001b[01;34mdfhodd\u001b[0m/        kbartl.17.jpg  padnor.5.jpg   simm.12.jpg\n",
            "ajbake.3.jpg   dfhodd.10.jpg  kbartl.18.jpg  padnor.6.jpg   simm.13.jpg\n",
            "ajbake.4.jpg   dfhodd.11.jpg  kbartl.19.jpg  padnor.7.jpg   simm.14.jpg\n",
            "ajbake.5.jpg   dfhodd.12.jpg  kbartl.1.jpg   padnor.8.jpg   simm.15.jpg\n",
            "ajbake.6.jpg   dfhodd.13.jpg  kbartl.20.jpg  padnor.9.jpg   simm.16.jpg\n",
            "ajbake.7.jpg   dfhodd.14.jpg  kbartl.2.jpg   \u001b[01;34mpajaco\u001b[0m/        simm.17.jpg\n",
            "ajbake.8.jpg   dfhodd.15.jpg  kbartl.3.jpg   pajaco.10.jpg  simm.18.jpg\n",
            "ajbake.9.jpg   dfhodd.16.jpg  kbartl.4.jpg   pajaco.11.jpg  simm.19.jpg\n",
            "\u001b[01;34mapapou\u001b[0m/        dfhodd.17.jpg  kbartl.5.jpg   pajaco.12.jpg  simm.1.jpg\n",
            "apapou.10.jpg  dfhodd.18.jpg  kbartl.6.jpg   pajaco.13.jpg  simm.20.jpg\n",
            "apapou.11.jpg  dfhodd.19.jpg  kbartl.7.jpg   pajaco.14.jpg  simm.2.jpg\n",
            "apapou.12.jpg  dfhodd.1.jpg   kbartl.8.jpg   pajaco.15.jpg  simm.3.jpg\n",
            "apapou.13.jpg  dfhodd.20.jpg  kbartl.9.jpg   pajaco.16.jpg  simm.4.jpg\n",
            "apapou.14.jpg  dfhodd.2.jpg   \u001b[01;34mkmbald\u001b[0m/        pajaco.17.jpg  simm.5.jpg\n",
            "apapou.15.jpg  dfhodd.3.jpg   kmbald.10.jpg  pajaco.18.jpg  simm.6.jpg\n",
            "apapou.16.jpg  dfhodd.4.jpg   kmbald.11.jpg  pajaco.19.jpg  simm.7.jpg\n",
            "apapou.17.jpg  dfhodd.5.jpg   kmbald.12.jpg  pajaco.1.jpg   simm.8.jpg\n",
            "apapou.18.jpg  dfhodd.6.jpg   kmbald.13.jpg  pajaco.20.jpg  simm.9.jpg\n",
            "apapou.19.jpg  dfhodd.7.jpg   kmbald.14.jpg  pajaco.2.jpg   \u001b[01;34msirmcb\u001b[0m/\n",
            "apapou.1.jpg   dfhodd.8.jpg   kmbald.15.jpg  pajaco.3.jpg   sirmcb.10.jpg\n",
            "apapou.20.jpg  dfhodd.9.jpg   kmbald.16.jpg  pajaco.4.jpg   sirmcb.11.jpg\n",
            "apapou.2.jpg   \u001b[01;34mdgemen\u001b[0m/        kmbald.17.jpg  pajaco.5.jpg   sirmcb.12.jpg\n",
            "apapou.3.jpg   dgemen.10.jpg  kmbald.18.jpg  pajaco.6.jpg   sirmcb.13.jpg\n",
            "apapou.4.jpg   dgemen.11.jpg  kmbald.19.jpg  pajaco.7.jpg   sirmcb.14.jpg\n",
            "apapou.5.jpg   dgemen.12.jpg  kmbald.1.jpg   pajaco.8.jpg   sirmcb.15.jpg\n",
            "apapou.6.jpg   dgemen.13.jpg  kmbald.20.jpg  pajaco.9.jpg   sirmcb.16.jpg\n",
            "apapou.7.jpg   dgemen.14.jpg  kmbald.2.jpg   \u001b[01;34mpapad\u001b[0m/         sirmcb.17.jpg\n",
            "apapou.8.jpg   dgemen.15.jpg  kmbald.3.jpg   papad.10.jpg   sirmcb.18.jpg\n",
            "apapou.9.jpg   dgemen.16.jpg  kmbald.4.jpg   papad.11.jpg   sirmcb.19.jpg\n",
            "\u001b[01;34mapdavi\u001b[0m/        dgemen.17.jpg  kmbald.5.jpg   papad.12.jpg   sirmcb.1.jpg\n",
            "apdavi.10.jpg  dgemen.18.jpg  kmbald.6.jpg   papad.13.jpg   sirmcb.20.jpg\n",
            "apdavi.11.jpg  dgemen.19.jpg  kmbald.7.jpg   papad.14.jpg   sirmcb.2.jpg\n",
            "apdavi.12.jpg  dgemen.1.jpg   kmbald.8.jpg   papad.15.jpg   sirmcb.3.jpg\n",
            "apdavi.13.jpg  dgemen.20.jpg  kmbald.9.jpg   papad.16.jpg   sirmcb.4.jpg\n",
            "apdavi.14.jpg  dgemen.2.jpg   \u001b[01;34mkouri\u001b[0m/         papad.17.jpg   sirmcb.5.jpg\n",
            "apdavi.15.jpg  dgemen.3.jpg   kouri.10.jpg   papad.18.jpg   sirmcb.6.jpg\n",
            "apdavi.16.jpg  dgemen.4.jpg   kouri.11.jpg   papad.19.jpg   sirmcb.7.jpg\n",
            "apdavi.17.jpg  dgemen.5.jpg   kouri.12.jpg   papad.1.jpg    sirmcb.8.jpg\n",
            "apdavi.18.jpg  dgemen.6.jpg   kouri.13.jpg   papad.20.jpg   sirmcb.9.jpg\n",
            "apdavi.19.jpg  dgemen.7.jpg   kouri.14.jpg   papad.2.jpg    \u001b[01;34msjcutt\u001b[0m/\n",
            "apdavi.1.jpg   dgemen.8.jpg   kouri.15.jpg   papad.3.jpg    sjcutt.10.jpg\n",
            "apdavi.20.jpg  dgemen.9.jpg   kouri.16.jpg   papad.4.jpg    sjcutt.11.jpg\n",
            "apdavi.2.jpg   \u001b[01;34mgsmall\u001b[0m/        kouri.17.jpg   papad.5.jpg    sjcutt.12.jpg\n",
            "apdavi.3.jpg   gsmall.10.jpg  kouri.18.jpg   papad.6.jpg    sjcutt.13.jpg\n",
            "apdavi.4.jpg   gsmall.11.jpg  kouri.19.jpg   papad.7.jpg    sjcutt.14.jpg\n",
            "apdavi.5.jpg   gsmall.12.jpg  kouri.1.jpg    papad.8.jpg    sjcutt.15.jpg\n",
            "apdavi.6.jpg   gsmall.13.jpg  kouri.20.jpg   papad.9.jpg    sjcutt.16.jpg\n",
            "apdavi.7.jpg   gsmall.14.jpg  kouri.2.jpg    \u001b[01;34mpcfry\u001b[0m/         sjcutt.17.jpg\n",
            "apdavi.8.jpg   gsmall.15.jpg  kouri.3.jpg    pcfry.10.jpg   sjcutt.18.jpg\n",
            "apdavi.9.jpg   gsmall.16.jpg  kouri.4.jpg    pcfry.11.jpg   sjcutt.19.jpg\n",
            "\u001b[01;34mardper\u001b[0m/        gsmall.17.jpg  kouri.5.jpg    pcfry.12.jpg   sjcutt.1.jpg\n",
            "ardper.10.jpg  gsmall.18.jpg  kouri.6.jpg    pcfry.13.jpg   sjcutt.20.jpg\n",
            "ardper.11.jpg  gsmall.19.jpg  kouri.7.jpg    pcfry.14.jpg   sjcutt.2.jpg\n",
            "ardper.12.jpg  gsmall.1.jpg   kouri.8.jpg    pcfry.15.jpg   sjcutt.3.jpg\n",
            "ardper.13.jpg  gsmall.20.jpg  kouri.9.jpg    pcfry.16.jpg   sjcutt.4.jpg\n",
            "ardper.14.jpg  gsmall.2.jpg   \u001b[01;34mlabenm\u001b[0m/        pcfry.17.jpg   sjcutt.5.jpg\n",
            "ardper.15.jpg  gsmall.3.jpg   labenm.10.jpg  pcfry.18.jpg   sjcutt.6.jpg\n",
            "ardper.16.jpg  gsmall.4.jpg   labenm.11.jpg  pcfry.19.jpg   sjcutt.7.jpg\n",
            "ardper.17.jpg  gsmall.5.jpg   labenm.12.jpg  pcfry.1.jpg    sjcutt.8.jpg\n",
            "ardper.18.jpg  gsmall.6.jpg   labenm.13.jpg  pcfry.20.jpg   sjcutt.9.jpg\n",
            "ardper.19.jpg  gsmall.7.jpg   labenm.14.jpg  pcfry.2.jpg    \u001b[01;34msjkill\u001b[0m/\n",
            "ardper.1.jpg   gsmall.8.jpg   labenm.15.jpg  pcfry.3.jpg    sjkill.10.jpg\n",
            "ardper.20.jpg  gsmall.9.jpg   labenm.16.jpg  pcfry.4.jpg    sjkill.11.jpg\n",
            "ardper.2.jpg   \u001b[01;34mgstamo\u001b[0m/        labenm.17.jpg  pcfry.5.jpg    sjkill.12.jpg\n",
            "ardper.3.jpg   gstamo.10.jpg  labenm.18.jpg  pcfry.6.jpg    sjkill.13.jpg\n",
            "ardper.4.jpg   gstamo.11.jpg  labenm.19.jpg  pcfry.7.jpg    sjkill.14.jpg\n",
            "ardper.5.jpg   gstamo.12.jpg  labenm.1.jpg   pcfry.8.jpg    sjkill.15.jpg\n",
            "ardper.6.jpg   gstamo.13.jpg  labenm.20.jpg  pcfry.9.jpg    sjkill.16.jpg\n",
            "ardper.7.jpg   gstamo.14.jpg  labenm.2.jpg   \u001b[01;34mpears\u001b[0m/         sjkill.17.jpg\n",
            "ardper.8.jpg   gstamo.15.jpg  labenm.3.jpg   pears.10.jpg   sjkill.18.jpg\n",
            "ardper.9.jpg   gstamo.16.jpg  labenm.4.jpg   pears.11.jpg   sjkill.19.jpg\n",
            "\u001b[01;34mawjsud\u001b[0m/        gstamo.17.jpg  labenm.5.jpg   pears.12.jpg   sjkill.1.jpg\n",
            "awjsud.10.jpg  gstamo.18.jpg  labenm.6.jpg   pears.13.jpg   sjkill.20.jpg\n",
            "awjsud.11.jpg  gstamo.19.jpg  labenm.7.jpg   pears.14.jpg   sjkill.2.jpg\n",
            "awjsud.12.jpg  gstamo.1.jpg   labenm.8.jpg   pears.15.jpg   sjkill.3.jpg\n",
            "awjsud.13.jpg  gstamo.20.jpg  labenm.9.jpg   pears.16.jpg   sjkill.4.jpg\n",
            "awjsud.14.jpg  gstamo.2.jpg   \u001b[01;34mldgodd\u001b[0m/        pears.17.jpg   sjkill.5.jpg\n",
            "awjsud.15.jpg  gstamo.3.jpg   ldgodd.10.jpg  pears.18.jpg   sjkill.6.jpg\n",
            "awjsud.16.jpg  gstamo.4.jpg   ldgodd.11.jpg  pears.19.jpg   sjkill.7.jpg\n",
            "awjsud.17.jpg  gstamo.5.jpg   ldgodd.12.jpg  pears.1.jpg    sjkill.8.jpg\n",
            "awjsud.18.jpg  gstamo.6.jpg   ldgodd.13.jpg  pears.20.jpg   sjkill.9.jpg\n",
            "awjsud.19.jpg  gstamo.7.jpg   ldgodd.14.jpg  pears.2.jpg    \u001b[01;34msjpalm\u001b[0m/\n",
            "awjsud.1.jpg   gstamo.8.jpg   ldgodd.15.jpg  pears.3.jpg    sjpalm.10.jpg\n",
            "awjsud.20.jpg  gstamo.9.jpg   ldgodd.16.jpg  pears.4.jpg    sjpalm.11.jpg\n",
            "awjsud.2.jpg   \u001b[01;34mgsvird\u001b[0m/        ldgodd.17.jpg  pears.5.jpg    sjpalm.12.jpg\n",
            "awjsud.3.jpg   gsvird.10.jpg  ldgodd.18.jpg  pears.6.jpg    sjpalm.13.jpg\n",
            "awjsud.4.jpg   gsvird.11.jpg  ldgodd.19.jpg  pears.7.jpg    sjpalm.14.jpg\n",
            "awjsud.5.jpg   gsvird.12.jpg  ldgodd.1.jpg   pears.8.jpg    sjpalm.15.jpg\n",
            "awjsud.6.jpg   gsvird.13.jpg  ldgodd.20.jpg  pears.9.jpg    sjpalm.16.jpg\n",
            "awjsud.7.jpg   gsvird.14.jpg  ldgodd.2.jpg   \u001b[01;34mpjrand\u001b[0m/        sjpalm.17.jpg\n",
            "awjsud.8.jpg   gsvird.15.jpg  ldgodd.3.jpg   pjrand.10.jpg  sjpalm.18.jpg\n",
            "awjsud.9.jpg   gsvird.16.jpg  ldgodd.4.jpg   pjrand.11.jpg  sjpalm.19.jpg\n",
            "\u001b[01;34mboylee\u001b[0m/        gsvird.17.jpg  ldgodd.5.jpg   pjrand.12.jpg  sjpalm.1.jpg\n",
            "boylee.10.jpg  gsvird.18.jpg  ldgodd.6.jpg   pjrand.13.jpg  sjpalm.20.jpg\n",
            "boylee.11.jpg  gsvird.19.jpg  ldgodd.7.jpg   pjrand.14.jpg  sjpalm.2.jpg\n",
            "boylee.12.jpg  gsvird.1.jpg   ldgodd.8.jpg   pjrand.15.jpg  sjpalm.3.jpg\n",
            "boylee.13.jpg  gsvird.20.jpg  ldgodd.9.jpg   pjrand.16.jpg  sjpalm.4.jpg\n",
            "boylee.14.jpg  gsvird.2.jpg   \u001b[01;34mlidov\u001b[0m/         pjrand.17.jpg  sjpalm.5.jpg\n",
            "boylee.15.jpg  gsvird.3.jpg   lidov.10.jpg   pjrand.18.jpg  sjpalm.6.jpg\n",
            "boylee.16.jpg  gsvird.4.jpg   lidov.11.jpg   pjrand.19.jpg  sjpalm.7.jpg\n",
            "boylee.17.jpg  gsvird.5.jpg   lidov.12.jpg   pjrand.1.jpg   sjpalm.8.jpg\n",
            "boylee.18.jpg  gsvird.6.jpg   lidov.13.jpg   pjrand.20.jpg  sjpalm.9.jpg\n",
            "boylee.19.jpg  gsvird.7.jpg   lidov.14.jpg   pjrand.2.jpg   \u001b[01;34msmille\u001b[0m/\n",
            "boylee.1.jpg   gsvird.8.jpg   lidov.15.jpg   pjrand.3.jpg   smille.10.jpg\n",
            "boylee.20.jpg  gsvird.9.jpg   lidov.16.jpg   pjrand.4.jpg   smille.11.jpg\n",
            "boylee.2.jpg   \u001b[01;34mhcarpe\u001b[0m/        lidov.17.jpg   pjrand.5.jpg   smille.12.jpg\n",
            "boylee.3.jpg   hcarpe.10.jpg  lidov.18.jpg   pjrand.6.jpg   smille.13.jpg\n",
            "boylee.4.jpg   hcarpe.11.jpg  lidov.19.jpg   pjrand.7.jpg   smille.14.jpg\n",
            "boylee.5.jpg   hcarpe.12.jpg  lidov.1.jpg    pjrand.8.jpg   smille.15.jpg\n",
            "boylee.6.jpg   hcarpe.13.jpg  lidov.20.jpg   pjrand.9.jpg   smille.16.jpg\n",
            "boylee.7.jpg   hcarpe.14.jpg  lidov.2.jpg    \u001b[01;34mrafox\u001b[0m/         smille.17.jpg\n",
            "boylee.8.jpg   hcarpe.15.jpg  lidov.3.jpg    rafox.10.jpg   smille.18.jpg\n",
            "boylee.9.jpg   hcarpe.16.jpg  lidov.4.jpg    rafox.11.jpg   smille.19.jpg\n",
            "\u001b[01;34mbschap\u001b[0m/        hcarpe.17.jpg  lidov.5.jpg    rafox.12.jpg   smille.1.jpg\n",
            "bschap.10.jpg  hcarpe.18.jpg  lidov.6.jpg    rafox.13.jpg   smille.20.jpg\n",
            "bschap.11.jpg  hcarpe.19.jpg  lidov.7.jpg    rafox.14.jpg   smille.2.jpg\n",
            "bschap.12.jpg  hcarpe.1.jpg   lidov.8.jpg    rafox.15.jpg   smille.3.jpg\n",
            "bschap.13.jpg  hcarpe.20.jpg  lidov.9.jpg    rafox.16.jpg   smille.4.jpg\n",
            "bschap.14.jpg  hcarpe.2.jpg   \u001b[01;34mllambr\u001b[0m/        rafox.17.jpg   smille.5.jpg\n",
            "bschap.15.jpg  hcarpe.3.jpg   llambr.10.jpg  rafox.18.jpg   smille.6.jpg\n",
            "bschap.16.jpg  hcarpe.4.jpg   llambr.11.jpg  rafox.19.jpg   smille.7.jpg\n",
            "bschap.17.jpg  hcarpe.5.jpg   llambr.12.jpg  rafox.1.jpg    smille.8.jpg\n",
            "bschap.18.jpg  hcarpe.6.jpg   llambr.13.jpg  rafox.20.jpg   smille.9.jpg\n",
            "bschap.19.jpg  hcarpe.7.jpg   llambr.14.jpg  rafox.2.jpg    \u001b[01;34mtheoc\u001b[0m/\n",
            "bschap.1.jpg   hcarpe.8.jpg   llambr.15.jpg  rafox.3.jpg    theoc.10.jpg\n",
            "bschap.20.jpg  hcarpe.9.jpg   llambr.16.jpg  rafox.4.jpg    theoc.11.jpg\n",
            "bschap.2.jpg   \u001b[01;34mhowar\u001b[0m/         llambr.17.jpg  rafox.5.jpg    theoc.12.jpg\n",
            "bschap.3.jpg   howar.10.jpg   llambr.18.jpg  rafox.6.jpg    theoc.13.jpg\n",
            "bschap.4.jpg   howar.11.jpg   llambr.19.jpg  rafox.7.jpg    theoc.14.jpg\n",
            "bschap.5.jpg   howar.12.jpg   llambr.1.jpg   rafox.8.jpg    theoc.15.jpg\n",
            "bschap.6.jpg   howar.13.jpg   llambr.20.jpg  rafox.9.jpg    theoc.16.jpg\n",
            "bschap.7.jpg   howar.14.jpg   llambr.2.jpg   \u001b[01;34mrhaitk\u001b[0m/        theoc.17.jpg\n",
            "bschap.8.jpg   howar.15.jpg   llambr.3.jpg   rhaitk.10.jpg  theoc.18.jpg\n",
            "bschap.9.jpg   howar.16.jpg   llambr.4.jpg   rhaitk.11.jpg  theoc.19.jpg\n",
            "\u001b[01;34mcadugd\u001b[0m/        howar.17.jpg   llambr.5.jpg   rhaitk.12.jpg  theoc.1.jpg\n",
            "cadugd.10.jpg  howar.18.jpg   llambr.6.jpg   rhaitk.13.jpg  theoc.20.jpg\n",
            "cadugd.11.jpg  howar.19.jpg   llambr.7.jpg   rhaitk.14.jpg  theoc.2.jpg\n",
            "cadugd.12.jpg  howar.1.jpg    llambr.8.jpg   rhaitk.15.jpg  theoc.3.jpg\n",
            "cadugd.13.jpg  howar.20.jpg   llambr.9.jpg   rhaitk.16.jpg  theoc.4.jpg\n",
            "cadugd.14.jpg  howar.2.jpg    \u001b[01;34mmatth\u001b[0m/         rhaitk.17.jpg  theoc.5.jpg\n",
            "cadugd.15.jpg  howar.3.jpg    matth.10.jpg   rhaitk.18.jpg  theoc.6.jpg\n",
            "cadugd.16.jpg  howar.4.jpg    matth.11.jpg   rhaitk.19.jpg  theoc.7.jpg\n",
            "cadugd.17.jpg  howar.5.jpg    matth.12.jpg   rhaitk.1.jpg   theoc.8.jpg\n",
            "cadugd.18.jpg  howar.6.jpg    matth.13.jpg   rhaitk.20.jpg  theoc.9.jpg\n",
            "cadugd.19.jpg  howar.7.jpg    matth.14.jpg   rhaitk.2.jpg   \u001b[01;34mtheod\u001b[0m/\n",
            "cadugd.1.jpg   howar.8.jpg    matth.15.jpg   rhaitk.3.jpg   theod.10.jpg\n",
            "cadugd.20.jpg  howar.9.jpg    matth.16.jpg   rhaitk.4.jpg   theod.11.jpg\n",
            "cadugd.2.jpg   \u001b[01;34mhsgrim\u001b[0m/        matth.17.jpg   rhaitk.5.jpg   theod.12.jpg\n",
            "cadugd.3.jpg   hsgrim.10.jpg  matth.18.jpg   rhaitk.6.jpg   theod.13.jpg\n",
            "cadugd.4.jpg   hsgrim.11.jpg  matth.19.jpg   rhaitk.7.jpg   theod.14.jpg\n",
            "cadugd.5.jpg   hsgrim.12.jpg  matth.1.jpg    rhaitk.8.jpg   theod.15.jpg\n",
            "cadugd.6.jpg   hsgrim.13.jpg  matth.20.jpg   rhaitk.9.jpg   theod.16.jpg\n",
            "cadugd.7.jpg   hsgrim.14.jpg  matth.2.jpg    \u001b[01;34mrhnorm\u001b[0m/        theod.17.jpg\n",
            "cadugd.8.jpg   hsgrim.15.jpg  matth.3.jpg    rhnorm.10.jpg  theod.18.jpg\n",
            "cadugd.9.jpg   hsgrim.16.jpg  matth.4.jpg    rhnorm.11.jpg  theod.19.jpg\n",
            "\u001b[01;34mcdlarg\u001b[0m/        hsgrim.17.jpg  matth.5.jpg    rhnorm.12.jpg  theod.1.jpg\n",
            "cdlarg.10.jpg  hsgrim.18.jpg  matth.6.jpg    rhnorm.13.jpg  theod.20.jpg\n",
            "cdlarg.11.jpg  hsgrim.19.jpg  matth.7.jpg    rhnorm.14.jpg  theod.2.jpg\n",
            "cdlarg.12.jpg  hsgrim.1.jpg   matth.8.jpg    rhnorm.15.jpg  theod.3.jpg\n",
            "cdlarg.13.jpg  hsgrim.20.jpg  matth.9.jpg    rhnorm.16.jpg  theod.4.jpg\n",
            "cdlarg.14.jpg  hsgrim.2.jpg   \u001b[01;34mmdchud\u001b[0m/        rhnorm.17.jpg  theod.5.jpg\n",
            "cdlarg.15.jpg  hsgrim.3.jpg   mdchud.10.jpg  rhnorm.18.jpg  theod.6.jpg\n",
            "cdlarg.16.jpg  hsgrim.4.jpg   mdchud.11.jpg  rhnorm.19.jpg  theod.7.jpg\n",
            "cdlarg.17.jpg  hsgrim.5.jpg   mdchud.12.jpg  rhnorm.1.jpg   theod.8.jpg\n",
            "cdlarg.18.jpg  hsgrim.6.jpg   mdchud.13.jpg  rhnorm.20.jpg  theod.9.jpg\n",
            "cdlarg.19.jpg  hsgrim.7.jpg   mdchud.14.jpg  rhnorm.2.jpg   \u001b[01;34mthgear\u001b[0m/\n",
            "cdlarg.1.jpg   hsgrim.8.jpg   mdchud.15.jpg  rhnorm.3.jpg   thgear.10.jpg\n",
            "cdlarg.20.jpg  hsgrim.9.jpg   mdchud.16.jpg  rhnorm.4.jpg   thgear.11.jpg\n",
            "cdlarg.2.jpg   \u001b[01;34mijfran\u001b[0m/        mdchud.17.jpg  rhnorm.5.jpg   thgear.12.jpg\n",
            "cdlarg.3.jpg   ijfran.10.jpg  mdchud.18.jpg  rhnorm.6.jpg   thgear.13.jpg\n",
            "cdlarg.4.jpg   ijfran.11.jpg  mdchud.19.jpg  rhnorm.7.jpg   thgear.14.jpg\n",
            "cdlarg.5.jpg   ijfran.12.jpg  mdchud.1.jpg   rhnorm.8.jpg   thgear.15.jpg\n",
            "cdlarg.6.jpg   ijfran.13.jpg  mdchud.20.jpg  rhnorm.9.jpg   thgear.16.jpg\n",
            "cdlarg.7.jpg   ijfran.14.jpg  mdchud.2.jpg   \u001b[01;34mriphil\u001b[0m/        thgear.17.jpg\n",
            "cdlarg.8.jpg   ijfran.15.jpg  mdchud.3.jpg   riphil.10.jpg  thgear.18.jpg\n",
            "cdlarg.9.jpg   ijfran.16.jpg  mdchud.4.jpg   riphil.11.jpg  thgear.19.jpg\n",
            "\u001b[01;34mcfloro\u001b[0m/        ijfran.17.jpg  mdchud.5.jpg   riphil.12.jpg  thgear.1.jpg\n",
            "cfloro.10.jpg  ijfran.18.jpg  mdchud.6.jpg   riphil.13.jpg  thgear.20.jpg\n",
            "cfloro.11.jpg  ijfran.19.jpg  mdchud.7.jpg   riphil.14.jpg  thgear.2.jpg\n",
            "cfloro.12.jpg  ijfran.1.jpg   mdchud.8.jpg   riphil.15.jpg  thgear.3.jpg\n",
            "cfloro.13.jpg  ijfran.20.jpg  mdchud.9.jpg   riphil.16.jpg  thgear.4.jpg\n",
            "cfloro.14.jpg  ijfran.2.jpg   \u001b[01;34mmizli\u001b[0m/         riphil.17.jpg  thgear.5.jpg\n",
            "cfloro.15.jpg  ijfran.3.jpg   mizli.10.jpg   riphil.18.jpg  thgear.6.jpg\n",
            "cfloro.16.jpg  ijfran.4.jpg   mizli.11.jpg   riphil.19.jpg  thgear.7.jpg\n",
            "cfloro.17.jpg  ijfran.5.jpg   mizli.12.jpg   riphil.1.jpg   thgear.8.jpg\n",
            "cfloro.18.jpg  ijfran.6.jpg   mizli.13.jpg   riphil.20.jpg  thgear.9.jpg\n",
            "cfloro.19.jpg  ijfran.7.jpg   mizli.14.jpg   riphil.2.jpg   tjdyke.10.jpg\n",
            "cfloro.1.jpg   ijfran.8.jpg   mizli.15.jpg   riphil.3.jpg   tjdyke.11.jpg\n",
            "cfloro.20.jpg  ijfran.9.jpg   mizli.16.jpg   riphil.4.jpg   tjdyke.12.jpg\n",
            "cfloro.2.jpg   \u001b[01;34misbald\u001b[0m/        mizli.17.jpg   riphil.5.jpg   tjdyke.13.jpg\n",
            "cfloro.3.jpg   isbald.10.jpg  mizli.18.jpg   riphil.6.jpg   tjdyke.14.jpg\n",
            "cfloro.4.jpg   isbald.11.jpg  mizli.19.jpg   riphil.7.jpg   tjdyke.15.jpg\n",
            "cfloro.5.jpg   isbald.12.jpg  mizli.1.jpg    riphil.8.jpg   tjdyke.16.jpg\n",
            "cfloro.6.jpg   isbald.13.jpg  mizli.20.jpg   riphil.9.jpg   tjdyke.17.jpg\n",
            "cfloro.7.jpg   isbald.14.jpg  mizli.2.jpg    \u001b[01;34mrjdunc\u001b[0m/        tjdyke.18.jpg\n",
            "cfloro.8.jpg   isbald.15.jpg  mizli.3.jpg    rjdunc.10.jpg  tjdyke.19.jpg\n",
            "cfloro.9.jpg   isbald.16.jpg  mizli.4.jpg    rjdunc.11.jpg  tjdyke.1.jpg\n",
            "\u001b[01;34mcladam\u001b[0m/        isbald.17.jpg  mizli.5.jpg    rjdunc.12.jpg  tjdyke.20.jpg\n",
            "cladam.10.jpg  isbald.18.jpg  mizli.6.jpg    rjdunc.13.jpg  tjdyke.2.jpg\n",
            "cladam.11.jpg  isbald.19.jpg  mizli.7.jpg    rjdunc.14.jpg  tjdyke.3.jpg\n",
            "cladam.12.jpg  isbald.1.jpg   mizli.8.jpg    rjdunc.15.jpg  tjdyke.4.jpg\n",
            "cladam.13.jpg  isbald.20.jpg  mizli.9.jpg    rjdunc.16.jpg  tjdyke.5.jpg\n",
            "cladam.14.jpg  isbald.2.jpg   \u001b[01;34mmkosto\u001b[0m/        rjdunc.17.jpg  tjdyke.6.jpg\n",
            "cladam.15.jpg  isbald.3.jpg   mkosto.10.jpg  rjdunc.18.jpg  tjdyke.7.jpg\n",
            "cladam.16.jpg  isbald.4.jpg   mkosto.11.jpg  rjdunc.19.jpg  tjdyke.8.jpg\n",
            "cladam.17.jpg  isbald.5.jpg   mkosto.12.jpg  rjdunc.1.jpg   tjdyke.9.jpg\n",
            "cladam.18.jpg  isbald.6.jpg   mkosto.13.jpg  rjdunc.20.jpg  vanta.10.jpg\n",
            "cladam.19.jpg  isbald.7.jpg   mkosto.14.jpg  rjdunc.2.jpg   vanta.11.jpg\n",
            "cladam.1.jpg   isbald.8.jpg   mkosto.15.jpg  rjdunc.3.jpg   vanta.12.jpg\n",
            "cladam.20.jpg  isbald.9.jpg   mkosto.16.jpg  rjdunc.4.jpg   vanta.13.jpg\n",
            "cladam.2.jpg   \u001b[01;34mjbierl\u001b[0m/        mkosto.17.jpg  rjdunc.5.jpg   vanta.14.jpg\n",
            "cladam.3.jpg   jbierl.10.jpg  mkosto.18.jpg  rjdunc.6.jpg   vanta.15.jpg\n",
            "cladam.4.jpg   jbierl.11.jpg  mkosto.19.jpg  rjdunc.7.jpg   vanta.16.jpg\n",
            "cladam.5.jpg   jbierl.12.jpg  mkosto.1.jpg   rjdunc.8.jpg   vanta.17.jpg\n",
            "cladam.6.jpg   jbierl.13.jpg  mkosto.20.jpg  rjdunc.9.jpg   vanta.18.jpg\n",
            "cladam.7.jpg   jbierl.14.jpg  mkosto.2.jpg   \u001b[01;34msapere\u001b[0m/        vanta.19.jpg\n",
            "cladam.8.jpg   jbierl.15.jpg  mkosto.3.jpg   sapere.10.jpg  vanta.1.jpg\n",
            "cladam.9.jpg   jbierl.16.jpg  mkosto.4.jpg   sapere.11.jpg  vanta.20.jpg\n",
            "\u001b[01;34mcywan\u001b[0m/         jbierl.17.jpg  mkosto.5.jpg   sapere.12.jpg  vanta.2.jpg\n",
            "cywan.10.jpg   jbierl.18.jpg  mkosto.6.jpg   sapere.13.jpg  vanta.3.jpg\n",
            "cywan.11.jpg   jbierl.19.jpg  mkosto.7.jpg   sapere.14.jpg  vanta.4.jpg\n",
            "cywan.12.jpg   jbierl.1.jpg   mkosto.8.jpg   sapere.15.jpg  vanta.5.jpg\n",
            "cywan.13.jpg   jbierl.20.jpg  mkosto.9.jpg   sapere.16.jpg  vanta.6.jpg\n",
            "cywan.14.jpg   jbierl.2.jpg   \u001b[01;34mmrhami\u001b[0m/        sapere.17.jpg  vanta.7.jpg\n",
            "cywan.15.jpg   jbierl.3.jpg   mrhami.10.jpg  sapere.18.jpg  vanta.8.jpg\n",
            "cywan.16.jpg   jbierl.4.jpg   mrhami.11.jpg  sapere.19.jpg  vanta.9.jpg\n",
            "cywan.17.jpg   jbierl.5.jpg   mrhami.12.jpg  sapere.1.jpg   virvi.10.jpg\n",
            "cywan.18.jpg   jbierl.6.jpg   mrhami.13.jpg  sapere.20.jpg  virvi.11.jpg\n",
            "cywan.19.jpg   jbierl.7.jpg   mrhami.14.jpg  sapere.2.jpg   virvi.12.jpg\n",
            "cywan.1.jpg    jbierl.8.jpg   mrhami.15.jpg  sapere.3.jpg   virvi.13.jpg\n",
            "cywan.20.jpg   jbierl.9.jpg   mrhami.16.jpg  sapere.4.jpg   virvi.14.jpg\n",
            "cywan.2.jpg    \u001b[01;34mjross\u001b[0m/         mrhami.17.jpg  sapere.5.jpg   virvi.15.jpg\n",
            "cywan.3.jpg    jross.10.jpg   mrhami.18.jpg  sapere.6.jpg   virvi.16.jpg\n",
            "cywan.4.jpg    jross.11.jpg   mrhami.19.jpg  sapere.7.jpg   virvi.17.jpg\n",
            "cywan.5.jpg    jross.12.jpg   mrhami.1.jpg   sapere.8.jpg   virvi.18.jpg\n",
            "cywan.6.jpg    jross.13.jpg   mrhami.20.jpg  sapere.9.jpg   virvi.19.jpg\n",
            "cywan.7.jpg    jross.14.jpg   mrhami.2.jpg   \u001b[01;34msdwall\u001b[0m/        virvi.1.jpg\n",
            "cywan.8.jpg    jross.15.jpg   mrhami.3.jpg   sdwall.10.jpg  virvi.20.jpg\n",
            "cywan.9.jpg    jross.16.jpg   mrhami.4.jpg   sdwall.11.jpg  virvi.2.jpg\n",
            "\u001b[01;34mdakram\u001b[0m/        jross.17.jpg   mrhami.5.jpg   sdwall.12.jpg  virvi.3.jpg\n",
            "dakram.10.jpg  jross.18.jpg   mrhami.6.jpg   sdwall.13.jpg  virvi.4.jpg\n",
            "dakram.11.jpg  jross.19.jpg   mrhami.7.jpg   sdwall.14.jpg  virvi.5.jpg\n",
            "dakram.12.jpg  jross.1.jpg    mrhami.8.jpg   sdwall.15.jpg  virvi.6.jpg\n",
            "dakram.13.jpg  jross.20.jpg   mrhami.9.jpg   sdwall.16.jpg  virvi.7.jpg\n",
            "dakram.14.jpg  jross.2.jpg    \u001b[01;34mnamart\u001b[0m/        sdwall.17.jpg  virvi.8.jpg\n",
            "dakram.15.jpg  jross.3.jpg    namart.10.jpg  sdwall.18.jpg  virvi.9.jpg\n",
            "dakram.16.jpg  jross.4.jpg    namart.11.jpg  sdwall.19.jpg  wjhugh.10.jpg\n",
            "dakram.17.jpg  jross.5.jpg    namart.12.jpg  sdwall.1.jpg   wjhugh.11.jpg\n",
            "dakram.18.jpg  jross.6.jpg    namart.13.jpg  sdwall.20.jpg  wjhugh.12.jpg\n",
            "dakram.19.jpg  jross.7.jpg    namart.14.jpg  sdwall.2.jpg   wjhugh.13.jpg\n",
            "dakram.1.jpg   jross.8.jpg    namart.15.jpg  sdwall.3.jpg   wjhugh.14.jpg\n",
            "dakram.20.jpg  jross.9.jpg    namart.16.jpg  sdwall.4.jpg   wjhugh.15.jpg\n",
            "dakram.2.jpg   \u001b[01;34mjserai\u001b[0m/        namart.17.jpg  sdwall.5.jpg   wjhugh.16.jpg\n",
            "dakram.3.jpg   jserai.10.jpg  namart.18.jpg  sdwall.6.jpg   wjhugh.17.jpg\n",
            "dakram.4.jpg   jserai.11.jpg  namart.19.jpg  sdwall.7.jpg   wjhugh.18.jpg\n",
            "dakram.5.jpg   jserai.12.jpg  namart.1.jpg   sdwall.8.jpg   wjhugh.19.jpg\n",
            "dakram.6.jpg   jserai.13.jpg  namart.20.jpg  sdwall.9.jpg   wjhugh.1.jpg\n",
            "dakram.7.jpg   jserai.14.jpg  namart.2.jpg   \u001b[01;34msgjday\u001b[0m/        wjhugh.20.jpg\n",
            "dakram.8.jpg   jserai.15.jpg  namart.3.jpg   sgjday.10.jpg  wjhugh.2.jpg\n",
            "dakram.9.jpg   jserai.16.jpg  namart.4.jpg   sgjday.11.jpg  wjhugh.3.jpg\n",
            "\u001b[01;34mdamvo\u001b[0m/         jserai.17.jpg  namart.5.jpg   sgjday.12.jpg  wjhugh.4.jpg\n",
            "damvo.10.jpg   jserai.18.jpg  namart.6.jpg   sgjday.13.jpg  wjhugh.5.jpg\n",
            "damvo.11.jpg   jserai.19.jpg  namart.7.jpg   sgjday.14.jpg  wjhugh.6.jpg\n",
            "damvo.12.jpg   jserai.1.jpg   namart.8.jpg   sgjday.15.jpg  wjhugh.7.jpg\n",
            "damvo.13.jpg   jserai.20.jpg  namart.9.jpg   sgjday.16.jpg  wjhugh.8.jpg\n",
            "damvo.14.jpg   jserai.2.jpg   \u001b[01;34mogefen\u001b[0m/        sgjday.17.jpg  wjhugh.9.jpg\n",
            "damvo.15.jpg   jserai.3.jpg   ogefen.10.jpg  sgjday.18.jpg\n",
            "damvo.16.jpg   jserai.4.jpg   ogefen.11.jpg  sgjday.19.jpg\n"
          ],
          "name": "stdout"
        }
      ]
    },
    {
      "cell_type": "code",
      "metadata": {
        "colab": {
          "base_uri": "https://localhost:8080/"
        },
        "id": "j9m8vkQ2UReG",
        "outputId": "cd0f5393-e0ea-4c46-c5f5-7941e906acb9"
      },
      "source": [
        "glob.glob(\"data/faces95/*jpg\")"
      ],
      "execution_count": null,
      "outputs": [
        {
          "output_type": "execute_result",
          "data": {
            "text/plain": [
              "['data/faces95/jross.9.jpg',\n",
              " 'data/faces95/jross.10.jpg',\n",
              " 'data/faces95/jross.11.jpg',\n",
              " 'data/faces95/jross.12.jpg',\n",
              " 'data/faces95/jross.13.jpg',\n",
              " 'data/faces95/jross.14.jpg',\n",
              " 'data/faces95/jross.15.jpg',\n",
              " 'data/faces95/jross.16.jpg',\n",
              " 'data/faces95/jross.17.jpg',\n",
              " 'data/faces95/jross.18.jpg',\n",
              " 'data/faces95/jross.19.jpg',\n",
              " 'data/faces95/jross.20.jpg',\n",
              " 'data/faces95/jserai.1.jpg',\n",
              " 'data/faces95/jserai.2.jpg',\n",
              " 'data/faces95/jserai.3.jpg',\n",
              " 'data/faces95/jserai.4.jpg',\n",
              " 'data/faces95/jserai.5.jpg',\n",
              " 'data/faces95/jserai.6.jpg',\n",
              " 'data/faces95/jserai.7.jpg',\n",
              " 'data/faces95/jserai.8.jpg',\n",
              " 'data/faces95/jserai.9.jpg',\n",
              " 'data/faces95/jserai.10.jpg',\n",
              " 'data/faces95/jserai.11.jpg',\n",
              " 'data/faces95/jserai.12.jpg',\n",
              " 'data/faces95/jserai.13.jpg',\n",
              " 'data/faces95/jserai.14.jpg',\n",
              " 'data/faces95/jserai.15.jpg',\n",
              " 'data/faces95/jserai.16.jpg',\n",
              " 'data/faces95/jserai.17.jpg',\n",
              " 'data/faces95/jserai.18.jpg',\n",
              " 'data/faces95/jserai.19.jpg',\n",
              " 'data/faces95/jserai.20.jpg',\n",
              " 'data/faces95/jshea.1.jpg',\n",
              " 'data/faces95/jshea.2.jpg',\n",
              " 'data/faces95/jshea.3.jpg',\n",
              " 'data/faces95/jshea.4.jpg',\n",
              " 'data/faces95/jshea.5.jpg',\n",
              " 'data/faces95/jshea.6.jpg',\n",
              " 'data/faces95/jshea.7.jpg',\n",
              " 'data/faces95/jshea.8.jpg',\n",
              " 'data/faces95/jshea.9.jpg',\n",
              " 'data/faces95/jshea.10.jpg',\n",
              " 'data/faces95/jshea.11.jpg',\n",
              " 'data/faces95/jshea.12.jpg',\n",
              " 'data/faces95/jshea.13.jpg',\n",
              " 'data/faces95/jshea.14.jpg',\n",
              " 'data/faces95/jshea.15.jpg',\n",
              " 'data/faces95/jshea.16.jpg',\n",
              " 'data/faces95/jshea.17.jpg',\n",
              " 'data/faces95/jshea.18.jpg',\n",
              " 'data/faces95/jshea.19.jpg',\n",
              " 'data/faces95/jshea.20.jpg',\n",
              " 'data/faces95/kbartl.1.jpg',\n",
              " 'data/faces95/kbartl.2.jpg',\n",
              " 'data/faces95/kbartl.3.jpg',\n",
              " 'data/faces95/kbartl.4.jpg',\n",
              " 'data/faces95/kbartl.5.jpg',\n",
              " 'data/faces95/kbartl.6.jpg',\n",
              " 'data/faces95/kbartl.7.jpg',\n",
              " 'data/faces95/kbartl.8.jpg',\n",
              " 'data/faces95/kbartl.9.jpg',\n",
              " 'data/faces95/kbartl.10.jpg',\n",
              " 'data/faces95/kbartl.11.jpg',\n",
              " 'data/faces95/kbartl.12.jpg',\n",
              " 'data/faces95/kbartl.13.jpg',\n",
              " 'data/faces95/kbartl.14.jpg',\n",
              " 'data/faces95/kbartl.15.jpg',\n",
              " 'data/faces95/kbartl.16.jpg',\n",
              " 'data/faces95/kbartl.17.jpg',\n",
              " 'data/faces95/kbartl.18.jpg',\n",
              " 'data/faces95/kbartl.19.jpg',\n",
              " 'data/faces95/kbartl.20.jpg',\n",
              " 'data/faces95/kmbald.1.jpg',\n",
              " 'data/faces95/kmbald.2.jpg',\n",
              " 'data/faces95/kmbald.3.jpg',\n",
              " 'data/faces95/kmbald.4.jpg',\n",
              " 'data/faces95/kmbald.5.jpg',\n",
              " 'data/faces95/kmbald.6.jpg',\n",
              " 'data/faces95/kmbald.7.jpg',\n",
              " 'data/faces95/kmbald.8.jpg',\n",
              " 'data/faces95/kmbald.9.jpg',\n",
              " 'data/faces95/kmbald.10.jpg',\n",
              " 'data/faces95/kmbald.11.jpg',\n",
              " 'data/faces95/kmbald.12.jpg',\n",
              " 'data/faces95/kmbald.13.jpg',\n",
              " 'data/faces95/kmbald.14.jpg',\n",
              " 'data/faces95/kmbald.15.jpg',\n",
              " 'data/faces95/kmbald.16.jpg',\n",
              " 'data/faces95/kmbald.17.jpg',\n",
              " 'data/faces95/kmbald.18.jpg',\n",
              " 'data/faces95/kmbald.19.jpg',\n",
              " 'data/faces95/kmbald.20.jpg',\n",
              " 'data/faces95/kouri.1.jpg',\n",
              " 'data/faces95/kouri.2.jpg',\n",
              " 'data/faces95/kouri.3.jpg',\n",
              " 'data/faces95/kouri.4.jpg',\n",
              " 'data/faces95/kouri.5.jpg',\n",
              " 'data/faces95/kouri.6.jpg',\n",
              " 'data/faces95/kouri.7.jpg',\n",
              " 'data/faces95/kouri.8.jpg',\n",
              " 'data/faces95/kouri.9.jpg',\n",
              " 'data/faces95/kouri.10.jpg',\n",
              " 'data/faces95/kouri.11.jpg',\n",
              " 'data/faces95/kouri.12.jpg',\n",
              " 'data/faces95/kouri.13.jpg',\n",
              " 'data/faces95/kouri.14.jpg',\n",
              " 'data/faces95/kouri.15.jpg',\n",
              " 'data/faces95/kouri.16.jpg',\n",
              " 'data/faces95/kouri.17.jpg',\n",
              " 'data/faces95/kouri.18.jpg',\n",
              " 'data/faces95/kouri.19.jpg',\n",
              " 'data/faces95/kouri.20.jpg',\n",
              " 'data/faces95/labenm.1.jpg',\n",
              " 'data/faces95/labenm.2.jpg',\n",
              " 'data/faces95/labenm.3.jpg',\n",
              " 'data/faces95/labenm.4.jpg',\n",
              " 'data/faces95/labenm.5.jpg',\n",
              " 'data/faces95/labenm.6.jpg',\n",
              " 'data/faces95/labenm.7.jpg',\n",
              " 'data/faces95/labenm.8.jpg',\n",
              " 'data/faces95/labenm.9.jpg',\n",
              " 'data/faces95/labenm.10.jpg',\n",
              " 'data/faces95/labenm.11.jpg',\n",
              " 'data/faces95/labenm.12.jpg',\n",
              " 'data/faces95/labenm.13.jpg',\n",
              " 'data/faces95/labenm.14.jpg',\n",
              " 'data/faces95/labenm.15.jpg',\n",
              " 'data/faces95/labenm.16.jpg',\n",
              " 'data/faces95/labenm.17.jpg',\n",
              " 'data/faces95/labenm.18.jpg',\n",
              " 'data/faces95/labenm.19.jpg',\n",
              " 'data/faces95/labenm.20.jpg',\n",
              " 'data/faces95/ldgodd.1.jpg',\n",
              " 'data/faces95/ldgodd.2.jpg',\n",
              " 'data/faces95/ldgodd.3.jpg',\n",
              " 'data/faces95/ldgodd.4.jpg',\n",
              " 'data/faces95/ldgodd.5.jpg',\n",
              " 'data/faces95/ldgodd.6.jpg',\n",
              " 'data/faces95/ldgodd.7.jpg',\n",
              " 'data/faces95/ldgodd.8.jpg',\n",
              " 'data/faces95/ldgodd.9.jpg',\n",
              " 'data/faces95/ldgodd.10.jpg',\n",
              " 'data/faces95/ldgodd.11.jpg',\n",
              " 'data/faces95/ldgodd.12.jpg',\n",
              " 'data/faces95/ldgodd.13.jpg',\n",
              " 'data/faces95/ldgodd.14.jpg',\n",
              " 'data/faces95/ldgodd.15.jpg',\n",
              " 'data/faces95/ldgodd.16.jpg',\n",
              " 'data/faces95/ldgodd.17.jpg',\n",
              " 'data/faces95/ldgodd.18.jpg',\n",
              " 'data/faces95/ldgodd.19.jpg',\n",
              " 'data/faces95/ldgodd.20.jpg',\n",
              " 'data/faces95/lidov.1.jpg',\n",
              " 'data/faces95/lidov.2.jpg',\n",
              " 'data/faces95/lidov.3.jpg',\n",
              " 'data/faces95/lidov.4.jpg',\n",
              " 'data/faces95/lidov.5.jpg',\n",
              " 'data/faces95/lidov.6.jpg',\n",
              " 'data/faces95/lidov.7.jpg',\n",
              " 'data/faces95/lidov.8.jpg',\n",
              " 'data/faces95/lidov.9.jpg',\n",
              " 'data/faces95/lidov.10.jpg',\n",
              " 'data/faces95/lidov.11.jpg',\n",
              " 'data/faces95/lidov.12.jpg',\n",
              " 'data/faces95/lidov.13.jpg',\n",
              " 'data/faces95/lidov.14.jpg',\n",
              " 'data/faces95/lidov.15.jpg',\n",
              " 'data/faces95/lidov.16.jpg',\n",
              " 'data/faces95/lidov.17.jpg',\n",
              " 'data/faces95/lidov.18.jpg',\n",
              " 'data/faces95/lidov.19.jpg',\n",
              " 'data/faces95/lidov.20.jpg',\n",
              " 'data/faces95/llambr.1.jpg',\n",
              " 'data/faces95/llambr.2.jpg',\n",
              " 'data/faces95/llambr.3.jpg',\n",
              " 'data/faces95/llambr.4.jpg',\n",
              " 'data/faces95/llambr.5.jpg',\n",
              " 'data/faces95/llambr.6.jpg',\n",
              " 'data/faces95/llambr.7.jpg',\n",
              " 'data/faces95/llambr.8.jpg',\n",
              " 'data/faces95/llambr.9.jpg',\n",
              " 'data/faces95/llambr.10.jpg',\n",
              " 'data/faces95/llambr.11.jpg',\n",
              " 'data/faces95/llambr.12.jpg',\n",
              " 'data/faces95/llambr.13.jpg',\n",
              " 'data/faces95/llambr.14.jpg',\n",
              " 'data/faces95/llambr.15.jpg',\n",
              " 'data/faces95/llambr.16.jpg',\n",
              " 'data/faces95/llambr.17.jpg',\n",
              " 'data/faces95/llambr.18.jpg',\n",
              " 'data/faces95/llambr.19.jpg',\n",
              " 'data/faces95/llambr.20.jpg',\n",
              " 'data/faces95/matth.1.jpg',\n",
              " 'data/faces95/matth.2.jpg',\n",
              " 'data/faces95/matth.3.jpg',\n",
              " 'data/faces95/matth.4.jpg',\n",
              " 'data/faces95/matth.5.jpg',\n",
              " 'data/faces95/matth.6.jpg',\n",
              " 'data/faces95/matth.7.jpg',\n",
              " 'data/faces95/matth.8.jpg',\n",
              " 'data/faces95/matth.9.jpg',\n",
              " 'data/faces95/matth.10.jpg',\n",
              " 'data/faces95/matth.11.jpg',\n",
              " 'data/faces95/matth.12.jpg',\n",
              " 'data/faces95/matth.13.jpg',\n",
              " 'data/faces95/matth.14.jpg',\n",
              " 'data/faces95/matth.15.jpg',\n",
              " 'data/faces95/matth.16.jpg',\n",
              " 'data/faces95/matth.17.jpg',\n",
              " 'data/faces95/matth.18.jpg',\n",
              " 'data/faces95/matth.19.jpg',\n",
              " 'data/faces95/matth.20.jpg',\n",
              " 'data/faces95/mdchud.1.jpg',\n",
              " 'data/faces95/mdchud.2.jpg',\n",
              " 'data/faces95/mdchud.3.jpg',\n",
              " 'data/faces95/mdchud.4.jpg',\n",
              " 'data/faces95/mdchud.5.jpg',\n",
              " 'data/faces95/mdchud.6.jpg',\n",
              " 'data/faces95/mdchud.7.jpg',\n",
              " 'data/faces95/mdchud.8.jpg',\n",
              " 'data/faces95/mdchud.9.jpg',\n",
              " 'data/faces95/mdchud.10.jpg',\n",
              " 'data/faces95/mdchud.11.jpg',\n",
              " 'data/faces95/mdchud.12.jpg',\n",
              " 'data/faces95/mdchud.13.jpg',\n",
              " 'data/faces95/mdchud.14.jpg',\n",
              " 'data/faces95/mdchud.15.jpg',\n",
              " 'data/faces95/mdchud.16.jpg',\n",
              " 'data/faces95/mdchud.17.jpg',\n",
              " 'data/faces95/mdchud.18.jpg',\n",
              " 'data/faces95/mdchud.19.jpg',\n",
              " 'data/faces95/mdchud.20.jpg',\n",
              " 'data/faces95/mizli.1.jpg',\n",
              " 'data/faces95/mizli.2.jpg',\n",
              " 'data/faces95/mizli.3.jpg',\n",
              " 'data/faces95/mizli.4.jpg',\n",
              " 'data/faces95/mizli.5.jpg',\n",
              " 'data/faces95/mizli.6.jpg',\n",
              " 'data/faces95/mizli.7.jpg',\n",
              " 'data/faces95/mizli.8.jpg',\n",
              " 'data/faces95/mizli.9.jpg',\n",
              " 'data/faces95/mizli.10.jpg',\n",
              " 'data/faces95/mizli.11.jpg',\n",
              " 'data/faces95/mizli.12.jpg',\n",
              " 'data/faces95/mizli.13.jpg',\n",
              " 'data/faces95/mizli.14.jpg',\n",
              " 'data/faces95/mizli.15.jpg',\n",
              " 'data/faces95/mizli.16.jpg',\n",
              " 'data/faces95/mizli.17.jpg',\n",
              " 'data/faces95/mizli.18.jpg',\n",
              " 'data/faces95/mizli.19.jpg',\n",
              " 'data/faces95/mizli.20.jpg',\n",
              " 'data/faces95/mkosto.1.jpg',\n",
              " 'data/faces95/mkosto.2.jpg',\n",
              " 'data/faces95/mkosto.3.jpg',\n",
              " 'data/faces95/mkosto.4.jpg',\n",
              " 'data/faces95/mkosto.5.jpg',\n",
              " 'data/faces95/mkosto.6.jpg',\n",
              " 'data/faces95/mkosto.7.jpg',\n",
              " 'data/faces95/mkosto.8.jpg',\n",
              " 'data/faces95/mkosto.9.jpg',\n",
              " 'data/faces95/mkosto.10.jpg',\n",
              " 'data/faces95/mkosto.11.jpg',\n",
              " 'data/faces95/mkosto.12.jpg',\n",
              " 'data/faces95/mkosto.13.jpg',\n",
              " 'data/faces95/mkosto.14.jpg',\n",
              " 'data/faces95/mkosto.15.jpg',\n",
              " 'data/faces95/mkosto.16.jpg',\n",
              " 'data/faces95/mkosto.17.jpg',\n",
              " 'data/faces95/mkosto.18.jpg',\n",
              " 'data/faces95/mkosto.19.jpg',\n",
              " 'data/faces95/mkosto.20.jpg',\n",
              " 'data/faces95/mrhami.1.jpg',\n",
              " 'data/faces95/mrhami.2.jpg',\n",
              " 'data/faces95/mrhami.3.jpg',\n",
              " 'data/faces95/mrhami.4.jpg',\n",
              " 'data/faces95/mrhami.5.jpg',\n",
              " 'data/faces95/mrhami.6.jpg',\n",
              " 'data/faces95/mrhami.7.jpg',\n",
              " 'data/faces95/mrhami.8.jpg',\n",
              " 'data/faces95/mrhami.9.jpg',\n",
              " 'data/faces95/mrhami.10.jpg',\n",
              " 'data/faces95/mrhami.11.jpg',\n",
              " 'data/faces95/mrhami.12.jpg',\n",
              " 'data/faces95/mrhami.13.jpg',\n",
              " 'data/faces95/mrhami.14.jpg',\n",
              " 'data/faces95/mrhami.15.jpg',\n",
              " 'data/faces95/mrhami.16.jpg',\n",
              " 'data/faces95/mrhami.17.jpg',\n",
              " 'data/faces95/mrhami.18.jpg',\n",
              " 'data/faces95/mrhami.19.jpg',\n",
              " 'data/faces95/mrhami.20.jpg',\n",
              " 'data/faces95/namart.1.jpg',\n",
              " 'data/faces95/namart.2.jpg',\n",
              " 'data/faces95/namart.3.jpg',\n",
              " 'data/faces95/namart.4.jpg',\n",
              " 'data/faces95/namart.5.jpg',\n",
              " 'data/faces95/namart.6.jpg',\n",
              " 'data/faces95/namart.7.jpg',\n",
              " 'data/faces95/namart.8.jpg',\n",
              " 'data/faces95/namart.9.jpg',\n",
              " 'data/faces95/namart.10.jpg',\n",
              " 'data/faces95/namart.11.jpg',\n",
              " 'data/faces95/namart.12.jpg',\n",
              " 'data/faces95/namart.13.jpg',\n",
              " 'data/faces95/namart.14.jpg',\n",
              " 'data/faces95/namart.15.jpg',\n",
              " 'data/faces95/namart.16.jpg',\n",
              " 'data/faces95/namart.17.jpg',\n",
              " 'data/faces95/namart.18.jpg',\n",
              " 'data/faces95/namart.19.jpg',\n",
              " 'data/faces95/namart.20.jpg',\n",
              " 'data/faces95/ogefen.1.jpg',\n",
              " 'data/faces95/ogefen.2.jpg',\n",
              " 'data/faces95/ogefen.3.jpg',\n",
              " 'data/faces95/ogefen.4.jpg',\n",
              " 'data/faces95/ogefen.5.jpg',\n",
              " 'data/faces95/ogefen.6.jpg',\n",
              " 'data/faces95/ogefen.7.jpg',\n",
              " 'data/faces95/ogefen.8.jpg',\n",
              " 'data/faces95/ogefen.9.jpg',\n",
              " 'data/faces95/ogefen.10.jpg',\n",
              " 'data/faces95/ogefen.11.jpg',\n",
              " 'data/faces95/ogefen.12.jpg',\n",
              " 'data/faces95/ogefen.13.jpg',\n",
              " 'data/faces95/ogefen.14.jpg',\n",
              " 'data/faces95/ogefen.15.jpg',\n",
              " 'data/faces95/ogefen.16.jpg',\n",
              " 'data/faces95/ogefen.17.jpg',\n",
              " 'data/faces95/ogefen.18.jpg',\n",
              " 'data/faces95/ogefen.19.jpg',\n",
              " 'data/faces95/ogefen.20.jpg',\n",
              " 'data/faces95/padnor.1.jpg',\n",
              " 'data/faces95/padnor.2.jpg',\n",
              " 'data/faces95/padnor.3.jpg',\n",
              " 'data/faces95/padnor.4.jpg',\n",
              " 'data/faces95/padnor.5.jpg',\n",
              " 'data/faces95/padnor.6.jpg',\n",
              " 'data/faces95/padnor.7.jpg',\n",
              " 'data/faces95/padnor.8.jpg',\n",
              " 'data/faces95/padnor.9.jpg',\n",
              " 'data/faces95/padnor.10.jpg',\n",
              " 'data/faces95/padnor.11.jpg',\n",
              " 'data/faces95/padnor.12.jpg',\n",
              " 'data/faces95/padnor.13.jpg',\n",
              " 'data/faces95/padnor.14.jpg',\n",
              " 'data/faces95/padnor.15.jpg',\n",
              " 'data/faces95/padnor.16.jpg',\n",
              " 'data/faces95/padnor.17.jpg',\n",
              " 'data/faces95/padnor.18.jpg',\n",
              " 'data/faces95/padnor.19.jpg',\n",
              " 'data/faces95/padnor.20.jpg',\n",
              " 'data/faces95/pajaco.1.jpg',\n",
              " 'data/faces95/pajaco.2.jpg',\n",
              " 'data/faces95/pajaco.3.jpg',\n",
              " 'data/faces95/pajaco.4.jpg',\n",
              " 'data/faces95/pajaco.5.jpg',\n",
              " 'data/faces95/pajaco.6.jpg',\n",
              " 'data/faces95/pajaco.7.jpg',\n",
              " 'data/faces95/pajaco.8.jpg',\n",
              " 'data/faces95/pajaco.9.jpg',\n",
              " 'data/faces95/pajaco.10.jpg',\n",
              " 'data/faces95/pajaco.11.jpg',\n",
              " 'data/faces95/pajaco.12.jpg',\n",
              " 'data/faces95/pajaco.13.jpg',\n",
              " 'data/faces95/pajaco.14.jpg',\n",
              " 'data/faces95/pajaco.15.jpg',\n",
              " 'data/faces95/pajaco.16.jpg',\n",
              " 'data/faces95/pajaco.17.jpg',\n",
              " 'data/faces95/pajaco.18.jpg',\n",
              " 'data/faces95/pajaco.19.jpg',\n",
              " 'data/faces95/pajaco.20.jpg',\n",
              " 'data/faces95/papad.1.jpg',\n",
              " 'data/faces95/papad.2.jpg',\n",
              " 'data/faces95/papad.3.jpg',\n",
              " 'data/faces95/papad.4.jpg',\n",
              " 'data/faces95/papad.5.jpg',\n",
              " 'data/faces95/papad.6.jpg',\n",
              " 'data/faces95/papad.7.jpg',\n",
              " 'data/faces95/papad.8.jpg',\n",
              " 'data/faces95/papad.9.jpg',\n",
              " 'data/faces95/papad.10.jpg',\n",
              " 'data/faces95/papad.11.jpg',\n",
              " 'data/faces95/papad.12.jpg',\n",
              " 'data/faces95/papad.13.jpg',\n",
              " 'data/faces95/papad.14.jpg',\n",
              " 'data/faces95/papad.15.jpg',\n",
              " 'data/faces95/papad.16.jpg',\n",
              " 'data/faces95/papad.17.jpg',\n",
              " 'data/faces95/papad.18.jpg',\n",
              " 'data/faces95/papad.19.jpg',\n",
              " 'data/faces95/papad.20.jpg',\n",
              " 'data/faces95/pcfry.1.jpg',\n",
              " 'data/faces95/pcfry.2.jpg',\n",
              " 'data/faces95/pcfry.3.jpg',\n",
              " 'data/faces95/pcfry.4.jpg',\n",
              " 'data/faces95/pcfry.5.jpg',\n",
              " 'data/faces95/pcfry.6.jpg',\n",
              " 'data/faces95/pcfry.7.jpg',\n",
              " 'data/faces95/pcfry.8.jpg',\n",
              " 'data/faces95/pcfry.9.jpg',\n",
              " 'data/faces95/pcfry.10.jpg',\n",
              " 'data/faces95/pcfry.11.jpg',\n",
              " 'data/faces95/pcfry.12.jpg',\n",
              " 'data/faces95/pcfry.13.jpg',\n",
              " 'data/faces95/pcfry.14.jpg',\n",
              " 'data/faces95/pcfry.15.jpg',\n",
              " 'data/faces95/pcfry.16.jpg',\n",
              " 'data/faces95/pcfry.17.jpg',\n",
              " 'data/faces95/pcfry.18.jpg',\n",
              " 'data/faces95/pcfry.19.jpg',\n",
              " 'data/faces95/pcfry.20.jpg',\n",
              " 'data/faces95/pears.1.jpg',\n",
              " 'data/faces95/pears.2.jpg',\n",
              " 'data/faces95/pears.3.jpg',\n",
              " 'data/faces95/pears.4.jpg',\n",
              " 'data/faces95/pears.5.jpg',\n",
              " 'data/faces95/pears.6.jpg',\n",
              " 'data/faces95/pears.7.jpg',\n",
              " 'data/faces95/pears.8.jpg',\n",
              " 'data/faces95/pears.9.jpg',\n",
              " 'data/faces95/pears.10.jpg',\n",
              " 'data/faces95/pears.11.jpg',\n",
              " 'data/faces95/pears.12.jpg',\n",
              " 'data/faces95/pears.13.jpg',\n",
              " 'data/faces95/pears.14.jpg',\n",
              " 'data/faces95/pears.15.jpg',\n",
              " 'data/faces95/pears.16.jpg',\n",
              " 'data/faces95/pears.17.jpg',\n",
              " 'data/faces95/pears.18.jpg',\n",
              " 'data/faces95/pears.19.jpg',\n",
              " 'data/faces95/pears.20.jpg',\n",
              " 'data/faces95/pjrand.1.jpg',\n",
              " 'data/faces95/pjrand.2.jpg',\n",
              " 'data/faces95/pjrand.3.jpg',\n",
              " 'data/faces95/pjrand.4.jpg',\n",
              " 'data/faces95/pjrand.5.jpg',\n",
              " 'data/faces95/pjrand.6.jpg',\n",
              " 'data/faces95/pjrand.7.jpg',\n",
              " 'data/faces95/pjrand.8.jpg',\n",
              " 'data/faces95/pjrand.9.jpg',\n",
              " 'data/faces95/pjrand.10.jpg',\n",
              " 'data/faces95/pjrand.11.jpg',\n",
              " 'data/faces95/pjrand.12.jpg',\n",
              " 'data/faces95/pjrand.13.jpg',\n",
              " 'data/faces95/pjrand.14.jpg',\n",
              " 'data/faces95/pjrand.15.jpg',\n",
              " 'data/faces95/pjrand.16.jpg',\n",
              " 'data/faces95/pjrand.17.jpg',\n",
              " 'data/faces95/pjrand.18.jpg',\n",
              " 'data/faces95/pjrand.19.jpg',\n",
              " 'data/faces95/pjrand.20.jpg',\n",
              " 'data/faces95/rhaitk.1.jpg',\n",
              " 'data/faces95/rhaitk.2.jpg',\n",
              " 'data/faces95/rhaitk.3.jpg',\n",
              " 'data/faces95/rhaitk.4.jpg',\n",
              " 'data/faces95/rhaitk.5.jpg',\n",
              " 'data/faces95/rhaitk.6.jpg',\n",
              " 'data/faces95/rhaitk.7.jpg',\n",
              " 'data/faces95/rhaitk.8.jpg',\n",
              " 'data/faces95/rhaitk.9.jpg',\n",
              " 'data/faces95/rhaitk.10.jpg',\n",
              " 'data/faces95/rhaitk.11.jpg',\n",
              " 'data/faces95/rhaitk.12.jpg',\n",
              " 'data/faces95/rhaitk.13.jpg',\n",
              " 'data/faces95/rhaitk.14.jpg',\n",
              " 'data/faces95/rhaitk.15.jpg',\n",
              " 'data/faces95/rhaitk.16.jpg',\n",
              " 'data/faces95/rhaitk.17.jpg',\n",
              " 'data/faces95/rhaitk.18.jpg',\n",
              " 'data/faces95/rhaitk.19.jpg',\n",
              " 'data/faces95/rhaitk.20.jpg',\n",
              " 'data/faces95/rhnorm.1.jpg',\n",
              " 'data/faces95/rhnorm.2.jpg',\n",
              " 'data/faces95/rhnorm.3.jpg',\n",
              " 'data/faces95/rhnorm.4.jpg',\n",
              " 'data/faces95/rhnorm.5.jpg',\n",
              " 'data/faces95/rhnorm.6.jpg',\n",
              " 'data/faces95/rhnorm.7.jpg',\n",
              " 'data/faces95/rhnorm.8.jpg',\n",
              " 'data/faces95/rhnorm.9.jpg',\n",
              " 'data/faces95/rhnorm.10.jpg',\n",
              " 'data/faces95/rhnorm.11.jpg',\n",
              " 'data/faces95/rhnorm.12.jpg',\n",
              " 'data/faces95/rhnorm.13.jpg',\n",
              " 'data/faces95/rhnorm.14.jpg',\n",
              " 'data/faces95/rhnorm.15.jpg',\n",
              " 'data/faces95/rhnorm.16.jpg',\n",
              " 'data/faces95/rhnorm.17.jpg',\n",
              " 'data/faces95/rhnorm.18.jpg',\n",
              " 'data/faces95/rhnorm.19.jpg',\n",
              " 'data/faces95/rhnorm.20.jpg',\n",
              " 'data/faces95/riphil.1.jpg',\n",
              " 'data/faces95/riphil.2.jpg',\n",
              " 'data/faces95/riphil.3.jpg',\n",
              " 'data/faces95/riphil.4.jpg',\n",
              " 'data/faces95/riphil.5.jpg',\n",
              " 'data/faces95/riphil.6.jpg',\n",
              " 'data/faces95/riphil.7.jpg',\n",
              " 'data/faces95/riphil.8.jpg',\n",
              " 'data/faces95/riphil.9.jpg',\n",
              " 'data/faces95/riphil.10.jpg',\n",
              " 'data/faces95/riphil.11.jpg',\n",
              " 'data/faces95/riphil.12.jpg',\n",
              " 'data/faces95/riphil.13.jpg',\n",
              " 'data/faces95/riphil.14.jpg',\n",
              " 'data/faces95/riphil.15.jpg',\n",
              " 'data/faces95/riphil.16.jpg',\n",
              " 'data/faces95/riphil.17.jpg',\n",
              " 'data/faces95/riphil.18.jpg',\n",
              " 'data/faces95/riphil.19.jpg',\n",
              " 'data/faces95/riphil.20.jpg',\n",
              " 'data/faces95/rjdunc.1.jpg',\n",
              " 'data/faces95/rjdunc.2.jpg',\n",
              " 'data/faces95/rjdunc.3.jpg',\n",
              " 'data/faces95/rjdunc.4.jpg',\n",
              " 'data/faces95/rjdunc.5.jpg',\n",
              " 'data/faces95/rjdunc.6.jpg',\n",
              " 'data/faces95/rjdunc.7.jpg',\n",
              " 'data/faces95/rjdunc.8.jpg',\n",
              " 'data/faces95/rjdunc.9.jpg',\n",
              " 'data/faces95/rjdunc.10.jpg',\n",
              " 'data/faces95/rjdunc.11.jpg',\n",
              " 'data/faces95/rjdunc.12.jpg',\n",
              " 'data/faces95/rjdunc.13.jpg',\n",
              " 'data/faces95/rjdunc.14.jpg',\n",
              " 'data/faces95/rjdunc.15.jpg',\n",
              " 'data/faces95/rjdunc.16.jpg',\n",
              " 'data/faces95/rjdunc.17.jpg',\n",
              " 'data/faces95/rjdunc.18.jpg',\n",
              " 'data/faces95/rjdunc.19.jpg',\n",
              " 'data/faces95/rjdunc.20.jpg',\n",
              " 'data/faces95/sapere.1.jpg',\n",
              " 'data/faces95/sapere.2.jpg',\n",
              " 'data/faces95/sapere.3.jpg',\n",
              " 'data/faces95/sapere.4.jpg',\n",
              " 'data/faces95/sapere.5.jpg',\n",
              " 'data/faces95/sapere.6.jpg',\n",
              " 'data/faces95/sapere.7.jpg',\n",
              " 'data/faces95/sapere.8.jpg',\n",
              " 'data/faces95/sapere.9.jpg',\n",
              " 'data/faces95/sapere.10.jpg',\n",
              " 'data/faces95/sapere.11.jpg',\n",
              " 'data/faces95/sapere.12.jpg',\n",
              " 'data/faces95/sapere.13.jpg',\n",
              " 'data/faces95/sapere.14.jpg',\n",
              " 'data/faces95/sapere.15.jpg',\n",
              " 'data/faces95/sapere.16.jpg',\n",
              " 'data/faces95/sapere.17.jpg',\n",
              " 'data/faces95/sapere.18.jpg',\n",
              " 'data/faces95/sapere.19.jpg',\n",
              " 'data/faces95/sapere.20.jpg',\n",
              " 'data/faces95/sherbe.1.jpg',\n",
              " 'data/faces95/sherbe.2.jpg',\n",
              " 'data/faces95/sherbe.3.jpg',\n",
              " 'data/faces95/sherbe.4.jpg',\n",
              " 'data/faces95/sherbe.5.jpg',\n",
              " 'data/faces95/sherbe.6.jpg',\n",
              " 'data/faces95/sherbe.7.jpg',\n",
              " 'data/faces95/sherbe.8.jpg',\n",
              " 'data/faces95/sherbe.9.jpg',\n",
              " 'data/faces95/sherbe.10.jpg',\n",
              " 'data/faces95/sherbe.11.jpg',\n",
              " 'data/faces95/sherbe.12.jpg',\n",
              " 'data/faces95/sherbe.13.jpg',\n",
              " 'data/faces95/sherbe.14.jpg',\n",
              " 'data/faces95/sherbe.15.jpg',\n",
              " 'data/faces95/sherbe.16.jpg',\n",
              " 'data/faces95/sherbe.17.jpg',\n",
              " 'data/faces95/sherbe.18.jpg',\n",
              " 'data/faces95/sherbe.19.jpg',\n",
              " 'data/faces95/sherbe.20.jpg',\n",
              " 'data/faces95/thgear.1.jpg',\n",
              " 'data/faces95/thgear.2.jpg',\n",
              " 'data/faces95/thgear.3.jpg',\n",
              " 'data/faces95/thgear.4.jpg',\n",
              " 'data/faces95/thgear.5.jpg',\n",
              " 'data/faces95/thgear.6.jpg',\n",
              " 'data/faces95/thgear.7.jpg',\n",
              " 'data/faces95/thgear.8.jpg',\n",
              " 'data/faces95/thgear.9.jpg',\n",
              " 'data/faces95/thgear.10.jpg',\n",
              " 'data/faces95/thgear.11.jpg',\n",
              " 'data/faces95/thgear.12.jpg',\n",
              " 'data/faces95/thgear.13.jpg',\n",
              " 'data/faces95/thgear.14.jpg',\n",
              " 'data/faces95/thgear.15.jpg',\n",
              " 'data/faces95/thgear.16.jpg',\n",
              " 'data/faces95/thgear.17.jpg',\n",
              " 'data/faces95/thgear.18.jpg',\n",
              " 'data/faces95/thgear.19.jpg',\n",
              " 'data/faces95/thgear.20.jpg',\n",
              " 'data/faces95/apapou.1.jpg',\n",
              " 'data/faces95/apapou.2.jpg',\n",
              " 'data/faces95/apapou.3.jpg',\n",
              " 'data/faces95/apapou.4.jpg',\n",
              " 'data/faces95/apapou.5.jpg',\n",
              " 'data/faces95/apapou.6.jpg',\n",
              " 'data/faces95/apapou.7.jpg',\n",
              " 'data/faces95/apapou.8.jpg',\n",
              " 'data/faces95/apapou.9.jpg',\n",
              " 'data/faces95/apapou.10.jpg',\n",
              " 'data/faces95/apapou.11.jpg',\n",
              " 'data/faces95/apapou.12.jpg',\n",
              " 'data/faces95/apapou.13.jpg',\n",
              " 'data/faces95/apapou.14.jpg',\n",
              " 'data/faces95/apapou.15.jpg',\n",
              " 'data/faces95/apapou.16.jpg',\n",
              " 'data/faces95/apapou.17.jpg',\n",
              " 'data/faces95/apapou.18.jpg',\n",
              " 'data/faces95/apapou.19.jpg',\n",
              " 'data/faces95/apapou.20.jpg',\n",
              " 'data/faces95/apdavi.1.jpg',\n",
              " 'data/faces95/apdavi.2.jpg',\n",
              " 'data/faces95/apdavi.3.jpg',\n",
              " 'data/faces95/apdavi.4.jpg',\n",
              " 'data/faces95/apdavi.5.jpg',\n",
              " 'data/faces95/apdavi.6.jpg',\n",
              " 'data/faces95/apdavi.7.jpg',\n",
              " 'data/faces95/apdavi.8.jpg',\n",
              " 'data/faces95/apdavi.9.jpg',\n",
              " 'data/faces95/apdavi.10.jpg',\n",
              " 'data/faces95/apdavi.11.jpg',\n",
              " 'data/faces95/apdavi.12.jpg',\n",
              " 'data/faces95/apdavi.13.jpg',\n",
              " 'data/faces95/apdavi.14.jpg',\n",
              " 'data/faces95/apdavi.15.jpg',\n",
              " 'data/faces95/apdavi.16.jpg',\n",
              " 'data/faces95/apdavi.17.jpg',\n",
              " 'data/faces95/apdavi.18.jpg',\n",
              " 'data/faces95/apdavi.19.jpg',\n",
              " 'data/faces95/apdavi.20.jpg',\n",
              " 'data/faces95/wjhugh.1.jpg',\n",
              " 'data/faces95/wjhugh.10.jpg',\n",
              " 'data/faces95/wjhugh.11.jpg',\n",
              " 'data/faces95/wjhugh.12.jpg',\n",
              " 'data/faces95/wjhugh.13.jpg',\n",
              " 'data/faces95/wjhugh.14.jpg',\n",
              " 'data/faces95/wjhugh.15.jpg',\n",
              " 'data/faces95/wjhugh.16.jpg',\n",
              " 'data/faces95/wjhugh.17.jpg',\n",
              " 'data/faces95/wjhugh.18.jpg',\n",
              " 'data/faces95/wjhugh.19.jpg',\n",
              " 'data/faces95/wjhugh.2.jpg',\n",
              " 'data/faces95/wjhugh.20.jpg',\n",
              " 'data/faces95/wjhugh.3.jpg',\n",
              " 'data/faces95/wjhugh.4.jpg',\n",
              " 'data/faces95/wjhugh.5.jpg',\n",
              " 'data/faces95/wjhugh.6.jpg',\n",
              " 'data/faces95/wjhugh.7.jpg',\n",
              " 'data/faces95/wjhugh.8.jpg',\n",
              " 'data/faces95/wjhugh.9.jpg',\n",
              " 'data/faces95/rafox.1.jpg',\n",
              " 'data/faces95/rafox.2.jpg',\n",
              " 'data/faces95/rafox.3.jpg',\n",
              " 'data/faces95/rafox.4.jpg',\n",
              " 'data/faces95/rafox.5.jpg',\n",
              " 'data/faces95/rafox.6.jpg',\n",
              " 'data/faces95/rafox.7.jpg',\n",
              " 'data/faces95/rafox.8.jpg',\n",
              " 'data/faces95/rafox.9.jpg',\n",
              " 'data/faces95/rafox.10.jpg',\n",
              " 'data/faces95/rafox.11.jpg',\n",
              " 'data/faces95/rafox.12.jpg',\n",
              " 'data/faces95/rafox.13.jpg',\n",
              " 'data/faces95/rafox.14.jpg',\n",
              " 'data/faces95/rafox.15.jpg',\n",
              " 'data/faces95/rafox.16.jpg',\n",
              " 'data/faces95/rafox.17.jpg',\n",
              " 'data/faces95/rafox.18.jpg',\n",
              " 'data/faces95/rafox.19.jpg',\n",
              " 'data/faces95/rafox.20.jpg',\n",
              " 'data/faces95/sdwall.1.jpg',\n",
              " 'data/faces95/sdwall.2.jpg',\n",
              " 'data/faces95/sdwall.3.jpg',\n",
              " 'data/faces95/sdwall.4.jpg',\n",
              " 'data/faces95/sdwall.5.jpg',\n",
              " 'data/faces95/sdwall.6.jpg',\n",
              " 'data/faces95/sdwall.7.jpg',\n",
              " 'data/faces95/sdwall.8.jpg',\n",
              " 'data/faces95/sdwall.9.jpg',\n",
              " 'data/faces95/sdwall.10.jpg',\n",
              " 'data/faces95/sdwall.11.jpg',\n",
              " 'data/faces95/sdwall.12.jpg',\n",
              " 'data/faces95/sdwall.13.jpg',\n",
              " 'data/faces95/sdwall.14.jpg',\n",
              " 'data/faces95/sdwall.15.jpg',\n",
              " 'data/faces95/sdwall.16.jpg',\n",
              " 'data/faces95/sdwall.17.jpg',\n",
              " 'data/faces95/sdwall.18.jpg',\n",
              " 'data/faces95/sdwall.19.jpg',\n",
              " 'data/faces95/sdwall.20.jpg',\n",
              " 'data/faces95/sgjday.1.jpg',\n",
              " 'data/faces95/sgjday.2.jpg',\n",
              " 'data/faces95/sgjday.3.jpg',\n",
              " 'data/faces95/sgjday.4.jpg',\n",
              " 'data/faces95/sgjday.5.jpg',\n",
              " 'data/faces95/sgjday.6.jpg',\n",
              " 'data/faces95/sgjday.7.jpg',\n",
              " 'data/faces95/sgjday.8.jpg',\n",
              " 'data/faces95/sgjday.9.jpg',\n",
              " 'data/faces95/sgjday.10.jpg',\n",
              " 'data/faces95/sgjday.11.jpg',\n",
              " 'data/faces95/sgjday.12.jpg',\n",
              " 'data/faces95/sgjday.13.jpg',\n",
              " 'data/faces95/sgjday.14.jpg',\n",
              " 'data/faces95/sgjday.15.jpg',\n",
              " 'data/faces95/sgjday.16.jpg',\n",
              " 'data/faces95/sgjday.17.jpg',\n",
              " 'data/faces95/sgjday.18.jpg',\n",
              " 'data/faces95/sgjday.19.jpg',\n",
              " 'data/faces95/sgjday.20.jpg',\n",
              " 'data/faces95/simm.1.jpg',\n",
              " 'data/faces95/simm.2.jpg',\n",
              " 'data/faces95/simm.3.jpg',\n",
              " 'data/faces95/simm.4.jpg',\n",
              " 'data/faces95/simm.5.jpg',\n",
              " 'data/faces95/simm.6.jpg',\n",
              " 'data/faces95/simm.7.jpg',\n",
              " 'data/faces95/simm.8.jpg',\n",
              " 'data/faces95/simm.9.jpg',\n",
              " 'data/faces95/simm.10.jpg',\n",
              " 'data/faces95/simm.11.jpg',\n",
              " 'data/faces95/simm.12.jpg',\n",
              " 'data/faces95/simm.13.jpg',\n",
              " 'data/faces95/simm.14.jpg',\n",
              " 'data/faces95/simm.15.jpg',\n",
              " 'data/faces95/simm.16.jpg',\n",
              " 'data/faces95/simm.17.jpg',\n",
              " 'data/faces95/simm.18.jpg',\n",
              " 'data/faces95/simm.19.jpg',\n",
              " 'data/faces95/simm.20.jpg',\n",
              " 'data/faces95/sirmcb.1.jpg',\n",
              " 'data/faces95/sirmcb.2.jpg',\n",
              " 'data/faces95/sirmcb.3.jpg',\n",
              " 'data/faces95/sirmcb.4.jpg',\n",
              " 'data/faces95/sirmcb.5.jpg',\n",
              " 'data/faces95/sirmcb.6.jpg',\n",
              " 'data/faces95/sirmcb.7.jpg',\n",
              " 'data/faces95/sirmcb.8.jpg',\n",
              " 'data/faces95/sirmcb.9.jpg',\n",
              " 'data/faces95/sirmcb.10.jpg',\n",
              " 'data/faces95/sirmcb.11.jpg',\n",
              " 'data/faces95/sirmcb.12.jpg',\n",
              " 'data/faces95/sirmcb.13.jpg',\n",
              " 'data/faces95/sirmcb.14.jpg',\n",
              " 'data/faces95/sirmcb.15.jpg',\n",
              " 'data/faces95/sirmcb.16.jpg',\n",
              " 'data/faces95/sirmcb.17.jpg',\n",
              " 'data/faces95/sirmcb.18.jpg',\n",
              " 'data/faces95/sirmcb.19.jpg',\n",
              " 'data/faces95/sirmcb.20.jpg',\n",
              " 'data/faces95/sjcutt.1.jpg',\n",
              " 'data/faces95/sjcutt.2.jpg',\n",
              " 'data/faces95/sjcutt.3.jpg',\n",
              " 'data/faces95/sjcutt.4.jpg',\n",
              " 'data/faces95/sjcutt.5.jpg',\n",
              " 'data/faces95/sjcutt.6.jpg',\n",
              " 'data/faces95/sjcutt.7.jpg',\n",
              " 'data/faces95/sjcutt.8.jpg',\n",
              " 'data/faces95/sjcutt.9.jpg',\n",
              " 'data/faces95/sjcutt.10.jpg',\n",
              " 'data/faces95/sjcutt.11.jpg',\n",
              " 'data/faces95/sjcutt.12.jpg',\n",
              " 'data/faces95/sjcutt.13.jpg',\n",
              " 'data/faces95/sjcutt.14.jpg',\n",
              " 'data/faces95/sjcutt.15.jpg',\n",
              " 'data/faces95/sjcutt.16.jpg',\n",
              " 'data/faces95/sjcutt.17.jpg',\n",
              " 'data/faces95/sjcutt.18.jpg',\n",
              " 'data/faces95/sjcutt.19.jpg',\n",
              " 'data/faces95/sjcutt.20.jpg',\n",
              " 'data/faces95/sjkill.1.jpg',\n",
              " 'data/faces95/sjkill.2.jpg',\n",
              " 'data/faces95/sjkill.3.jpg',\n",
              " 'data/faces95/sjkill.4.jpg',\n",
              " 'data/faces95/sjkill.5.jpg',\n",
              " 'data/faces95/sjkill.6.jpg',\n",
              " 'data/faces95/sjkill.7.jpg',\n",
              " 'data/faces95/sjkill.8.jpg',\n",
              " 'data/faces95/sjkill.9.jpg',\n",
              " 'data/faces95/sjkill.10.jpg',\n",
              " 'data/faces95/sjkill.11.jpg',\n",
              " 'data/faces95/sjkill.12.jpg',\n",
              " 'data/faces95/sjkill.13.jpg',\n",
              " 'data/faces95/sjkill.14.jpg',\n",
              " 'data/faces95/sjkill.15.jpg',\n",
              " 'data/faces95/sjkill.16.jpg',\n",
              " 'data/faces95/sjkill.17.jpg',\n",
              " 'data/faces95/sjkill.18.jpg',\n",
              " 'data/faces95/sjkill.19.jpg',\n",
              " 'data/faces95/sjkill.20.jpg',\n",
              " 'data/faces95/sjpalm.1.jpg',\n",
              " 'data/faces95/sjpalm.2.jpg',\n",
              " 'data/faces95/sjpalm.3.jpg',\n",
              " 'data/faces95/sjpalm.4.jpg',\n",
              " 'data/faces95/sjpalm.5.jpg',\n",
              " 'data/faces95/sjpalm.6.jpg',\n",
              " 'data/faces95/sjpalm.7.jpg',\n",
              " 'data/faces95/sjpalm.8.jpg',\n",
              " 'data/faces95/sjpalm.9.jpg',\n",
              " 'data/faces95/sjpalm.10.jpg',\n",
              " 'data/faces95/sjpalm.11.jpg',\n",
              " 'data/faces95/sjpalm.12.jpg',\n",
              " 'data/faces95/sjpalm.13.jpg',\n",
              " 'data/faces95/sjpalm.14.jpg',\n",
              " 'data/faces95/sjpalm.15.jpg',\n",
              " 'data/faces95/sjpalm.16.jpg',\n",
              " 'data/faces95/sjpalm.17.jpg',\n",
              " 'data/faces95/sjpalm.18.jpg',\n",
              " 'data/faces95/sjpalm.19.jpg',\n",
              " 'data/faces95/sjpalm.20.jpg',\n",
              " 'data/faces95/smille.1.jpg',\n",
              " 'data/faces95/smille.2.jpg',\n",
              " 'data/faces95/smille.3.jpg',\n",
              " 'data/faces95/smille.4.jpg',\n",
              " 'data/faces95/smille.5.jpg',\n",
              " 'data/faces95/smille.6.jpg',\n",
              " 'data/faces95/smille.7.jpg',\n",
              " 'data/faces95/smille.8.jpg',\n",
              " 'data/faces95/smille.9.jpg',\n",
              " 'data/faces95/smille.10.jpg',\n",
              " 'data/faces95/smille.11.jpg',\n",
              " 'data/faces95/smille.12.jpg',\n",
              " 'data/faces95/smille.13.jpg',\n",
              " 'data/faces95/smille.14.jpg',\n",
              " 'data/faces95/smille.15.jpg',\n",
              " 'data/faces95/smille.16.jpg',\n",
              " 'data/faces95/smille.17.jpg',\n",
              " 'data/faces95/smille.18.jpg',\n",
              " 'data/faces95/smille.19.jpg',\n",
              " 'data/faces95/smille.20.jpg',\n",
              " 'data/faces95/theoc.1.jpg',\n",
              " 'data/faces95/theoc.2.jpg',\n",
              " 'data/faces95/theoc.3.jpg',\n",
              " 'data/faces95/theoc.4.jpg',\n",
              " 'data/faces95/theoc.5.jpg',\n",
              " 'data/faces95/theoc.6.jpg',\n",
              " 'data/faces95/theoc.7.jpg',\n",
              " 'data/faces95/theoc.8.jpg',\n",
              " 'data/faces95/theoc.9.jpg',\n",
              " 'data/faces95/theoc.10.jpg',\n",
              " 'data/faces95/theoc.11.jpg',\n",
              " 'data/faces95/theoc.12.jpg',\n",
              " 'data/faces95/theoc.13.jpg',\n",
              " 'data/faces95/theoc.14.jpg',\n",
              " 'data/faces95/theoc.15.jpg',\n",
              " 'data/faces95/theoc.16.jpg',\n",
              " 'data/faces95/theoc.17.jpg',\n",
              " 'data/faces95/theoc.18.jpg',\n",
              " 'data/faces95/theoc.19.jpg',\n",
              " 'data/faces95/theoc.20.jpg',\n",
              " 'data/faces95/theod.1.jpg',\n",
              " 'data/faces95/theod.2.jpg',\n",
              " 'data/faces95/theod.3.jpg',\n",
              " 'data/faces95/theod.4.jpg',\n",
              " 'data/faces95/theod.5.jpg',\n",
              " 'data/faces95/theod.6.jpg',\n",
              " 'data/faces95/theod.7.jpg',\n",
              " 'data/faces95/theod.8.jpg',\n",
              " 'data/faces95/theod.9.jpg',\n",
              " 'data/faces95/theod.10.jpg',\n",
              " 'data/faces95/theod.11.jpg',\n",
              " 'data/faces95/theod.12.jpg',\n",
              " 'data/faces95/theod.13.jpg',\n",
              " 'data/faces95/theod.14.jpg',\n",
              " 'data/faces95/theod.15.jpg',\n",
              " 'data/faces95/theod.16.jpg',\n",
              " 'data/faces95/theod.17.jpg',\n",
              " 'data/faces95/theod.18.jpg',\n",
              " 'data/faces95/theod.19.jpg',\n",
              " 'data/faces95/theod.20.jpg',\n",
              " 'data/faces95/tjdyke.1.jpg',\n",
              " 'data/faces95/tjdyke.2.jpg',\n",
              " 'data/faces95/tjdyke.3.jpg',\n",
              " 'data/faces95/tjdyke.4.jpg',\n",
              " 'data/faces95/tjdyke.5.jpg',\n",
              " 'data/faces95/tjdyke.6.jpg',\n",
              " 'data/faces95/tjdyke.7.jpg',\n",
              " 'data/faces95/tjdyke.8.jpg',\n",
              " 'data/faces95/tjdyke.9.jpg',\n",
              " 'data/faces95/tjdyke.10.jpg',\n",
              " 'data/faces95/tjdyke.11.jpg',\n",
              " 'data/faces95/tjdyke.12.jpg',\n",
              " 'data/faces95/tjdyke.13.jpg',\n",
              " 'data/faces95/tjdyke.14.jpg',\n",
              " 'data/faces95/tjdyke.15.jpg',\n",
              " 'data/faces95/tjdyke.16.jpg',\n",
              " 'data/faces95/tjdyke.17.jpg',\n",
              " 'data/faces95/tjdyke.18.jpg',\n",
              " 'data/faces95/tjdyke.19.jpg',\n",
              " 'data/faces95/tjdyke.20.jpg',\n",
              " 'data/faces95/vanta.1.jpg',\n",
              " 'data/faces95/vanta.2.jpg',\n",
              " 'data/faces95/vanta.3.jpg',\n",
              " 'data/faces95/vanta.4.jpg',\n",
              " 'data/faces95/vanta.5.jpg',\n",
              " 'data/faces95/vanta.6.jpg',\n",
              " 'data/faces95/vanta.7.jpg',\n",
              " 'data/faces95/vanta.8.jpg',\n",
              " 'data/faces95/vanta.9.jpg',\n",
              " 'data/faces95/vanta.10.jpg',\n",
              " 'data/faces95/vanta.11.jpg',\n",
              " 'data/faces95/vanta.12.jpg',\n",
              " 'data/faces95/vanta.13.jpg',\n",
              " 'data/faces95/vanta.14.jpg',\n",
              " 'data/faces95/vanta.15.jpg',\n",
              " 'data/faces95/vanta.16.jpg',\n",
              " 'data/faces95/vanta.17.jpg',\n",
              " 'data/faces95/vanta.18.jpg',\n",
              " 'data/faces95/vanta.19.jpg',\n",
              " 'data/faces95/vanta.20.jpg',\n",
              " 'data/faces95/virvi.1.jpg',\n",
              " 'data/faces95/virvi.2.jpg',\n",
              " 'data/faces95/virvi.3.jpg',\n",
              " 'data/faces95/virvi.4.jpg',\n",
              " 'data/faces95/virvi.5.jpg',\n",
              " 'data/faces95/virvi.6.jpg',\n",
              " 'data/faces95/virvi.7.jpg',\n",
              " 'data/faces95/virvi.8.jpg',\n",
              " 'data/faces95/virvi.9.jpg',\n",
              " 'data/faces95/virvi.10.jpg',\n",
              " 'data/faces95/virvi.11.jpg',\n",
              " 'data/faces95/virvi.12.jpg',\n",
              " 'data/faces95/virvi.13.jpg',\n",
              " 'data/faces95/virvi.14.jpg',\n",
              " 'data/faces95/virvi.15.jpg',\n",
              " 'data/faces95/virvi.16.jpg',\n",
              " 'data/faces95/virvi.17.jpg',\n",
              " 'data/faces95/virvi.18.jpg',\n",
              " 'data/faces95/virvi.19.jpg',\n",
              " 'data/faces95/virvi.20.jpg',\n",
              " 'data/faces95/adhast.1.jpg',\n",
              " 'data/faces95/adhast.2.jpg',\n",
              " 'data/faces95/adhast.3.jpg',\n",
              " 'data/faces95/adhast.4.jpg',\n",
              " 'data/faces95/adhast.5.jpg',\n",
              " 'data/faces95/adhast.6.jpg',\n",
              " 'data/faces95/adhast.7.jpg',\n",
              " 'data/faces95/adhast.8.jpg',\n",
              " 'data/faces95/adhast.9.jpg',\n",
              " 'data/faces95/adhast.10.jpg',\n",
              " 'data/faces95/adhast.11.jpg',\n",
              " 'data/faces95/adhast.12.jpg',\n",
              " 'data/faces95/adhast.13.jpg',\n",
              " 'data/faces95/adhast.14.jpg',\n",
              " 'data/faces95/adhast.15.jpg',\n",
              " 'data/faces95/adhast.16.jpg',\n",
              " 'data/faces95/adhast.17.jpg',\n",
              " 'data/faces95/adhast.18.jpg',\n",
              " 'data/faces95/adhast.19.jpg',\n",
              " 'data/faces95/adhast.20.jpg',\n",
              " 'data/faces95/boylee.1.jpg',\n",
              " 'data/faces95/boylee.2.jpg',\n",
              " 'data/faces95/boylee.3.jpg',\n",
              " 'data/faces95/boylee.4.jpg',\n",
              " 'data/faces95/boylee.5.jpg',\n",
              " 'data/faces95/boylee.6.jpg',\n",
              " 'data/faces95/boylee.7.jpg',\n",
              " 'data/faces95/boylee.8.jpg',\n",
              " 'data/faces95/boylee.9.jpg',\n",
              " 'data/faces95/boylee.10.jpg',\n",
              " 'data/faces95/boylee.11.jpg',\n",
              " 'data/faces95/boylee.12.jpg',\n",
              " 'data/faces95/boylee.13.jpg',\n",
              " 'data/faces95/boylee.14.jpg',\n",
              " 'data/faces95/boylee.15.jpg',\n",
              " 'data/faces95/boylee.16.jpg',\n",
              " 'data/faces95/boylee.17.jpg',\n",
              " 'data/faces95/boylee.18.jpg',\n",
              " 'data/faces95/boylee.19.jpg',\n",
              " 'data/faces95/boylee.20.jpg',\n",
              " 'data/faces95/ardper.1.jpg',\n",
              " 'data/faces95/ardper.2.jpg',\n",
              " 'data/faces95/ardper.3.jpg',\n",
              " 'data/faces95/ardper.4.jpg',\n",
              " 'data/faces95/ardper.5.jpg',\n",
              " 'data/faces95/ardper.6.jpg',\n",
              " 'data/faces95/ardper.7.jpg',\n",
              " 'data/faces95/ardper.8.jpg',\n",
              " 'data/faces95/ardper.9.jpg',\n",
              " 'data/faces95/ardper.10.jpg',\n",
              " 'data/faces95/ardper.11.jpg',\n",
              " 'data/faces95/ardper.12.jpg',\n",
              " 'data/faces95/ardper.13.jpg',\n",
              " 'data/faces95/ardper.14.jpg',\n",
              " 'data/faces95/ardper.15.jpg',\n",
              " 'data/faces95/ardper.16.jpg',\n",
              " 'data/faces95/ardper.17.jpg',\n",
              " 'data/faces95/ardper.18.jpg',\n",
              " 'data/faces95/ardper.19.jpg',\n",
              " 'data/faces95/ardper.20.jpg',\n",
              " 'data/faces95/awjsud.1.jpg',\n",
              " 'data/faces95/awjsud.2.jpg',\n",
              " 'data/faces95/awjsud.3.jpg',\n",
              " 'data/faces95/awjsud.4.jpg',\n",
              " 'data/faces95/awjsud.5.jpg',\n",
              " 'data/faces95/awjsud.6.jpg',\n",
              " 'data/faces95/awjsud.7.jpg',\n",
              " 'data/faces95/awjsud.8.jpg',\n",
              " ...]"
            ]
          },
          "metadata": {
            "tags": []
          },
          "execution_count": 11
        }
      ]
    },
    {
      "cell_type": "code",
      "metadata": {
        "id": "vErO-r2oZRyL"
      },
      "source": [
        "flist = glob.glob(\"data/faces95/*jpg\")"
      ],
      "execution_count": null,
      "outputs": []
    },
    {
      "cell_type": "code",
      "metadata": {
        "colab": {
          "base_uri": "https://localhost:8080/"
        },
        "id": "tkVjc0bFZUGG",
        "outputId": "0910be21-84ce-452b-c9f9-19c8c6c86b73"
      },
      "source": [
        "N = len(flist)\r\n",
        "N"
      ],
      "execution_count": null,
      "outputs": [
        {
          "output_type": "execute_result",
          "data": {
            "text/plain": [
              "1440"
            ]
          },
          "metadata": {
            "tags": []
          },
          "execution_count": 13
        }
      ]
    },
    {
      "cell_type": "markdown",
      "metadata": {
        "id": "xsZ8er2LZead"
      },
      "source": [
        "# Read in data\r\n"
      ]
    },
    {
      "cell_type": "code",
      "metadata": {
        "colab": {
          "base_uri": "https://localhost:8080/",
          "height": 286
        },
        "id": "Z7nz3H7LZf_e",
        "outputId": "2bbb6d84-9101-4298-bed8-fd43be850823"
      },
      "source": [
        "imgs = Image.open(flist[40])\r\n",
        "np_im = numpy.array(imgs)[:,:,:3].astype(float) / 255 #normalize the images so that they are 0-1\r\n",
        "pl.imshow(np_im)\r\n",
        "np_im[25:165:2,25:165:2,:1].shape, np.prod(np_im.shape[1:])"
      ],
      "execution_count": null,
      "outputs": [
        {
          "output_type": "execute_result",
          "data": {
            "text/plain": [
              "((70, 70, 1), 540)"
            ]
          },
          "metadata": {
            "tags": []
          },
          "execution_count": 14
        },
        {
          "output_type": "display_data",
          "data": {
            "image/png": "[encoded data removed]",
            "text/plain": [
              "<Figure size 432x288 with 1 Axes>"
            ]
          },
          "metadata": {
            "tags": [],
            "needs_background": "light"
          }
        }
      ]
    },
    {
      "cell_type": "code",
      "metadata": {
        "colab": {
          "base_uri": "https://localhost:8080/",
          "height": 285
        },
        "id": "sx0mfNmmgVOW",
        "outputId": "ed00567b-0038-4151-8f32-e20abf35ecba"
      },
      "source": [
        "pl.imshow(np_im[25:165:2,25:165:2])"
      ],
      "execution_count": null,
      "outputs": [
        {
          "output_type": "execute_result",
          "data": {
            "text/plain": [
              "<matplotlib.image.AxesImage at 0x7f607d1a1ef0>"
            ]
          },
          "metadata": {
            "tags": []
          },
          "execution_count": 15
        },
        {
          "output_type": "display_data",
          "data": {
            "image/png": "[encoded data removed]",
            "text/plain": [
              "<Figure size 432x288 with 1 Axes>"
            ]
          },
          "metadata": {
            "tags": [],
            "needs_background": "light"
          }
        }
      ]
    },
    {
      "cell_type": "code",
      "metadata": {
        "id": "TRIKvf7rU1CO"
      },
      "source": [
        "# This is the code showing how to download all images and save it \r\n",
        "# Because it will take a long time, this notebook will run the next cell\r\n",
        "\r\n",
        "#imgs = np.zeros((N, 70, 70, 1))\r\n",
        "#for i,f in enumerate(flist):\r\n",
        "  #if not i%50: print(i)\r\n",
        "  #im = Image.open(flist[i])\r\n",
        "  #np_im = numpy.array(im)[:,:,:3].astype(float) / 255 \r\n",
        "  #imgs[i] = numpy.array(im)[25:165:2,25:165:2,:1].astype(float) / 255 \r\n",
        "#np.save(\"faces.npy\", imgs)\r\n",
        "\r\n",
        "# by @FBianco\r\n",
        "# here I collect the certain portion of each image \r\n",
        "# from pixel 25 to 165 on the x and y axis (25:165)\r\n",
        "# and subsampling by a factor 2 (25:165:2)\r\n",
        "# and I am only choosing 1 color layer: [...,:1]: the R in RGB layers"
      ],
      "execution_count": null,
      "outputs": []
    },
    {
      "cell_type": "code",
      "metadata": {
        "colab": {
          "base_uri": "https://localhost:8080/"
        },
        "id": "ntS9qD3eU1hX",
        "outputId": "f3191bac-37a4-49a1-a837-a3a61a63aa4d"
      },
      "source": [
        "# For convenience\r\n",
        "imgs = np.load(\"data/faces.npy\")\r\n",
        "imgs.shape # This is output"
      ],
      "execution_count": null,
      "outputs": [
        {
          "output_type": "execute_result",
          "data": {
            "text/plain": [
              "(1440, 70, 70, 1)"
            ]
          },
          "metadata": {
            "tags": []
          },
          "execution_count": 17
        }
      ]
    },
    {
      "cell_type": "code",
      "metadata": {
        "colab": {
          "base_uri": "https://localhost:8080/"
        },
        "id": "--Nv8TptU1w4",
        "outputId": "f0175480-7ba0-4922-caea-794d2013d23a"
      },
      "source": [
        "imgs.dtype"
      ],
      "execution_count": null,
      "outputs": [
        {
          "output_type": "execute_result",
          "data": {
            "text/plain": [
              "dtype('float64')"
            ]
          },
          "metadata": {
            "tags": []
          },
          "execution_count": 18
        }
      ]
    },
    {
      "cell_type": "markdown",
      "metadata": {
        "id": "uOj2QQYLhJFA"
      },
      "source": [
        "# Lower the resolution"
      ]
    },
    {
      "cell_type": "markdown",
      "metadata": {
        "id": "LkNWcor3hQcX"
      },
      "source": [
        "## Make a copy of the original befor lowering the resolution"
      ]
    },
    {
      "cell_type": "code",
      "metadata": {
        "id": "PfgQejLmhajw"
      },
      "source": [
        "#imgs orig is the full resolution image\r\n",
        "imgs_orig = imgs.copy()"
      ],
      "execution_count": null,
      "outputs": []
    },
    {
      "cell_type": "code",
      "metadata": {
        "colab": {
          "base_uri": "https://localhost:8080/"
        },
        "id": "iuXFQaTJhafG",
        "outputId": "a1b5f7a0-6f1e-4fa6-a34c-5a1d98936436"
      },
      "source": [
        "# Lower teh resolution\r\n",
        "imgs = imgs[:,::2,::2]\r\n",
        "imgs[0].shape"
      ],
      "execution_count": null,
      "outputs": [
        {
          "output_type": "execute_result",
          "data": {
            "text/plain": [
              "(35, 35, 1)"
            ]
          },
          "metadata": {
            "tags": []
          },
          "execution_count": 20
        }
      ]
    },
    {
      "cell_type": "code",
      "metadata": {
        "colab": {
          "base_uri": "https://localhost:8080/"
        },
        "id": "TwGI_2qghabM",
        "outputId": "0d9c8e5d-1f3f-4baa-8e37-113c9e6d4a83"
      },
      "source": [
        "# This is the number of pixels in the image\r\n",
        "np.prod(imgs[0].shape)"
      ],
      "execution_count": null,
      "outputs": [
        {
          "output_type": "execute_result",
          "data": {
            "text/plain": [
              "1225"
            ]
          },
          "metadata": {
            "tags": []
          },
          "execution_count": 21
        }
      ]
    },
    {
      "cell_type": "markdown",
      "metadata": {
        "id": "E2akbeKshXpC"
      },
      "source": [
        "## Generate a train and test set "
      ]
    },
    {
      "cell_type": "markdown",
      "metadata": {
        "id": "TKWEcfBuh0nC"
      },
      "source": [
        "If I want to predict the image at the same resolution I will pass the same input as the target variable. Otherwise the target variable will be a full resolution image set and the low input the lower resolution one\r\n"
      ]
    },
    {
      "cell_type": "code",
      "metadata": {
        "id": "583sE9p_YN37"
      },
      "source": [
        "imgs = imgs.reshape((1440, 35*35))\r\n",
        "imgs_orig = imgs_orig.reshape((1440, 70*70))"
      ],
      "execution_count": null,
      "outputs": []
    },
    {
      "cell_type": "markdown",
      "metadata": {
        "id": "FeS5ayjVk_fc"
      },
      "source": [
        "###1a. "
      ]
    },
    {
      "cell_type": "code",
      "metadata": {
        "id": "99WcWSiuWEZ7"
      },
      "source": [
        "# object = high resolution of the images\r\n",
        "# teach how to know low resolution image and predict high resolution \r\n",
        "\r\n",
        "#from sklearn.model_selection import train_test_split\r\n",
        "#X_tr, X_te, y_tr, y_te = train_test_split(imgs, imgs_orig, test_size=0.25, random_state=1)\r\n",
        "\r\n",
        "#(input, output, test size)\r\n",
        "# test size 0.75 is typical num"
      ],
      "execution_count": null,
      "outputs": []
    },
    {
      "cell_type": "code",
      "metadata": {
        "id": "e5nQpNNKWEpz"
      },
      "source": [
        "#X_tr.shape, X_te.shape, y_tr.shape, y_te.shape"
      ],
      "execution_count": null,
      "outputs": []
    },
    {
      "cell_type": "markdown",
      "metadata": {
        "id": "A_I55enVlEl9"
      },
      "source": [
        "#1b."
      ]
    },
    {
      "cell_type": "code",
      "metadata": {
        "id": "YZ-u00-nlF1_"
      },
      "source": [
        "SUPERRESOLVE = True"
      ],
      "execution_count": null,
      "outputs": []
    },
    {
      "cell_type": "code",
      "metadata": {
        "id": "AOtH8DwrlGwb"
      },
      "source": [
        "from sklearn.model_selection import train_test_split\r\n",
        "if SUPERRESOLVE:\r\n",
        "  X_tr,  X_te, y_tr, y_te = train_test_split(imgs, imgs_orig, \r\n",
        "                                             test_size = .25, random_state=1)\r\n",
        "else:\r\n",
        "  X_tr,  X_te, y_tr, y_te = train_test_split(imgs, imgs, \r\n",
        "                                             test_size = .25, random_state=1)"
      ],
      "execution_count": null,
      "outputs": []
    },
    {
      "cell_type": "code",
      "metadata": {
        "colab": {
          "base_uri": "https://localhost:8080/"
        },
        "id": "wGu-yBf9lGsC",
        "outputId": "abf04ae5-d3d9-4963-ec5b-47d2973b3c2d"
      },
      "source": [
        "X_tr.shape, X_te.shape, y_tr.shape, y_te.shape"
      ],
      "execution_count": null,
      "outputs": [
        {
          "output_type": "execute_result",
          "data": {
            "text/plain": [
              "((1080, 1225), (360, 1225), (1080, 4900), (360, 4900))"
            ]
          },
          "metadata": {
            "tags": []
          },
          "execution_count": 27
        }
      ]
    },
    {
      "cell_type": "code",
      "metadata": {
        "id": "M5qul_hBlGlp"
      },
      "source": [
        "X_tr = X_tr.reshape(len(X_tr), np.prod(X_tr.shape[1:]))\r\n",
        "X_te = X_te.reshape(len(X_te), np.prod(X_te.shape[1:]))\r\n",
        "y_tr = y_tr.reshape(len(y_tr), np.prod(y_tr.shape[1:]))\r\n",
        "y_te = y_te.reshape(len(y_te), np.prod(y_te.shape[1:]))"
      ],
      "execution_count": null,
      "outputs": []
    },
    {
      "cell_type": "code",
      "metadata": {
        "colab": {
          "base_uri": "https://localhost:8080/"
        },
        "id": "xcCnfx9jlGd5",
        "outputId": "504569c0-a2d8-493a-faeb-843e46e4c68d"
      },
      "source": [
        "# important: we feed to the NN rows of pixels, not cubes of pixels\r\n",
        "X_tr.shape, X_te.shape, y_tr.shape, y_te.shape"
      ],
      "execution_count": null,
      "outputs": [
        {
          "output_type": "execute_result",
          "data": {
            "text/plain": [
              "((1080, 1225), (360, 1225), (1080, 4900), (360, 4900))"
            ]
          },
          "metadata": {
            "tags": []
          },
          "execution_count": 29
        }
      ]
    },
    {
      "cell_type": "markdown",
      "metadata": {
        "id": "W4qO7iJZk6na"
      },
      "source": [
        "#Build an autoencoder model"
      ]
    },
    {
      "cell_type": "markdown",
      "metadata": {
        "id": "c6TzGlEflRcL"
      },
      "source": [
        "##1a."
      ]
    },
    {
      "cell_type": "code",
      "metadata": {
        "id": "ZSZNk77IWFAM"
      },
      "source": [
        "# This is the layer of the neural network\r\n",
        "#model = Sequential()\r\n",
        "#model.add(Dense(256, activation='relu', input_dim = 1225))\r\n",
        "#model.add(Dense(128, activation='relu'))\r\n",
        "#model.add(Dense(256, activation='relu'))\r\n",
        "#model.add(Dense(1225, activation='relu'))\r\n",
        "#model.add(Dense(4900, activation='relu'))\r\n",
        "\r\n",
        "#model.summary()"
      ],
      "execution_count": null,
      "outputs": []
    },
    {
      "cell_type": "code",
      "metadata": {
        "id": "NSzHaCf5ZEPa"
      },
      "source": [
        "#model.compile(optimizer='adamax', metrics=[\"mae\", \"acc\"], loss='mse')"
      ],
      "execution_count": null,
      "outputs": []
    },
    {
      "cell_type": "code",
      "metadata": {
        "id": "DJOPGhUOZKMr"
      },
      "source": [
        "#model.fit(X_tr, y_tr, epochs=3, batch_size=16, verbose=1)\r\n",
        "\r\n",
        "# you can skip this and load the saved model\r\n",
        "#history = model.fit(X_tr, y_tr, epochs=100000, batch_size=16, verbose=1)\r\n",
        "#model.save(\"imgreconstruct_100000PUS.h5\")"
      ],
      "execution_count": null,
      "outputs": []
    },
    {
      "cell_type": "markdown",
      "metadata": {
        "id": "_Kl00n9tlaDs"
      },
      "source": [
        "##1b."
      ]
    },
    {
      "cell_type": "code",
      "metadata": {
        "colab": {
          "base_uri": "https://localhost:8080/"
        },
        "id": "btthdDQouem5",
        "outputId": "75d0df53-5c4f-4918-f91b-f48db6dadf3d"
      },
      "source": [
        "def create_model(bottleneck=128, input_dim=1225):\r\n",
        "  model = Sequential()\r\n",
        "  model.add(Dense(256, activation='relu', input_dim=1225))\r\n",
        "  model.add(Dense(128, activation='relu', name=\"bottleneck\"))\r\n",
        "  if bottleneck < 128:\r\n",
        "    model.add(Dense(bottleneck, activation='relu'))\r\n",
        "    model.add(Dense(128, activation='relu'))\r\n",
        "  model.add(Dense(256, activation='relu'))\r\n",
        "  model.add(Dense(1225, activation='relu'))\r\n",
        "  model.add(Dense(1225*4, activation='sigmoid'))\r\n",
        "  model.compile(optimizer='adamax', loss='mse',\r\n",
        "              metrics=['mae', 'acc'])# optimizer=\"adadelta\", loss=\"kullback_leibler_divergence\")\r\n",
        "  return model\r\n",
        "model = create_model()\r\n",
        "\r\n",
        "print(model.summary())"
      ],
      "execution_count": null,
      "outputs": [
        {
          "output_type": "stream",
          "text": [
            "Model: \"sequential\"\n",
            "_________________________________________________________________\n",
            "Layer (type)                 Output Shape              Param #   \n",
            "=================================================================\n",
            "dense (Dense)                (None, 256)               313856    \n",
            "_________________________________________________________________\n",
            "bottleneck (Dense)           (None, 128)               32896     \n",
            "_________________________________________________________________\n",
            "dense_1 (Dense)              (None, 256)               33024     \n",
            "_________________________________________________________________\n",
            "dense_2 (Dense)              (None, 1225)              314825    \n",
            "_________________________________________________________________\n",
            "dense_3 (Dense)              (None, 4900)              6007400   \n",
            "=================================================================\n",
            "Total params: 6,702,001\n",
            "Trainable params: 6,702,001\n",
            "Non-trainable params: 0\n",
            "_________________________________________________________________\n",
            "None\n"
          ],
          "name": "stdout"
        }
      ]
    },
    {
      "cell_type": "markdown",
      "metadata": {
        "id": "nZZbsbZtlxZM"
      },
      "source": [
        "# A trained model"
      ]
    },
    {
      "cell_type": "markdown",
      "metadata": {
        "id": "RmG4aI-7l2Ca"
      },
      "source": [
        "skip and load the pretrained I saved for you! (as long as you did not change the architecture. or to read in the saved model skip this cell, or skip the whole section and read a model from http://fbb.space/mltsa/imgreconstruct_10000.h5"
      ]
    },
    {
      "cell_type": "code",
      "metadata": {
        "id": "PVp6Zusql-ho"
      },
      "source": [
        "# you can skip this and load the saved model\r\n",
        "#history = model.fit(X_tr, y_tr, epochs=100000, batch_size=16, verbose=1)\r\n",
        "#model.save(\"imgreconstruct_100000PUS.h5\")"
      ],
      "execution_count": null,
      "outputs": []
    },
    {
      "cell_type": "code",
      "metadata": {
        "id": "hwYBJqk8leKr",
        "colab": {
          "base_uri": "https://localhost:8080/"
        },
        "outputId": "19e938b0-03be-4f99-eac8-bcf1125cec4c"
      },
      "source": [
        "#REad in the saved model\r\n",
        "!wget http://fbb.space/mltsa/imgreconstruct_10000.h5\r\n",
        "model.load_weights(\"data/imgreconstruct_10000.h5\")"
      ],
      "execution_count": null,
      "outputs": [
        {
          "output_type": "stream",
          "text": [
            "--2020-12-10 03:53:53--  http://fbb.space/mltsa/imgreconstruct_10000.h5\n",
            "Resolving fbb.space (fbb.space)... 107.180.39.232\n",
            "Connecting to fbb.space (fbb.space)|107.180.39.232|:80... connected.\n",
            "HTTP request sent, awaiting response... 200 OK\n",
            "Length: 80457300 (77M)\n",
            "Saving to: ‘imgreconstruct_10000.h5.7’\n",
            "\n",
            "imgreconstruct_1000 100%[===================>]  76.73M  2.58MB/s    in 24s     \n",
            "\n",
            "2020-12-10 03:54:17 (3.14 MB/s) - ‘imgreconstruct_10000.h5.7’ saved [80457300/80457300]\n",
            "\n"
          ],
          "name": "stdout"
        }
      ]
    },
    {
      "cell_type": "markdown",
      "metadata": {
        "id": "wuc5NSlVmJ_Q"
      },
      "source": [
        "#Predict"
      ]
    },
    {
      "cell_type": "code",
      "metadata": {
        "colab": {
          "base_uri": "https://localhost:8080/"
        },
        "id": "3HzG90M_leHd",
        "outputId": "8158fefa-9763-4033-8109-6b19f30dcc6d"
      },
      "source": [
        "outim = model.predict(X_te)\r\n",
        "outim"
      ],
      "execution_count": null,
      "outputs": [
        {
          "output_type": "execute_result",
          "data": {
            "text/plain": [
              "array([[0.23803368, 0.23000248, 0.23300679, ..., 0.14008921, 0.11853015,\n",
              "        0.09816667],\n",
              "       [0.30023423, 0.30895784, 0.303142  , ..., 0.2479376 , 0.24314575,\n",
              "        0.25033206],\n",
              "       [0.23010811, 0.2288801 , 0.23590074, ..., 0.15398994, 0.1522227 ,\n",
              "        0.15035805],\n",
              "       ...,\n",
              "       [0.19341277, 0.20078753, 0.2073016 , ..., 0.02736585, 0.03827281,\n",
              "        0.06948686],\n",
              "       [0.37431017, 0.36125186, 0.35353535, ..., 0.23280121, 0.22780858,\n",
              "        0.24385817],\n",
              "       [0.28940883, 0.29232332, 0.29830796, ..., 0.03155717, 0.03212669,\n",
              "        0.0318376 ]], dtype=float32)"
            ]
          },
          "metadata": {
            "tags": []
          },
          "execution_count": 37
        }
      ]
    },
    {
      "cell_type": "code",
      "metadata": {
        "id": "ptViRckwleC8"
      },
      "source": [
        "def compareinout(i, outim, X_tr):\r\n",
        "  '''function to plot the input, the prediction and the target in 3 columns\r\n",
        "  plots the ith training datum'''\r\n",
        "  fig = pl.figure(figsize(10,5))\r\n",
        "  ax = fig.add_subplot(131) \r\n",
        "  ax.imshow(X_te[i].reshape(imgs[i].shape[:2]) , cmap=\"bone\")\r\n",
        "  ax.get_xaxis().set_visible(False)\r\n",
        "  ax.get_yaxis().set_visible(False)\r\n",
        "  ax = fig.add_subplot(132) \r\n",
        "  ax.imshow(outim[i].reshape(imgs_orig[i].shape[:2]) , cmap=\"bone\")\r\n",
        "  ax.get_xaxis().set_visible(False)\r\n",
        "  ax.get_yaxis().set_visible(False)\r\n",
        "  ax = fig.add_subplot(133) \r\n",
        "  ax.imshow(y_te[i].reshape(imgs_orig[i].shape[:2]) , cmap=\"bone\")\r\n",
        "  ax.get_xaxis().set_visible(False)\r\n",
        "  ax.get_yaxis().set_visible(False)"
      ],
      "execution_count": null,
      "outputs": []
    },
    {
      "cell_type": "code",
      "metadata": {
        "colab": {
          "base_uri": "https://localhost:8080/",
          "height": 573
        },
        "id": "feJFVmtEld_j",
        "outputId": "9253861d-bcbd-4ce4-c334-a1fb67d7140a"
      },
      "source": [
        "np.random.seed(123)\r\n",
        "# pick a few random test images\r\n",
        "for i in range(10):\r\n",
        "  j = np.random.randint(0, len(X_te))\r\n",
        "  print(i + 1, \":\\tinput\\t\\t      prediction\\t\\t  target\")\r\n",
        "  compareinout(j, outim, X_te)\r\n",
        "  pl.show()"
      ],
      "execution_count": null,
      "outputs": [
        {
          "output_type": "stream",
          "text": [
            "1 :\tinput\t\t      prediction\t\t  target\n"
          ],
          "name": "stdout"
        },
        {
          "output_type": "error",
          "ename": "TypeError",
          "evalue": "ignored",
          "traceback": [
            "\u001b[0;31m---------------------------------------------------------------------------\u001b[0m",
            "\u001b[0;31mTypeError\u001b[0m                                 Traceback (most recent call last)",
            "\u001b[0;32m<ipython-input-52-933f1d77271c>\u001b[0m in \u001b[0;36m<module>\u001b[0;34m()\u001b[0m\n\u001b[1;32m      4\u001b[0m   \u001b[0mj\u001b[0m \u001b[0;34m=\u001b[0m \u001b[0mnp\u001b[0m\u001b[0;34m.\u001b[0m\u001b[0mrandom\u001b[0m\u001b[0;34m.\u001b[0m\u001b[0mrandint\u001b[0m\u001b[0;34m(\u001b[0m\u001b[0;36m0\u001b[0m\u001b[0;34m,\u001b[0m \u001b[0mlen\u001b[0m\u001b[0;34m(\u001b[0m\u001b[0mX_te\u001b[0m\u001b[0;34m)\u001b[0m\u001b[0;34m)\u001b[0m\u001b[0;34m\u001b[0m\u001b[0;34m\u001b[0m\u001b[0m\n\u001b[1;32m      5\u001b[0m   \u001b[0mprint\u001b[0m\u001b[0;34m(\u001b[0m\u001b[0mi\u001b[0m \u001b[0;34m+\u001b[0m \u001b[0;36m1\u001b[0m\u001b[0;34m,\u001b[0m \u001b[0;34m\":\\tinput\\t\\t      prediction\\t\\t  target\"\u001b[0m\u001b[0;34m)\u001b[0m\u001b[0;34m\u001b[0m\u001b[0;34m\u001b[0m\u001b[0m\n\u001b[0;32m----> 6\u001b[0;31m   \u001b[0mcompareinout\u001b[0m\u001b[0;34m(\u001b[0m\u001b[0mj\u001b[0m\u001b[0;34m,\u001b[0m \u001b[0moutim\u001b[0m\u001b[0;34m,\u001b[0m \u001b[0mX_te\u001b[0m\u001b[0;34m)\u001b[0m\u001b[0;34m\u001b[0m\u001b[0;34m\u001b[0m\u001b[0m\n\u001b[0m\u001b[1;32m      7\u001b[0m   \u001b[0mpl\u001b[0m\u001b[0;34m.\u001b[0m\u001b[0mshow\u001b[0m\u001b[0;34m(\u001b[0m\u001b[0;34m)\u001b[0m\u001b[0;34m\u001b[0m\u001b[0;34m\u001b[0m\u001b[0m\n",
            "\u001b[0;32m<ipython-input-38-cc965f89322c>\u001b[0m in \u001b[0;36mcompareinout\u001b[0;34m(i, outim, X_tr)\u001b[0m\n\u001b[1;32m      4\u001b[0m   \u001b[0mfig\u001b[0m \u001b[0;34m=\u001b[0m \u001b[0mpl\u001b[0m\u001b[0;34m.\u001b[0m\u001b[0mfigure\u001b[0m\u001b[0;34m(\u001b[0m\u001b[0mfigsize\u001b[0m\u001b[0;34m(\u001b[0m\u001b[0;36m10\u001b[0m\u001b[0;34m,\u001b[0m\u001b[0;36m5\u001b[0m\u001b[0;34m)\u001b[0m\u001b[0;34m)\u001b[0m\u001b[0;34m\u001b[0m\u001b[0;34m\u001b[0m\u001b[0m\n\u001b[1;32m      5\u001b[0m   \u001b[0max\u001b[0m \u001b[0;34m=\u001b[0m \u001b[0mfig\u001b[0m\u001b[0;34m.\u001b[0m\u001b[0madd_subplot\u001b[0m\u001b[0;34m(\u001b[0m\u001b[0;36m131\u001b[0m\u001b[0;34m)\u001b[0m\u001b[0;34m\u001b[0m\u001b[0;34m\u001b[0m\u001b[0m\n\u001b[0;32m----> 6\u001b[0;31m   \u001b[0max\u001b[0m\u001b[0;34m.\u001b[0m\u001b[0mimshow\u001b[0m\u001b[0;34m(\u001b[0m\u001b[0mX_te\u001b[0m\u001b[0;34m[\u001b[0m\u001b[0mi\u001b[0m\u001b[0;34m]\u001b[0m\u001b[0;34m.\u001b[0m\u001b[0mreshape\u001b[0m\u001b[0;34m(\u001b[0m\u001b[0mimgs\u001b[0m\u001b[0;34m[\u001b[0m\u001b[0mi\u001b[0m\u001b[0;34m]\u001b[0m\u001b[0;34m.\u001b[0m\u001b[0mshape\u001b[0m\u001b[0;34m[\u001b[0m\u001b[0;34m:\u001b[0m\u001b[0;36m2\u001b[0m\u001b[0;34m]\u001b[0m\u001b[0;34m)\u001b[0m \u001b[0;34m,\u001b[0m \u001b[0mcmap\u001b[0m\u001b[0;34m=\u001b[0m\u001b[0;34m\"bone\"\u001b[0m\u001b[0;34m)\u001b[0m\u001b[0;34m\u001b[0m\u001b[0;34m\u001b[0m\u001b[0m\n\u001b[0m\u001b[1;32m      7\u001b[0m   \u001b[0max\u001b[0m\u001b[0;34m.\u001b[0m\u001b[0mget_xaxis\u001b[0m\u001b[0;34m(\u001b[0m\u001b[0;34m)\u001b[0m\u001b[0;34m.\u001b[0m\u001b[0mset_visible\u001b[0m\u001b[0;34m(\u001b[0m\u001b[0;32mFalse\u001b[0m\u001b[0;34m)\u001b[0m\u001b[0;34m\u001b[0m\u001b[0;34m\u001b[0m\u001b[0m\n\u001b[1;32m      8\u001b[0m   \u001b[0max\u001b[0m\u001b[0;34m.\u001b[0m\u001b[0mget_yaxis\u001b[0m\u001b[0;34m(\u001b[0m\u001b[0;34m)\u001b[0m\u001b[0;34m.\u001b[0m\u001b[0mset_visible\u001b[0m\u001b[0;34m(\u001b[0m\u001b[0;32mFalse\u001b[0m\u001b[0;34m)\u001b[0m\u001b[0;34m\u001b[0m\u001b[0;34m\u001b[0m\u001b[0m\n",
            "\u001b[0;32m/usr/local/lib/python3.6/dist-packages/matplotlib/__init__.py\u001b[0m in \u001b[0;36minner\u001b[0;34m(ax, data, *args, **kwargs)\u001b[0m\n\u001b[1;32m   1563\u001b[0m     \u001b[0;32mdef\u001b[0m \u001b[0minner\u001b[0m\u001b[0;34m(\u001b[0m\u001b[0max\u001b[0m\u001b[0;34m,\u001b[0m \u001b[0;34m*\u001b[0m\u001b[0margs\u001b[0m\u001b[0;34m,\u001b[0m \u001b[0mdata\u001b[0m\u001b[0;34m=\u001b[0m\u001b[0;32mNone\u001b[0m\u001b[0;34m,\u001b[0m \u001b[0;34m**\u001b[0m\u001b[0mkwargs\u001b[0m\u001b[0;34m)\u001b[0m\u001b[0;34m:\u001b[0m\u001b[0;34m\u001b[0m\u001b[0;34m\u001b[0m\u001b[0m\n\u001b[1;32m   1564\u001b[0m         \u001b[0;32mif\u001b[0m \u001b[0mdata\u001b[0m \u001b[0;32mis\u001b[0m \u001b[0;32mNone\u001b[0m\u001b[0;34m:\u001b[0m\u001b[0;34m\u001b[0m\u001b[0;34m\u001b[0m\u001b[0m\n\u001b[0;32m-> 1565\u001b[0;31m             \u001b[0;32mreturn\u001b[0m \u001b[0mfunc\u001b[0m\u001b[0;34m(\u001b[0m\u001b[0max\u001b[0m\u001b[0;34m,\u001b[0m \u001b[0;34m*\u001b[0m\u001b[0mmap\u001b[0m\u001b[0;34m(\u001b[0m\u001b[0msanitize_sequence\u001b[0m\u001b[0;34m,\u001b[0m \u001b[0margs\u001b[0m\u001b[0;34m)\u001b[0m\u001b[0;34m,\u001b[0m \u001b[0;34m**\u001b[0m\u001b[0mkwargs\u001b[0m\u001b[0;34m)\u001b[0m\u001b[0;34m\u001b[0m\u001b[0;34m\u001b[0m\u001b[0m\n\u001b[0m\u001b[1;32m   1566\u001b[0m \u001b[0;34m\u001b[0m\u001b[0m\n\u001b[1;32m   1567\u001b[0m         \u001b[0mbound\u001b[0m \u001b[0;34m=\u001b[0m \u001b[0mnew_sig\u001b[0m\u001b[0;34m.\u001b[0m\u001b[0mbind\u001b[0m\u001b[0;34m(\u001b[0m\u001b[0max\u001b[0m\u001b[0;34m,\u001b[0m \u001b[0;34m*\u001b[0m\u001b[0margs\u001b[0m\u001b[0;34m,\u001b[0m \u001b[0;34m**\u001b[0m\u001b[0mkwargs\u001b[0m\u001b[0;34m)\u001b[0m\u001b[0;34m\u001b[0m\u001b[0;34m\u001b[0m\u001b[0m\n",
            "\u001b[0;32m/usr/local/lib/python3.6/dist-packages/matplotlib/cbook/deprecation.py\u001b[0m in \u001b[0;36mwrapper\u001b[0;34m(*args, **kwargs)\u001b[0m\n\u001b[1;32m    356\u001b[0m                 \u001b[0;34mf\"%(removal)s.  If any parameter follows {name!r}, they \"\u001b[0m\u001b[0;34m\u001b[0m\u001b[0;34m\u001b[0m\u001b[0m\n\u001b[1;32m    357\u001b[0m                 f\"should be pass as keyword, not positionally.\")\n\u001b[0;32m--> 358\u001b[0;31m         \u001b[0;32mreturn\u001b[0m \u001b[0mfunc\u001b[0m\u001b[0;34m(\u001b[0m\u001b[0;34m*\u001b[0m\u001b[0margs\u001b[0m\u001b[0;34m,\u001b[0m \u001b[0;34m**\u001b[0m\u001b[0mkwargs\u001b[0m\u001b[0;34m)\u001b[0m\u001b[0;34m\u001b[0m\u001b[0;34m\u001b[0m\u001b[0m\n\u001b[0m\u001b[1;32m    359\u001b[0m \u001b[0;34m\u001b[0m\u001b[0m\n\u001b[1;32m    360\u001b[0m     \u001b[0;32mreturn\u001b[0m \u001b[0mwrapper\u001b[0m\u001b[0;34m\u001b[0m\u001b[0;34m\u001b[0m\u001b[0m\n",
            "\u001b[0;32m/usr/local/lib/python3.6/dist-packages/matplotlib/cbook/deprecation.py\u001b[0m in \u001b[0;36mwrapper\u001b[0;34m(*args, **kwargs)\u001b[0m\n\u001b[1;32m    356\u001b[0m                 \u001b[0;34mf\"%(removal)s.  If any parameter follows {name!r}, they \"\u001b[0m\u001b[0;34m\u001b[0m\u001b[0;34m\u001b[0m\u001b[0m\n\u001b[1;32m    357\u001b[0m                 f\"should be pass as keyword, not positionally.\")\n\u001b[0;32m--> 358\u001b[0;31m         \u001b[0;32mreturn\u001b[0m \u001b[0mfunc\u001b[0m\u001b[0;34m(\u001b[0m\u001b[0;34m*\u001b[0m\u001b[0margs\u001b[0m\u001b[0;34m,\u001b[0m \u001b[0;34m**\u001b[0m\u001b[0mkwargs\u001b[0m\u001b[0;34m)\u001b[0m\u001b[0;34m\u001b[0m\u001b[0;34m\u001b[0m\u001b[0m\n\u001b[0m\u001b[1;32m    359\u001b[0m \u001b[0;34m\u001b[0m\u001b[0m\n\u001b[1;32m    360\u001b[0m     \u001b[0;32mreturn\u001b[0m \u001b[0mwrapper\u001b[0m\u001b[0;34m\u001b[0m\u001b[0;34m\u001b[0m\u001b[0m\n",
            "\u001b[0;32m/usr/local/lib/python3.6/dist-packages/matplotlib/axes/_axes.py\u001b[0m in \u001b[0;36mimshow\u001b[0;34m(self, X, cmap, norm, aspect, interpolation, alpha, vmin, vmax, origin, extent, shape, filternorm, filterrad, imlim, resample, url, **kwargs)\u001b[0m\n\u001b[1;32m   5624\u001b[0m                               resample=resample, **kwargs)\n\u001b[1;32m   5625\u001b[0m \u001b[0;34m\u001b[0m\u001b[0m\n\u001b[0;32m-> 5626\u001b[0;31m         \u001b[0mim\u001b[0m\u001b[0;34m.\u001b[0m\u001b[0mset_data\u001b[0m\u001b[0;34m(\u001b[0m\u001b[0mX\u001b[0m\u001b[0;34m)\u001b[0m\u001b[0;34m\u001b[0m\u001b[0;34m\u001b[0m\u001b[0m\n\u001b[0m\u001b[1;32m   5627\u001b[0m         \u001b[0mim\u001b[0m\u001b[0;34m.\u001b[0m\u001b[0mset_alpha\u001b[0m\u001b[0;34m(\u001b[0m\u001b[0malpha\u001b[0m\u001b[0;34m)\u001b[0m\u001b[0;34m\u001b[0m\u001b[0;34m\u001b[0m\u001b[0m\n\u001b[1;32m   5628\u001b[0m         \u001b[0;32mif\u001b[0m \u001b[0mim\u001b[0m\u001b[0;34m.\u001b[0m\u001b[0mget_clip_path\u001b[0m\u001b[0;34m(\u001b[0m\u001b[0;34m)\u001b[0m \u001b[0;32mis\u001b[0m \u001b[0;32mNone\u001b[0m\u001b[0;34m:\u001b[0m\u001b[0;34m\u001b[0m\u001b[0;34m\u001b[0m\u001b[0m\n",
            "\u001b[0;32m/usr/local/lib/python3.6/dist-packages/matplotlib/image.py\u001b[0m in \u001b[0;36mset_data\u001b[0;34m(self, A)\u001b[0m\n\u001b[1;32m    697\u001b[0m                 or self._A.ndim == 3 and self._A.shape[-1] in [3, 4]):\n\u001b[1;32m    698\u001b[0m             raise TypeError(\"Invalid shape {} for image data\"\n\u001b[0;32m--> 699\u001b[0;31m                             .format(self._A.shape))\n\u001b[0m\u001b[1;32m    700\u001b[0m \u001b[0;34m\u001b[0m\u001b[0m\n\u001b[1;32m    701\u001b[0m         \u001b[0;32mif\u001b[0m \u001b[0mself\u001b[0m\u001b[0;34m.\u001b[0m\u001b[0m_A\u001b[0m\u001b[0;34m.\u001b[0m\u001b[0mndim\u001b[0m \u001b[0;34m==\u001b[0m \u001b[0;36m3\u001b[0m\u001b[0;34m:\u001b[0m\u001b[0;34m\u001b[0m\u001b[0;34m\u001b[0m\u001b[0m\n",
            "\u001b[0;31mTypeError\u001b[0m: Invalid shape (1225,) for image data"
          ]
        },
        {
          "output_type": "display_data",
          "data": {
            "image/png": "[encoded data removed]",
            "text/plain": [
              "<Figure size 720x360 with 1 Axes>"
            ]
          },
          "metadata": {
            "tags": [],
            "needs_background": "light"
          }
        }
      ]
    },
    {
      "cell_type": "markdown",
      "metadata": {
        "id": "9ArnS1VrmkEj"
      },
      "source": [
        "# the bottleneck layer output\r\n",
        "\r\n",
        "Show the latent representation of the data: "
      ]
    },
    {
      "cell_type": "code",
      "metadata": {
        "colab": {
          "base_uri": "https://localhost:8080/",
          "height": 350
        },
        "id": "fK1YVqNVld7n",
        "outputId": "6ae929dc-f9a2-42b8-9756-2debef059189"
      },
      "source": [
        "from keras import backend as K\r\n",
        "# input placeholder\r\n",
        "inp = model.input                   \r\n",
        "# extract the bottle neck outputs\r\n",
        "outputs = model.layers[2].output     \r\n",
        "# create a function to evaluate the output of the bottle neck layer for a given input\r\n",
        "functors = K.function([inp], [outputs])    \r\n",
        "\r\n",
        "# Testing\r\n",
        "layer_outs = functors(X_te[:5])\r\n",
        "  \r\n",
        "for i in range(5):\r\n",
        "  pl.plot(layer_outs[0][i] + i)\r\n",
        "\r\n",
        "pl.xlabel(\"feature\")\r\n",
        "pl.yticks([],\"\")\r\n",
        "pl.title(\"latent representation of the test data\");"
      ],
      "execution_count": null,
      "outputs": [
        {
          "output_type": "display_data",
          "data": {
            "image/png": "[encoded data removed]",
            "text/plain": [
              "<Figure size 720x360 with 1 Axes>"
            ]
          },
          "metadata": {
            "tags": [],
            "needs_background": "light"
          }
        }
      ]
    },
    {
      "cell_type": "markdown",
      "metadata": {
        "id": "5Z8asYvimt-z"
      },
      "source": [
        "# Test the model on my own image"
      ]
    },
    {
      "cell_type": "code",
      "metadata": {
        "id": "BxW811otld2o"
      },
      "source": [
        "imme = Image.open(\"Kyungmin.jpg\")"
      ],
      "execution_count": null,
      "outputs": []
    },
    {
      "cell_type": "code",
      "metadata": {
        "colab": {
          "base_uri": "https://localhost:8080/",
          "height": 323
        },
        "id": "qRogmXQDldx3",
        "outputId": "b75a5192-4b68-451f-d159-989297ad3480"
      },
      "source": [
        "np_im = numpy.array(imme)[:,:,:3].astype(float) / 255\r\n",
        "pl.figure()\r\n",
        "#pl.imshow(np_im[50:600,250:700,:] )\r\n",
        "pl.imshow(np_im)\r\n",
        "np_im[100:625,250:775,:].shape, np.prod(np_im.shape[1:]);"
      ],
      "execution_count": null,
      "outputs": [
        {
          "output_type": "display_data",
          "data": {
            "image/png": "[encoded data removed]",
            "text/plain": [
              "<Figure size 720x360 with 1 Axes>"
            ]
          },
          "metadata": {
            "tags": [],
            "needs_background": "light"
          }
        }
      ]
    },
    {
      "cell_type": "code",
      "metadata": {
        "colab": {
          "base_uri": "https://localhost:8080/"
        },
        "id": "97UXkLK3oBKx",
        "outputId": "469260e9-9ca5-44b2-cd54-91b949239fbc"
      },
      "source": [
        "np_im.shape"
      ],
      "execution_count": null,
      "outputs": [
        {
          "output_type": "execute_result",
          "data": {
            "text/plain": [
              "(427, 319, 3)"
            ]
          },
          "metadata": {
            "tags": []
          },
          "execution_count": 43
        }
      ]
    },
    {
      "cell_type": "code",
      "metadata": {
        "colab": {
          "base_uri": "https://localhost:8080/",
          "height": 303
        },
        "id": "JmWBjnvDneNl",
        "outputId": "e863700b-4c75-4950-93d4-52295dfa8e35"
      },
      "source": [
        "#low resolution version subsampling by 15\r\n",
        "#np_im_me = np_im[100:625,250:775,:][::15,::15,1]\r\n",
        "\r\n",
        "# Lower the resolution\r\n",
        "np_im_me = np_im[::15,::15,1]\r\n",
        "pl.imshow(np_im_me, cmap=\"bone\")\r\n",
        "pl.axis('off');"
      ],
      "execution_count": null,
      "outputs": [
        {
          "output_type": "display_data",
          "data": {
            "image/png": "[encoded data removed]",
            "text/plain": [
              "<Figure size 720x360 with 1 Axes>"
            ]
          },
          "metadata": {
            "tags": [],
            "needs_background": "light"
          }
        }
      ]
    },
    {
      "cell_type": "code",
      "metadata": {
        "colab": {
          "base_uri": "https://localhost:8080/"
        },
        "id": "h_WqihfRyn7M",
        "outputId": "4547d7d0-bb9d-449f-8323-c811f2bb8ad9"
      },
      "source": [
        "#this is the number of pixels in the image\r\n",
        "np.prod(np_im_me[0].shape)"
      ],
      "execution_count": null,
      "outputs": [
        {
          "output_type": "execute_result",
          "data": {
            "text/plain": [
              "22"
            ]
          },
          "metadata": {
            "tags": []
          },
          "execution_count": 48
        }
      ]
    },
    {
      "cell_type": "code",
      "metadata": {
        "colab": {
          "base_uri": "https://localhost:8080/"
        },
        "id": "CPVu3prIonRZ",
        "outputId": "f9717dbe-6065-4f19-cad7-312ec14fcd0d"
      },
      "source": [
        "np_im_me.shape"
      ],
      "execution_count": null,
      "outputs": [
        {
          "output_type": "execute_result",
          "data": {
            "text/plain": [
              "(29, 22)"
            ]
          },
          "metadata": {
            "tags": []
          },
          "execution_count": 45
        }
      ]
    },
    {
      "cell_type": "code",
      "metadata": {
        "colab": {
          "base_uri": "https://localhost:8080/",
          "height": 707
        },
        "id": "atUhlvgwntsa",
        "outputId": "8e2bb45f-8a4e-4a78-f552-45cb5350ce81"
      },
      "source": [
        "X_te_me = np.array([np_im_me.flatten()])\r\n",
        "outim_me = model.predict(X_te_me)\r\n",
        "pl.imshow(outim_me.reshape(22,29), cmap=\"bone\")\r\n",
        "pl.axis('off');"
      ],
      "execution_count": null,
      "outputs": [
        {
          "output_type": "error",
          "ename": "ValueError",
          "evalue": "ignored",
          "traceback": [
            "\u001b[0;31m---------------------------------------------------------------------------\u001b[0m",
            "\u001b[0;31mValueError\u001b[0m                                Traceback (most recent call last)",
            "\u001b[0;32m<ipython-input-47-0595219b8f2f>\u001b[0m in \u001b[0;36m<module>\u001b[0;34m()\u001b[0m\n\u001b[0;32m----> 1\u001b[0;31m \u001b[0mpl\u001b[0m\u001b[0;34m.\u001b[0m\u001b[0mimshow\u001b[0m\u001b[0;34m(\u001b[0m\u001b[0mmodel\u001b[0m\u001b[0;34m.\u001b[0m\u001b[0mpredict\u001b[0m\u001b[0;34m(\u001b[0m\u001b[0mnp\u001b[0m\u001b[0;34m.\u001b[0m\u001b[0marray\u001b[0m\u001b[0;34m(\u001b[0m\u001b[0;34m[\u001b[0m\u001b[0mnp_im_me\u001b[0m\u001b[0;34m.\u001b[0m\u001b[0mflatten\u001b[0m\u001b[0;34m(\u001b[0m\u001b[0;34m)\u001b[0m\u001b[0;34m]\u001b[0m\u001b[0;34m)\u001b[0m\u001b[0;34m)\u001b[0m\u001b[0;34m.\u001b[0m\u001b[0mreshape\u001b[0m\u001b[0;34m(\u001b[0m\u001b[0;36m22\u001b[0m\u001b[0;34m,\u001b[0m\u001b[0;36m29\u001b[0m\u001b[0;34m)\u001b[0m\u001b[0;34m,\u001b[0m \u001b[0mcmap\u001b[0m\u001b[0;34m=\u001b[0m\u001b[0;34m\"bone\"\u001b[0m\u001b[0;34m)\u001b[0m\u001b[0;34m\u001b[0m\u001b[0;34m\u001b[0m\u001b[0m\n\u001b[0m\u001b[1;32m      2\u001b[0m \u001b[0mpl\u001b[0m\u001b[0;34m.\u001b[0m\u001b[0maxis\u001b[0m\u001b[0;34m(\u001b[0m\u001b[0;34m'off'\u001b[0m\u001b[0;34m)\u001b[0m\u001b[0;34m;\u001b[0m\u001b[0;34m\u001b[0m\u001b[0;34m\u001b[0m\u001b[0m\n",
            "\u001b[0;32m/usr/local/lib/python3.6/dist-packages/tensorflow/python/keras/engine/training.py\u001b[0m in \u001b[0;36m_method_wrapper\u001b[0;34m(self, *args, **kwargs)\u001b[0m\n\u001b[1;32m    128\u001b[0m       raise ValueError('{} is not supported in multi-worker mode.'.format(\n\u001b[1;32m    129\u001b[0m           method.__name__))\n\u001b[0;32m--> 130\u001b[0;31m     \u001b[0;32mreturn\u001b[0m \u001b[0mmethod\u001b[0m\u001b[0;34m(\u001b[0m\u001b[0mself\u001b[0m\u001b[0;34m,\u001b[0m \u001b[0;34m*\u001b[0m\u001b[0margs\u001b[0m\u001b[0;34m,\u001b[0m \u001b[0;34m**\u001b[0m\u001b[0mkwargs\u001b[0m\u001b[0;34m)\u001b[0m\u001b[0;34m\u001b[0m\u001b[0;34m\u001b[0m\u001b[0m\n\u001b[0m\u001b[1;32m    131\u001b[0m \u001b[0;34m\u001b[0m\u001b[0m\n\u001b[1;32m    132\u001b[0m   return tf_decorator.make_decorator(\n",
            "\u001b[0;32m/usr/local/lib/python3.6/dist-packages/tensorflow/python/keras/engine/training.py\u001b[0m in \u001b[0;36mpredict\u001b[0;34m(self, x, batch_size, verbose, steps, callbacks, max_queue_size, workers, use_multiprocessing)\u001b[0m\n\u001b[1;32m   1597\u001b[0m           \u001b[0;32mfor\u001b[0m \u001b[0mstep\u001b[0m \u001b[0;32min\u001b[0m \u001b[0mdata_handler\u001b[0m\u001b[0;34m.\u001b[0m\u001b[0msteps\u001b[0m\u001b[0;34m(\u001b[0m\u001b[0;34m)\u001b[0m\u001b[0;34m:\u001b[0m\u001b[0;34m\u001b[0m\u001b[0;34m\u001b[0m\u001b[0m\n\u001b[1;32m   1598\u001b[0m             \u001b[0mcallbacks\u001b[0m\u001b[0;34m.\u001b[0m\u001b[0mon_predict_batch_begin\u001b[0m\u001b[0;34m(\u001b[0m\u001b[0mstep\u001b[0m\u001b[0;34m)\u001b[0m\u001b[0;34m\u001b[0m\u001b[0;34m\u001b[0m\u001b[0m\n\u001b[0;32m-> 1599\u001b[0;31m             \u001b[0mtmp_batch_outputs\u001b[0m \u001b[0;34m=\u001b[0m \u001b[0mpredict_function\u001b[0m\u001b[0;34m(\u001b[0m\u001b[0miterator\u001b[0m\u001b[0;34m)\u001b[0m\u001b[0;34m\u001b[0m\u001b[0;34m\u001b[0m\u001b[0m\n\u001b[0m\u001b[1;32m   1600\u001b[0m             \u001b[0;32mif\u001b[0m \u001b[0mdata_handler\u001b[0m\u001b[0;34m.\u001b[0m\u001b[0mshould_sync\u001b[0m\u001b[0;34m:\u001b[0m\u001b[0;34m\u001b[0m\u001b[0;34m\u001b[0m\u001b[0m\n\u001b[1;32m   1601\u001b[0m               \u001b[0mcontext\u001b[0m\u001b[0;34m.\u001b[0m\u001b[0masync_wait\u001b[0m\u001b[0;34m(\u001b[0m\u001b[0;34m)\u001b[0m\u001b[0;34m\u001b[0m\u001b[0;34m\u001b[0m\u001b[0m\n",
            "\u001b[0;32m/usr/local/lib/python3.6/dist-packages/tensorflow/python/eager/def_function.py\u001b[0m in \u001b[0;36m__call__\u001b[0;34m(self, *args, **kwds)\u001b[0m\n\u001b[1;32m    778\u001b[0m       \u001b[0;32melse\u001b[0m\u001b[0;34m:\u001b[0m\u001b[0;34m\u001b[0m\u001b[0;34m\u001b[0m\u001b[0m\n\u001b[1;32m    779\u001b[0m         \u001b[0mcompiler\u001b[0m \u001b[0;34m=\u001b[0m \u001b[0;34m\"nonXla\"\u001b[0m\u001b[0;34m\u001b[0m\u001b[0;34m\u001b[0m\u001b[0m\n\u001b[0;32m--> 780\u001b[0;31m         \u001b[0mresult\u001b[0m \u001b[0;34m=\u001b[0m \u001b[0mself\u001b[0m\u001b[0;34m.\u001b[0m\u001b[0m_call\u001b[0m\u001b[0;34m(\u001b[0m\u001b[0;34m*\u001b[0m\u001b[0margs\u001b[0m\u001b[0;34m,\u001b[0m \u001b[0;34m**\u001b[0m\u001b[0mkwds\u001b[0m\u001b[0;34m)\u001b[0m\u001b[0;34m\u001b[0m\u001b[0;34m\u001b[0m\u001b[0m\n\u001b[0m\u001b[1;32m    781\u001b[0m \u001b[0;34m\u001b[0m\u001b[0m\n\u001b[1;32m    782\u001b[0m       \u001b[0mnew_tracing_count\u001b[0m \u001b[0;34m=\u001b[0m \u001b[0mself\u001b[0m\u001b[0;34m.\u001b[0m\u001b[0m_get_tracing_count\u001b[0m\u001b[0;34m(\u001b[0m\u001b[0;34m)\u001b[0m\u001b[0;34m\u001b[0m\u001b[0;34m\u001b[0m\u001b[0m\n",
            "\u001b[0;32m/usr/local/lib/python3.6/dist-packages/tensorflow/python/eager/def_function.py\u001b[0m in \u001b[0;36m_call\u001b[0;34m(self, *args, **kwds)\u001b[0m\n\u001b[1;32m    812\u001b[0m       \u001b[0;31m# In this case we have not created variables on the first call. So we can\u001b[0m\u001b[0;34m\u001b[0m\u001b[0;34m\u001b[0m\u001b[0;34m\u001b[0m\u001b[0m\n\u001b[1;32m    813\u001b[0m       \u001b[0;31m# run the first trace but we should fail if variables are created.\u001b[0m\u001b[0;34m\u001b[0m\u001b[0;34m\u001b[0m\u001b[0;34m\u001b[0m\u001b[0m\n\u001b[0;32m--> 814\u001b[0;31m       \u001b[0mresults\u001b[0m \u001b[0;34m=\u001b[0m \u001b[0mself\u001b[0m\u001b[0;34m.\u001b[0m\u001b[0m_stateful_fn\u001b[0m\u001b[0;34m(\u001b[0m\u001b[0;34m*\u001b[0m\u001b[0margs\u001b[0m\u001b[0;34m,\u001b[0m \u001b[0;34m**\u001b[0m\u001b[0mkwds\u001b[0m\u001b[0;34m)\u001b[0m\u001b[0;34m\u001b[0m\u001b[0;34m\u001b[0m\u001b[0m\n\u001b[0m\u001b[1;32m    815\u001b[0m       \u001b[0;32mif\u001b[0m \u001b[0mself\u001b[0m\u001b[0;34m.\u001b[0m\u001b[0m_created_variables\u001b[0m\u001b[0;34m:\u001b[0m\u001b[0;34m\u001b[0m\u001b[0;34m\u001b[0m\u001b[0m\n\u001b[1;32m    816\u001b[0m         raise ValueError(\"Creating variables on a non-first call to a function\"\n",
            "\u001b[0;32m/usr/local/lib/python3.6/dist-packages/tensorflow/python/eager/function.py\u001b[0m in \u001b[0;36m__call__\u001b[0;34m(self, *args, **kwargs)\u001b[0m\n\u001b[1;32m   2826\u001b[0m     \u001b[0;34m\"\"\"Calls a graph function specialized to the inputs.\"\"\"\u001b[0m\u001b[0;34m\u001b[0m\u001b[0;34m\u001b[0m\u001b[0m\n\u001b[1;32m   2827\u001b[0m     \u001b[0;32mwith\u001b[0m \u001b[0mself\u001b[0m\u001b[0;34m.\u001b[0m\u001b[0m_lock\u001b[0m\u001b[0;34m:\u001b[0m\u001b[0;34m\u001b[0m\u001b[0;34m\u001b[0m\u001b[0m\n\u001b[0;32m-> 2828\u001b[0;31m       \u001b[0mgraph_function\u001b[0m\u001b[0;34m,\u001b[0m \u001b[0margs\u001b[0m\u001b[0;34m,\u001b[0m \u001b[0mkwargs\u001b[0m \u001b[0;34m=\u001b[0m \u001b[0mself\u001b[0m\u001b[0;34m.\u001b[0m\u001b[0m_maybe_define_function\u001b[0m\u001b[0;34m(\u001b[0m\u001b[0margs\u001b[0m\u001b[0;34m,\u001b[0m \u001b[0mkwargs\u001b[0m\u001b[0;34m)\u001b[0m\u001b[0;34m\u001b[0m\u001b[0;34m\u001b[0m\u001b[0m\n\u001b[0m\u001b[1;32m   2829\u001b[0m     \u001b[0;32mreturn\u001b[0m \u001b[0mgraph_function\u001b[0m\u001b[0;34m.\u001b[0m\u001b[0m_filtered_call\u001b[0m\u001b[0;34m(\u001b[0m\u001b[0margs\u001b[0m\u001b[0;34m,\u001b[0m \u001b[0mkwargs\u001b[0m\u001b[0;34m)\u001b[0m  \u001b[0;31m# pylint: disable=protected-access\u001b[0m\u001b[0;34m\u001b[0m\u001b[0;34m\u001b[0m\u001b[0m\n\u001b[1;32m   2830\u001b[0m \u001b[0;34m\u001b[0m\u001b[0m\n",
            "\u001b[0;32m/usr/local/lib/python3.6/dist-packages/tensorflow/python/eager/function.py\u001b[0m in \u001b[0;36m_maybe_define_function\u001b[0;34m(self, args, kwargs)\u001b[0m\n\u001b[1;32m   3208\u001b[0m           \u001b[0;32mand\u001b[0m \u001b[0mself\u001b[0m\u001b[0;34m.\u001b[0m\u001b[0minput_signature\u001b[0m \u001b[0;32mis\u001b[0m \u001b[0;32mNone\u001b[0m\u001b[0;34m\u001b[0m\u001b[0;34m\u001b[0m\u001b[0m\n\u001b[1;32m   3209\u001b[0m           and call_context_key in self._function_cache.missed):\n\u001b[0;32m-> 3210\u001b[0;31m         \u001b[0;32mreturn\u001b[0m \u001b[0mself\u001b[0m\u001b[0;34m.\u001b[0m\u001b[0m_define_function_with_shape_relaxation\u001b[0m\u001b[0;34m(\u001b[0m\u001b[0margs\u001b[0m\u001b[0;34m,\u001b[0m \u001b[0mkwargs\u001b[0m\u001b[0;34m)\u001b[0m\u001b[0;34m\u001b[0m\u001b[0;34m\u001b[0m\u001b[0m\n\u001b[0m\u001b[1;32m   3211\u001b[0m \u001b[0;34m\u001b[0m\u001b[0m\n\u001b[1;32m   3212\u001b[0m       \u001b[0mself\u001b[0m\u001b[0;34m.\u001b[0m\u001b[0m_function_cache\u001b[0m\u001b[0;34m.\u001b[0m\u001b[0mmissed\u001b[0m\u001b[0;34m.\u001b[0m\u001b[0madd\u001b[0m\u001b[0;34m(\u001b[0m\u001b[0mcall_context_key\u001b[0m\u001b[0;34m)\u001b[0m\u001b[0;34m\u001b[0m\u001b[0;34m\u001b[0m\u001b[0m\n",
            "\u001b[0;32m/usr/local/lib/python3.6/dist-packages/tensorflow/python/eager/function.py\u001b[0m in \u001b[0;36m_define_function_with_shape_relaxation\u001b[0;34m(self, args, kwargs)\u001b[0m\n\u001b[1;32m   3140\u001b[0m \u001b[0;34m\u001b[0m\u001b[0m\n\u001b[1;32m   3141\u001b[0m     graph_function = self._create_graph_function(\n\u001b[0;32m-> 3142\u001b[0;31m         args, kwargs, override_flat_arg_shapes=relaxed_arg_shapes)\n\u001b[0m\u001b[1;32m   3143\u001b[0m     \u001b[0mself\u001b[0m\u001b[0;34m.\u001b[0m\u001b[0m_function_cache\u001b[0m\u001b[0;34m.\u001b[0m\u001b[0marg_relaxed\u001b[0m\u001b[0;34m[\u001b[0m\u001b[0mrank_only_cache_key\u001b[0m\u001b[0;34m]\u001b[0m \u001b[0;34m=\u001b[0m \u001b[0mgraph_function\u001b[0m\u001b[0;34m\u001b[0m\u001b[0;34m\u001b[0m\u001b[0m\n\u001b[1;32m   3144\u001b[0m \u001b[0;34m\u001b[0m\u001b[0m\n",
            "\u001b[0;32m/usr/local/lib/python3.6/dist-packages/tensorflow/python/eager/function.py\u001b[0m in \u001b[0;36m_create_graph_function\u001b[0;34m(self, args, kwargs, override_flat_arg_shapes)\u001b[0m\n\u001b[1;32m   3073\u001b[0m             \u001b[0marg_names\u001b[0m\u001b[0;34m=\u001b[0m\u001b[0marg_names\u001b[0m\u001b[0;34m,\u001b[0m\u001b[0;34m\u001b[0m\u001b[0;34m\u001b[0m\u001b[0m\n\u001b[1;32m   3074\u001b[0m             \u001b[0moverride_flat_arg_shapes\u001b[0m\u001b[0;34m=\u001b[0m\u001b[0moverride_flat_arg_shapes\u001b[0m\u001b[0;34m,\u001b[0m\u001b[0;34m\u001b[0m\u001b[0;34m\u001b[0m\u001b[0m\n\u001b[0;32m-> 3075\u001b[0;31m             capture_by_value=self._capture_by_value),\n\u001b[0m\u001b[1;32m   3076\u001b[0m         \u001b[0mself\u001b[0m\u001b[0;34m.\u001b[0m\u001b[0m_function_attributes\u001b[0m\u001b[0;34m,\u001b[0m\u001b[0;34m\u001b[0m\u001b[0;34m\u001b[0m\u001b[0m\n\u001b[1;32m   3077\u001b[0m         \u001b[0mfunction_spec\u001b[0m\u001b[0;34m=\u001b[0m\u001b[0mself\u001b[0m\u001b[0;34m.\u001b[0m\u001b[0mfunction_spec\u001b[0m\u001b[0;34m,\u001b[0m\u001b[0;34m\u001b[0m\u001b[0;34m\u001b[0m\u001b[0m\n",
            "\u001b[0;32m/usr/local/lib/python3.6/dist-packages/tensorflow/python/framework/func_graph.py\u001b[0m in \u001b[0;36mfunc_graph_from_py_func\u001b[0;34m(name, python_func, args, kwargs, signature, func_graph, autograph, autograph_options, add_control_dependencies, arg_names, op_return_value, collections, capture_by_value, override_flat_arg_shapes)\u001b[0m\n\u001b[1;32m    984\u001b[0m         \u001b[0m_\u001b[0m\u001b[0;34m,\u001b[0m \u001b[0moriginal_func\u001b[0m \u001b[0;34m=\u001b[0m \u001b[0mtf_decorator\u001b[0m\u001b[0;34m.\u001b[0m\u001b[0munwrap\u001b[0m\u001b[0;34m(\u001b[0m\u001b[0mpython_func\u001b[0m\u001b[0;34m)\u001b[0m\u001b[0;34m\u001b[0m\u001b[0;34m\u001b[0m\u001b[0m\n\u001b[1;32m    985\u001b[0m \u001b[0;34m\u001b[0m\u001b[0m\n\u001b[0;32m--> 986\u001b[0;31m       \u001b[0mfunc_outputs\u001b[0m \u001b[0;34m=\u001b[0m \u001b[0mpython_func\u001b[0m\u001b[0;34m(\u001b[0m\u001b[0;34m*\u001b[0m\u001b[0mfunc_args\u001b[0m\u001b[0;34m,\u001b[0m \u001b[0;34m**\u001b[0m\u001b[0mfunc_kwargs\u001b[0m\u001b[0;34m)\u001b[0m\u001b[0;34m\u001b[0m\u001b[0;34m\u001b[0m\u001b[0m\n\u001b[0m\u001b[1;32m    987\u001b[0m \u001b[0;34m\u001b[0m\u001b[0m\n\u001b[1;32m    988\u001b[0m       \u001b[0;31m# invariant: `func_outputs` contains only Tensors, CompositeTensors,\u001b[0m\u001b[0;34m\u001b[0m\u001b[0;34m\u001b[0m\u001b[0;34m\u001b[0m\u001b[0m\n",
            "\u001b[0;32m/usr/local/lib/python3.6/dist-packages/tensorflow/python/eager/def_function.py\u001b[0m in \u001b[0;36mwrapped_fn\u001b[0;34m(*args, **kwds)\u001b[0m\n\u001b[1;32m    598\u001b[0m         \u001b[0;31m# __wrapped__ allows AutoGraph to swap in a converted function. We give\u001b[0m\u001b[0;34m\u001b[0m\u001b[0;34m\u001b[0m\u001b[0;34m\u001b[0m\u001b[0m\n\u001b[1;32m    599\u001b[0m         \u001b[0;31m# the function a weak reference to itself to avoid a reference cycle.\u001b[0m\u001b[0;34m\u001b[0m\u001b[0;34m\u001b[0m\u001b[0;34m\u001b[0m\u001b[0m\n\u001b[0;32m--> 600\u001b[0;31m         \u001b[0;32mreturn\u001b[0m \u001b[0mweak_wrapped_fn\u001b[0m\u001b[0;34m(\u001b[0m\u001b[0;34m)\u001b[0m\u001b[0;34m.\u001b[0m\u001b[0m__wrapped__\u001b[0m\u001b[0;34m(\u001b[0m\u001b[0;34m*\u001b[0m\u001b[0margs\u001b[0m\u001b[0;34m,\u001b[0m \u001b[0;34m**\u001b[0m\u001b[0mkwds\u001b[0m\u001b[0;34m)\u001b[0m\u001b[0;34m\u001b[0m\u001b[0;34m\u001b[0m\u001b[0m\n\u001b[0m\u001b[1;32m    601\u001b[0m     \u001b[0mweak_wrapped_fn\u001b[0m \u001b[0;34m=\u001b[0m \u001b[0mweakref\u001b[0m\u001b[0;34m.\u001b[0m\u001b[0mref\u001b[0m\u001b[0;34m(\u001b[0m\u001b[0mwrapped_fn\u001b[0m\u001b[0;34m)\u001b[0m\u001b[0;34m\u001b[0m\u001b[0;34m\u001b[0m\u001b[0m\n\u001b[1;32m    602\u001b[0m \u001b[0;34m\u001b[0m\u001b[0m\n",
            "\u001b[0;32m/usr/local/lib/python3.6/dist-packages/tensorflow/python/framework/func_graph.py\u001b[0m in \u001b[0;36mwrapper\u001b[0;34m(*args, **kwargs)\u001b[0m\n\u001b[1;32m    971\u001b[0m           \u001b[0;32mexcept\u001b[0m \u001b[0mException\u001b[0m \u001b[0;32mas\u001b[0m \u001b[0me\u001b[0m\u001b[0;34m:\u001b[0m  \u001b[0;31m# pylint:disable=broad-except\u001b[0m\u001b[0;34m\u001b[0m\u001b[0;34m\u001b[0m\u001b[0m\n\u001b[1;32m    972\u001b[0m             \u001b[0;32mif\u001b[0m \u001b[0mhasattr\u001b[0m\u001b[0;34m(\u001b[0m\u001b[0me\u001b[0m\u001b[0;34m,\u001b[0m \u001b[0;34m\"ag_error_metadata\"\u001b[0m\u001b[0;34m)\u001b[0m\u001b[0;34m:\u001b[0m\u001b[0;34m\u001b[0m\u001b[0;34m\u001b[0m\u001b[0m\n\u001b[0;32m--> 973\u001b[0;31m               \u001b[0;32mraise\u001b[0m \u001b[0me\u001b[0m\u001b[0;34m.\u001b[0m\u001b[0mag_error_metadata\u001b[0m\u001b[0;34m.\u001b[0m\u001b[0mto_exception\u001b[0m\u001b[0;34m(\u001b[0m\u001b[0me\u001b[0m\u001b[0;34m)\u001b[0m\u001b[0;34m\u001b[0m\u001b[0;34m\u001b[0m\u001b[0m\n\u001b[0m\u001b[1;32m    974\u001b[0m             \u001b[0;32melse\u001b[0m\u001b[0;34m:\u001b[0m\u001b[0;34m\u001b[0m\u001b[0;34m\u001b[0m\u001b[0m\n\u001b[1;32m    975\u001b[0m               \u001b[0;32mraise\u001b[0m\u001b[0;34m\u001b[0m\u001b[0;34m\u001b[0m\u001b[0m\n",
            "\u001b[0;31mValueError\u001b[0m: in user code:\n\n    /usr/local/lib/python3.6/dist-packages/tensorflow/python/keras/engine/training.py:1462 predict_function  *\n        return step_function(self, iterator)\n    /usr/local/lib/python3.6/dist-packages/tensorflow/python/keras/engine/training.py:1452 step_function  **\n        outputs = model.distribute_strategy.run(run_step, args=(data,))\n    /usr/local/lib/python3.6/dist-packages/tensorflow/python/distribute/distribute_lib.py:1211 run\n        return self._extended.call_for_each_replica(fn, args=args, kwargs=kwargs)\n    /usr/local/lib/python3.6/dist-packages/tensorflow/python/distribute/distribute_lib.py:2585 call_for_each_replica\n        return self._call_for_each_replica(fn, args, kwargs)\n    /usr/local/lib/python3.6/dist-packages/tensorflow/python/distribute/distribute_lib.py:2945 _call_for_each_replica\n        return fn(*args, **kwargs)\n    /usr/local/lib/python3.6/dist-packages/tensorflow/python/keras/engine/training.py:1445 run_step  **\n        outputs = model.predict_step(data)\n    /usr/local/lib/python3.6/dist-packages/tensorflow/python/keras/engine/training.py:1418 predict_step\n        return self(x, training=False)\n    /usr/local/lib/python3.6/dist-packages/tensorflow/python/keras/engine/base_layer.py:976 __call__\n        self.name)\n    /usr/local/lib/python3.6/dist-packages/tensorflow/python/keras/engine/input_spec.py:216 assert_input_compatibility\n        ' but received input with shape ' + str(shape))\n\n    ValueError: Input 0 of layer sequential is incompatible with the layer: expected axis -1 of input shape to have value 1225 but received input with shape [None, 638]\n"
          ]
        }
      ]
    },
    {
      "cell_type": "code",
      "metadata": {
        "id": "bE0i1-pZn0aC"
      },
      "source": [
        ""
      ],
      "execution_count": null,
      "outputs": []
    }
  ]
}