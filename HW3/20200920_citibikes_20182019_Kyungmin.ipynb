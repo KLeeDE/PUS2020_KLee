{
  "nbformat": 4,
  "nbformat_minor": 0,
  "metadata": {
    "anaconda-cloud": {},
    "kernelspec": {
      "display_name": "Python 2",
      "language": "python",
      "name": "python2"
    },
    "language_info": {
      "codemirror_mode": {
        "name": "ipython",
        "version": 2
      },
      "file_extension": ".py",
      "mimetype": "text/x-python",
      "name": "python",
      "nbconvert_exporter": "python",
      "pygments_lexer": "ipython2",
      "version": "2.7.12"
    },
    "colab": {
      "name": "20200920_citibikes_20182019_Kyungmin.ipynb",
      "provenance": [],
      "toc_visible": true,
      "include_colab_link": true
    }
  },
  "cells": [
    {
      "cell_type": "markdown",
      "metadata": {
        "id": "view-in-github",
        "colab_type": "text"
      },
      "source": [
        "<a href=\"https://colab.research.google.com/github/KLeeDE/PUS2020_KLee/blob/master/HW3/20200920_citibikes_20182019_Kyungmin.ipynb\" target=\"_parent\"><img src=\"https://colab.research.google.com/assets/colab-badge.svg\" alt=\"Open In Colab\"/></a>"
      ]
    },
    {
      "cell_type": "markdown",
      "metadata": {
        "id": "4aESq4aYc3Tw",
        "colab_type": "text"
      },
      "source": [
        "# Homework 3\n",
        "Written by Kyungmin Lee / @KLeeDE / \n",
        "for UDel PUS2020\n",
        "\n",
        "## Contents\n",
        "1. Come up with a question about the Citibike data usage. It can be anything that involves Categorical data. \n",
        "2. Choose the significance threshold\n",
        "3. Clearly state they Null and Alternate hypothesis (in words and a math formula)\n",
        "4. Wrangle the data so that it is ready for your analysis.\n",
        "5. Explore the data statistical properties (mean, standard deviation...)\n",
        "6. Answer your question with a Z test \n",
        "7. Answer your question with a Cohen's h & Chi-squared test of proportions "
      ]
    },
    {
      "cell_type": "code",
      "metadata": {
        "scrolled": true,
        "id": "LEcE6IScc3Tx",
        "colab_type": "code",
        "colab": {
          "base_uri": "https://localhost:8080/",
          "height": 90
        },
        "outputId": "155afff2-58e0-49df-d5e2-60ed0733ba86"
      },
      "source": [
        "# -- import the data\n",
        "from __future__  import print_function, division\n",
        "import pylab as plt\n",
        "import pandas as pd\n",
        "import numpy as np\n",
        "\n",
        "%pylab inline"
      ],
      "execution_count": 1,
      "outputs": [
        {
          "output_type": "stream",
          "text": [
            "Populating the interactive namespace from numpy and matplotlib\n"
          ],
          "name": "stdout"
        },
        {
          "output_type": "stream",
          "text": [
            "/usr/local/lib/python2.7/dist-packages/IPython/core/magics/pylab.py:161: UserWarning: pylab import has clobbered these variables: ['plt']\n",
            "`%matplotlib` prevents importing * from pylab and numpy\n",
            "  \"\\n`%matplotlib` prevents importing * from pylab and numpy\"\n"
          ],
          "name": "stderr"
        }
      ]
    },
    {
      "cell_type": "markdown",
      "metadata": {
        "id": "SSxAbyHGc2g6",
        "colab_type": "text"
      },
      "source": [
        "# Step 1: Come up with a question about the Citibike data usage\n",
        "\n",
        "* IDEA: People are more likely to ride citibikes on weekends in May, 2019 than May, 2018 (The number of biking trips on weekends has been increased in one year).\n"
      ]
    },
    {
      "cell_type": "markdown",
      "metadata": {
        "id": "Wt0xSNT5dV7M",
        "colab_type": "text"
      },
      "source": [
        "# Step 2: Choose the significance threshold\n",
        "* I will use a significance level  $\\alpha=0.05$, which means i want the probability of getting a result at least as significant as mine to be less then 5%"
      ]
    },
    {
      "cell_type": "markdown",
      "metadata": {
        "id": "V-bKj0Xjc3T5",
        "colab_type": "text"
      },
      "source": [
        "# Step 3: Clearly state they Null and Alternate hypothesis\n",
        "*   NULL / ALTERNATIVE HYPOTHESIS: The proportion of people who biked on weekends in May 2019 is _the same_ or _higher_  than the proportion of people who biked on weekends in May 2018.\n",
        "\n",
        "*   P18 : people who biked in May 2018\n",
        "*   P19 : people who biked in May 2019\n",
        "\n",
        "## _$H_0$_ : $\\frac{P18_{\\mathrm{weekend}}}{P18_{\\mathrm{total}}} <= \\frac{P19_{\\mathrm{weekend}}}{P19_{\\mathrm{total}}}$\n",
        "## _$H_1$_ : $\\frac{P18_{\\mathrm{weekend}}}{P18_{\\mathrm{total}}} > \\frac{P19_{\\mathrm{weekend}}}{P19_{\\mathrm{total}}}$\n",
        "\n",
        "or identically:\n",
        "\n",
        "## _$H_0$_ : $\\frac{P18_{\\mathrm{weekend}}}{P18_{\\mathrm{total}}} - \\frac{P19_{\\mathrm{weekend}}}{P19_{\\mathrm{total}}} <= 0 $\n",
        "## _$H_1$_ : $\\frac{P18_{\\mathrm{weekend}}}{P18_{\\mathrm{total}}} - \\frac{P19_{\\mathrm{weekend}}}{P19_{\\mathrm{total}}} > 0$\n",
        "\n"
      ]
    },
    {
      "cell_type": "markdown",
      "metadata": {
        "id": "xsi5nnLPc-i6",
        "colab_type": "text"
      },
      "source": [
        "# Step 4:  Data analysis"
      ]
    },
    {
      "cell_type": "code",
      "metadata": {
        "id": "TLDKMJbyc3UL",
        "colab_type": "code",
        "colab": {}
      },
      "source": [
        "# Pull data on May 2018\n",
        "datestring18 = '201805'\n",
        "cbMay18 = pd.read_csv(\"https://s3.amazonaws.com/tripdata/\"+ datestring18 + \"-citibike-tripdata.csv.zip\")\n",
        "\n",
        "# Pull data on May 2019\n",
        "datestring19 = '201905'\n",
        "cbMay19 = pd.read_csv(\"https://s3.amazonaws.com/tripdata/\"+ datestring19 + \"-citibike-tripdata.csv.zip\")"
      ],
      "execution_count": 2,
      "outputs": []
    },
    {
      "cell_type": "code",
      "metadata": {
        "id": "qXZRzcNeKysK",
        "colab_type": "code",
        "colab": {
          "base_uri": "https://localhost:8080/",
          "height": 126
        },
        "outputId": "81a29d6f-4fd8-467f-a0ca-cf385248b460"
      },
      "source": [
        "cbMay18.columns"
      ],
      "execution_count": 3,
      "outputs": [
        {
          "output_type": "execute_result",
          "data": {
            "text/plain": [
              "Index([u'tripduration', u'starttime', u'stoptime', u'start station id',\n",
              "       u'start station name', u'start station latitude',\n",
              "       u'start station longitude', u'end station id', u'end station name',\n",
              "       u'end station latitude', u'end station longitude', u'bikeid',\n",
              "       u'usertype', u'birth year', u'gender'],\n",
              "      dtype='object')"
            ]
          },
          "metadata": {
            "tags": []
          },
          "execution_count": 3
        }
      ]
    },
    {
      "cell_type": "code",
      "metadata": {
        "id": "oFCbtqm_c3UY",
        "colab_type": "code",
        "colab": {
          "base_uri": "https://localhost:8080/",
          "height": 126
        },
        "outputId": "5add4588-9aaf-4ce4-b894-ea537cdb37be"
      },
      "source": [
        "cbMay19.columns"
      ],
      "execution_count": 4,
      "outputs": [
        {
          "output_type": "execute_result",
          "data": {
            "text/plain": [
              "Index([u'tripduration', u'starttime', u'stoptime', u'start station id',\n",
              "       u'start station name', u'start station latitude',\n",
              "       u'start station longitude', u'end station id', u'end station name',\n",
              "       u'end station latitude', u'end station longitude', u'bikeid',\n",
              "       u'usertype', u'birth year', u'gender'],\n",
              "      dtype='object')"
            ]
          },
          "metadata": {
            "tags": []
          },
          "execution_count": 4
        }
      ]
    },
    {
      "cell_type": "code",
      "metadata": {
        "id": "kzf6FJ4ueuRm",
        "colab_type": "code",
        "colab": {}
      },
      "source": [
        "#add a datetime object\n",
        "cbMay18[\"date\"] = pd.to_datetime(cbMay18.starttime)\n",
        "cbMay19[\"date\"] = pd.to_datetime(cbMay19.starttime)"
      ],
      "execution_count": 5,
      "outputs": []
    },
    {
      "cell_type": "code",
      "metadata": {
        "id": "kAkhVwZKc3Uc",
        "colab_type": "code",
        "colab": {}
      },
      "source": [
        "#clean up\n",
        "cbMay18.drop(['tripduration', 'starttime', 'stoptime', 'start station id',\n",
        "       'start station name', 'start station latitude',\n",
        "       'start station longitude', 'end station id', 'end station name',\n",
        "       'end station latitude', 'end station longitude', 'bikeid', 'usertype',\n",
        "       'birth year'], axis=1, inplace=True)\n",
        "\n",
        "cbMay19.drop(['tripduration', 'starttime', 'stoptime', 'start station id',\n",
        "       'start station name', 'start station latitude',\n",
        "       'start station longitude', 'end station id', 'end station name',\n",
        "       'end station latitude', 'end station longitude', 'bikeid', 'usertype',\n",
        "       'birth year'], axis=1, inplace=True)"
      ],
      "execution_count": 6,
      "outputs": []
    },
    {
      "cell_type": "code",
      "metadata": {
        "id": "muiMvWLac3Ui",
        "colab_type": "code",
        "colab": {
          "base_uri": "https://localhost:8080/",
          "height": 198
        },
        "outputId": "b7b51d10-8fc8-46fa-f2cd-cf0d2b828307"
      },
      "source": [
        "cbMay18.head()"
      ],
      "execution_count": 7,
      "outputs": [
        {
          "output_type": "execute_result",
          "data": {
            "text/plain": [
              "   gender                    date\n",
              "0       1 2018-05-01 05:06:16.584\n",
              "1       1 2018-05-01 06:25:49.425\n",
              "2       2 2018-05-01 06:40:26.445\n",
              "3       1 2018-05-01 07:06:02.973\n",
              "4       1 2018-05-01 07:26:32.345"
            ],
            "text/html": [
              "<div>\n",
              "<style scoped>\n",
              "    .dataframe tbody tr th:only-of-type {\n",
              "        vertical-align: middle;\n",
              "    }\n",
              "\n",
              "    .dataframe tbody tr th {\n",
              "        vertical-align: top;\n",
              "    }\n",
              "\n",
              "    .dataframe thead th {\n",
              "        text-align: right;\n",
              "    }\n",
              "</style>\n",
              "<table border=\"1\" class=\"dataframe\">\n",
              "  <thead>\n",
              "    <tr style=\"text-align: right;\">\n",
              "      <th></th>\n",
              "      <th>gender</th>\n",
              "      <th>date</th>\n",
              "    </tr>\n",
              "  </thead>\n",
              "  <tbody>\n",
              "    <tr>\n",
              "      <th>0</th>\n",
              "      <td>1</td>\n",
              "      <td>2018-05-01 05:06:16.584</td>\n",
              "    </tr>\n",
              "    <tr>\n",
              "      <th>1</th>\n",
              "      <td>1</td>\n",
              "      <td>2018-05-01 06:25:49.425</td>\n",
              "    </tr>\n",
              "    <tr>\n",
              "      <th>2</th>\n",
              "      <td>2</td>\n",
              "      <td>2018-05-01 06:40:26.445</td>\n",
              "    </tr>\n",
              "    <tr>\n",
              "      <th>3</th>\n",
              "      <td>1</td>\n",
              "      <td>2018-05-01 07:06:02.973</td>\n",
              "    </tr>\n",
              "    <tr>\n",
              "      <th>4</th>\n",
              "      <td>1</td>\n",
              "      <td>2018-05-01 07:26:32.345</td>\n",
              "    </tr>\n",
              "  </tbody>\n",
              "</table>\n",
              "</div>"
            ]
          },
          "metadata": {
            "tags": []
          },
          "execution_count": 7
        }
      ]
    },
    {
      "cell_type": "code",
      "metadata": {
        "id": "7yV_0VurLYAZ",
        "colab_type": "code",
        "colab": {
          "base_uri": "https://localhost:8080/",
          "height": 198
        },
        "outputId": "2c5b30aa-84b5-4a5f-f148-b83a63c714df"
      },
      "source": [
        "cbMay19.head()"
      ],
      "execution_count": 18,
      "outputs": [
        {
          "output_type": "execute_result",
          "data": {
            "text/plain": [
              "   gender                    date\n",
              "0       1 2019-05-01 00:00:01.901\n",
              "1       0 2019-05-01 00:00:03.021\n",
              "2       1 2019-05-01 00:00:04.627\n",
              "3       1 2019-05-01 00:00:19.334\n",
              "4       1 2019-05-01 00:00:22.184"
            ],
            "text/html": [
              "<div>\n",
              "<style scoped>\n",
              "    .dataframe tbody tr th:only-of-type {\n",
              "        vertical-align: middle;\n",
              "    }\n",
              "\n",
              "    .dataframe tbody tr th {\n",
              "        vertical-align: top;\n",
              "    }\n",
              "\n",
              "    .dataframe thead th {\n",
              "        text-align: right;\n",
              "    }\n",
              "</style>\n",
              "<table border=\"1\" class=\"dataframe\">\n",
              "  <thead>\n",
              "    <tr style=\"text-align: right;\">\n",
              "      <th></th>\n",
              "      <th>gender</th>\n",
              "      <th>date</th>\n",
              "    </tr>\n",
              "  </thead>\n",
              "  <tbody>\n",
              "    <tr>\n",
              "      <th>0</th>\n",
              "      <td>1</td>\n",
              "      <td>2019-05-01 00:00:01.901</td>\n",
              "    </tr>\n",
              "    <tr>\n",
              "      <th>1</th>\n",
              "      <td>0</td>\n",
              "      <td>2019-05-01 00:00:03.021</td>\n",
              "    </tr>\n",
              "    <tr>\n",
              "      <th>2</th>\n",
              "      <td>1</td>\n",
              "      <td>2019-05-01 00:00:04.627</td>\n",
              "    </tr>\n",
              "    <tr>\n",
              "      <th>3</th>\n",
              "      <td>1</td>\n",
              "      <td>2019-05-01 00:00:19.334</td>\n",
              "    </tr>\n",
              "    <tr>\n",
              "      <th>4</th>\n",
              "      <td>1</td>\n",
              "      <td>2019-05-01 00:00:22.184</td>\n",
              "    </tr>\n",
              "  </tbody>\n",
              "</table>\n",
              "</div>"
            ]
          },
          "metadata": {
            "tags": []
          },
          "execution_count": 18
        }
      ]
    },
    {
      "cell_type": "code",
      "metadata": {
        "id": "yf8daER-L0B0",
        "colab_type": "code",
        "colab": {}
      },
      "source": [
        "# May 2018\n",
        "counts18 = cbMay18['date'].groupby([cbMay18.date.dt.weekday]).count()\n",
        "# May 2019\n",
        "counts19 = cbMay19['date'].groupby([cbMay19.date.dt.weekday]).count()"
      ],
      "execution_count": 48,
      "outputs": []
    },
    {
      "cell_type": "code",
      "metadata": {
        "id": "nxqJVltpQxyZ",
        "colab_type": "code",
        "colab": {
          "base_uri": "https://localhost:8080/",
          "height": 323
        },
        "outputId": "7a222edd-2d26-4885-dc27-dc36d99a2580"
      },
      "source": [
        "# plot\n",
        "ax = counts18.plot(kind=\"bar\", \n",
        "                                                                        color='IndianRed', \n",
        "                                                                        label='May 2018')\n",
        "ax = counts19.plot(kind=\"bar\", \n",
        "                                                                        color='SteelBlue', \n",
        "                                                                        alpha=0.5,\n",
        "                                                                        label='May 2019', ax=ax)\n",
        "\n",
        "tmp = ax.xaxis.set_ticklabels(['Mon', 'Tue', 'Wed', 'Thu', 'Fri', 'Sat', 'Sun'])\n",
        "plt.legend();\n",
        "plt.title(\"Number of rides by year and day of the week\\n(May, 2018-2019)\");\n",
        "plt.ylabel(\"number of rides\");"
      ],
      "execution_count": 47,
      "outputs": [
        {
          "output_type": "display_data",
          "data": {
            "image/png": "[encoded data removed]",
            "text/plain": [
              "<Figure size 432x288 with 1 Axes>"
            ]
          },
          "metadata": {
            "tags": [],
            "needs_background": "light"
          }
        }
      ]
    },
    {
      "cell_type": "markdown",
      "metadata": {
        "id": "pcfSras_c3U-",
        "colab_type": "text"
      },
      "source": [
        "## Figure 1: Distribution of Citibike bikers by day of the week in May 2018-2019, absolute counts\n",
        "\n",
        "This graph shows the distribution of citibike bikers by day of the week. The indian red color represents the number of bikers who ride citibikes in May 2018. The steel blue color represents the number of bikers who ride citibikes in May 2018. Each color shows the difference between the number of bikers between May 2018 and May 2019. According to the graph, the number of bikers has been increased on Wednesdaym Thursday, Friday, and Saturday. Otherwise, the number of bikers has been decreased on Monday, Tuesday, and Sunday. "
      ]
    },
    {
      "cell_type": "code",
      "metadata": {
        "id": "up-TnXLIUKBO",
        "colab_type": "code",
        "colab": {
          "base_uri": "https://localhost:8080/",
          "height": 54
        },
        "outputId": "19cf312e-d485-47b7-9620-b6c9461eb3b6"
      },
      "source": [
        "# May 2018\n",
        "counts18 = cbMay18['date'].groupby([cbMay18.date.dt.weekday]).count()\n",
        "norm18 = len(cbMay18)\n",
        "error18 = cbMay18[\"date\"][cbMay18.date.dt.weekday < 5].groupby(cbMay18.date.dt.date).count().std()\n",
        "eweekend18 = cbMay18[\"date\"][cbMay18.date.dt.weekday >= 5].groupby(cbMay18.date.dt.date).count().std()\n",
        "print(norm18, error18, eweekend18)\n",
        "\n",
        "# May 2019\n",
        "counts19 = cbMay19['date'].groupby([cbMay19.date.dt.weekday]).count()\n",
        "norm19 = len(cbMay19)\n",
        "error19 = cbMay19[\"date\"][cbMay19.date.dt.weekday < 5].groupby(cbMay19.date.dt.date).count().std()\n",
        "eweekend19 = cbMay19[\"date\"][cbMay19.date.dt.weekday >= 5].groupby(cbMay19.date.dt.date).count().std()\n",
        "print(norm19, error19, eweekend19)"
      ],
      "execution_count": 54,
      "outputs": [
        {
          "output_type": "stream",
          "text": [
            "1824710 11585.741003696874 16706.778726334836\n",
            "1924563 13874.002308466579 24300.783830685672\n"
          ],
          "name": "stdout"
        }
      ]
    },
    {
      "cell_type": "code",
      "metadata": {
        "id": "CXmkQqcWUVat",
        "colab_type": "code",
        "colab": {
          "base_uri": "https://localhost:8080/",
          "height": 323
        },
        "outputId": "432b4baf-8208-48c2-ac35-d61cf31e7222"
      },
      "source": [
        "ax=(counts18 / norm18).plot(kind=\"bar\",color='IndianRed', label='2018')\n",
        "(counts19 / norm19).plot(kind=\"bar\", alpha=0.5, \n",
        "                           color='SteelBlue', label='2019', ax=ax)\n",
        "ax.xaxis.set_ticklabels(['Mon','Tue','Wed','Thu','Fri','Sat','Sun'], fontsize=10)\n",
        "ax.set_ylabel (\"Number of rides\")\n",
        "ax.set_xlabel (\"Day of the week\")\n",
        "plt.legend();\n",
        "plt.title(\"Normalized number of rides by year and day of the week\\n(May, 2018-2019)\");"
      ],
      "execution_count": 55,
      "outputs": [
        {
          "output_type": "display_data",
          "data": {
            "image/png": "[encoded data removed]",
            "text/plain": [
              "<Figure size 432x288 with 1 Axes>"
            ]
          },
          "metadata": {
            "tags": [],
            "needs_background": "light"
          }
        }
      ]
    },
    {
      "cell_type": "markdown",
      "metadata": {
        "id": "PpzvA4zMc3VT",
        "colab_type": "text"
      },
      "source": [
        "## Figure 2: Distribution of Citibike bikers by gender in May 2019, normalized\n",
        "\n",
        "This graph shows the *normalized* distribution of citibike bikers by day of the week. The indian red color represents the fraction of bikers who ride citibikes in May 2018. The steel blue color represents the fraction of bikers who ride citibikes in May 2018. Each color shows the difference between the normalized fraction of bikers between May 2018 and May 2019. According to the graph, the normalized fraction of bikers has been increased on  Friday and Saturday. Otherwise, the fraction of bikers has been decreased on Monday, Tuesday, Wednesday, Thursday, and Sunday. \n"
      ]
    },
    {
      "cell_type": "markdown",
      "metadata": {
        "id": "HTcHdUwgc3VT",
        "colab_type": "text"
      },
      "source": [
        "* we can add up the weekend days and normalize by the totals, then this becomes a test of proportions, (like the one seen in the [employment notebook](https://github.com/fedhere/UInotebooks/blob/master/hypothesistesting/effectivenes%20of%20NYC%20Post-Prison%20Employment%20Programs.save.ipynb))\n",
        "* Set up the test of proportions\n",
        "* I need the fraction of women that bikes during the weekdays and the fraction that bikes during weekends, and the same for men"
      ]
    },
    {
      "cell_type": "code",
      "metadata": {
        "id": "sEbVvA9nVbDA",
        "colab_type": "code",
        "colab": {
          "base_uri": "https://localhost:8080/",
          "height": 54
        },
        "outputId": "1d61c329-fd3c-499d-8fe2-f9d64a29f46d"
      },
      "source": [
        "# May 2018\n",
        "week18 = sum(counts18[:-2]) * 1.0 / norm18  #fraction of riders in 2018 riding on week days\n",
        "weekend18 = sum(counts18[-2:]) * 1.0 / norm18  #fraction of riders in 2018 riding on weekends\n",
        "eweek18 = error18 / norm18  #error on fraction number of riders in 2018 riding on week days\n",
        "eweekend18 = eweekend18 / norm18 #error on fraction number of riders in 2018 riding on weekends\n",
        "\n",
        "# May 2019\n",
        "week19 = sum(counts19[:-2]) * 1.0 / norm19\n",
        "weekend19 = sum(counts19[-2:]) * 1.0 / norm19\n",
        "eweek19= error19 / norm19  \n",
        "eweekend19 = eweekend19 / norm19\n",
        "\n",
        "print(\"2018: week:{0:.3f}, weekend:{1:.3f}, weekend error:{2:.3f}, weekend error:{3:.3f}\"\\\n",
        "      .format(week18, weekend18, eweek18, eweekend18))\n",
        "print(\"2019: week:{0:.3f}, weekend:{1:.3f}, weekend error:{2:.3f}, weekend error:{3:.3f}\"\\\n",
        "      .format(week19, weekend19, eweek19, eweekend19))"
      ],
      "execution_count": 61,
      "outputs": [
        {
          "output_type": "stream",
          "text": [
            "2018: week:0.822, weekend:0.178, weekend error:0.006, weekend error:0.009\n",
            "2019: week:0.789, weekend:0.211, weekend error:0.007, weekend error:0.013\n"
          ],
          "name": "stdout"
        }
      ]
    },
    {
      "cell_type": "code",
      "metadata": {
        "id": "eKeAQ94GVZzb",
        "colab_type": "code",
        "colab": {
          "base_uri": "https://localhost:8080/",
          "height": 221
        },
        "outputId": "94cb4d72-f719-47f9-eea8-6e76944a2230"
      },
      "source": [
        "# Plot\n",
        "fig = plt.figure(figsize=(10,3))\n",
        "ax1 = fig.add_subplot(121)\n",
        "ax2 = fig.add_subplot(122)\n",
        "\n",
        "ax1.errorbar([0.2], [week18], yerr=[eweek18], fmt='o', label='2018', color='IndianRed')\n",
        "ax1.errorbar([0.4], [week19], yerr=[eweek19], fmt='o', label='2019', color='SteelBlue')\n",
        "ax1.set_xlim(0, 0.5)\n",
        "ax2.errorbar([0.2], [weekend18], yerr=[eweekend18], fmt='o', label='2018', color='IndianRed')\n",
        "ax2.errorbar([0.4], [weekend19], yerr=[eweekend19], fmt='o', label='2019', color='SteelBlue')\n",
        "ax1.set_xlim(0, 0.5)\n",
        "ax1.set_title(\"week days\")\n",
        "ax2.set_title(\"weekends\")\n",
        "ax2.set_ylabel(\"Fraction of normalized riders by year\")\n",
        "ax1.set_ylabel(\"Fraction of normalized riders by year\")\n",
        "ax1.set_xticks([])\n",
        "ax2.set_xticks([])\n",
        "plt.xlim(-0.5, 1.5)\n",
        "plt.legend();"
      ],
      "execution_count": 83,
      "outputs": [
        {
          "output_type": "display_data",
          "data": {
            "image/png": "[encoded data removed]",
            "text/plain": [
              "<Figure size 720x216 with 2 Axes>"
            ]
          },
          "metadata": {
            "tags": [],
            "needs_background": "light"
          }
        }
      ]
    },
    {
      "cell_type": "markdown",
      "metadata": {
        "id": "_3Ta2efIc3VY",
        "colab_type": "text"
      },
      "source": [
        "## Figure 3: Fraction of Citibike bikers in May 2018 and 2019 for week days (left) and weekends (right)\n",
        "\n",
        "This graph shows difference of the fraction of normalized citibike bikers in May 2018 and 2019. The left figure represents for week days and the right figure represents weekends. The indian red color indicates the fraction of normalized bikers who ride citibikes in May 2018. The steel blue color indicates the fraction of normalized bikers who ride citibikes in May 2018. According to the graph, the fraction of normalized bikers had been decreased on weekdays. Otherwise, the fraction of normalized bikers had been increased on weekends. "
      ]
    },
    {
      "cell_type": "markdown",
      "metadata": {
        "id": "0CA3MzuQc3VZ",
        "colab_type": "text"
      },
      "source": [
        "* Null Hypothesis: Is the percentage of people riding citibikes on weekends in May 2018 lower or equal to that of people riding citibikes on weekends in May 2019?\n",
        "\n",
        "* The statistics is: \n",
        " $z = \\frac{(p_0 - p_1)}{SE} $\n",
        " $p =\\frac{p_0  n_0 + p_1  n_1}{n_0+n_1}$\n",
        " $SE = \\sqrt{ p  ( 1 - p )  (\\frac{1}{n_0} + \\frac{1}{n_1}) }$\n",
        "and in this notation \n",
        "$p_0 = \\frac{P18_{\\mathrm{weekend}}}{P18_{\\mathrm{total}}}$\n",
        " and \n",
        " $p_1 = \\frac{P19_{\\mathrm{weekend}}}{P19_{\\mathrm{total}}}$\n"
      ]
    },
    {
      "cell_type": "code",
      "metadata": {
        "id": "6V1HV4Dqc3VZ",
        "colab_type": "code",
        "colab": {
          "base_uri": "https://localhost:8080/",
          "height": 54
        },
        "outputId": "d5a0d4f8-929e-4ab3-ab39-4703826a193e"
      },
      "source": [
        "P0mP1 = weekend18 - weekend19\n",
        "print (\"difference between the portion in 2018 and 2019: {:.2f}\".format(P0mP1))\n",
        "if P0mP1 <= 0:\n",
        "    # we are done...\n",
        "    print(\"In accordance with Null Hypothesis\")\n",
        "else:\n",
        "    # morework to do\n",
        "    print (\"We must check the significance before we reject the Null Hypothesis\")"
      ],
      "execution_count": 63,
      "outputs": [
        {
          "output_type": "stream",
          "text": [
            "difference between the portion in 2018 and 2019: -0.03\n",
            "In accordance with Null Hypothesis\n"
          ],
          "name": "stdout"
        }
      ]
    },
    {
      "cell_type": "markdown",
      "metadata": {
        "id": "pj_l-BtVZ-eX",
        "colab_type": "text"
      },
      "source": [
        "According to the test above, the difference between the portion in 2018 and 2019 is in accordance with Null Hypothesis. Therefore, the proportion of people who biked on weekends in May 2019 is _the same_ or _higher_  than the proportion of people who biked on weekends in May 2018."
      ]
    },
    {
      "cell_type": "markdown",
      "metadata": {
        "id": "lqqpM_ssd1AH",
        "colab_type": "text"
      },
      "source": [
        "# Step 5: Data statistical properties (mean, standard deviation...)"
      ]
    },
    {
      "cell_type": "code",
      "metadata": {
        "id": "eQsVpKuNduVE",
        "colab_type": "code",
        "colab": {
          "base_uri": "https://localhost:8080/",
          "height": 163
        },
        "outputId": "bad63657-405e-4766-b7e2-33d2614f0e5b"
      },
      "source": [
        "# absolute counts\n",
        "print(\"In 2018, the number of bikers on weekends: Mean is {0} and Standard deviation is {1}\".format(round(counts18.mean(),2), round(counts18.std(),2)))\n",
        "print(\"In 2019, the number of bikers on weekends: Mean is {0} and Standard deviation is {1}\".format(round(counts19.mean(),2), round(counts19.std(),2)))\n",
        "print(\"\")\n",
        "# fraction (week)\n",
        "print(\"In 2018, the fraction of standardized bikers on week days: Mean is {0} and Standard deviation is {1}\".format(round(week18.mean(),2), round(week18.std(),2)))\n",
        "print(\"In 2019, the fraction of standardized bikers on week days: Mean is {0} and Standard deviation is {1}\".format(round(week19.mean(),2), round(week19.std(),2)))\n",
        "print(\"\")\n",
        "# fraction (weekend)\n",
        "print(\"In 2018, the fraction of standardized bikers on weekends: Mean is {0} and Standard deviation is {1}\".format(round(weekend18.mean(),2), round(weekend18.std(),2)))\n",
        "print(\"In 2019, the fraction of standardized biekrs on weekends: Mean is {0} and Standard deviation is {1}\".format(round(weekend19.mean(),2), round(weekend19.std(),2)))"
      ],
      "execution_count": 85,
      "outputs": [
        {
          "output_type": "stream",
          "text": [
            "In 2018, the number of bikers on weekends: Mean is 260672.86 and Standard deviation is 72103.57\n",
            "In 2019, the number of bikers on weekends: Mean is 274937.57 and Standard deviation is 75176.9\n",
            "\n",
            "In 2018, the fraction of standardized bikers on week days: Mean is 0.82 and Standard deviation is 0.0\n",
            "In 2019, the fraction of standardized bikers on week days: Mean is 0.79 and Standard deviation is 0.0\n",
            "\n",
            "In 2018, the fraction of standardized bikers on weekends: Mean is 0.18 and Standard deviation is 0.0\n",
            "In 2019, the fraction of standardized biekrs on weekends: Mean is 0.21 and Standard deviation is 0.0\n"
          ],
          "name": "stdout"
        }
      ]
    },
    {
      "cell_type": "markdown",
      "metadata": {
        "id": "RDDoh-LYeHEp",
        "colab_type": "text"
      },
      "source": [
        "# Step 6: Z test "
      ]
    },
    {
      "cell_type": "markdown",
      "metadata": {
        "id": "62Dq_0Avrueu",
        "colab_type": "text"
      },
      "source": [
        "**Z test**\n",
        "\n",
        "* defining the functions that calculate the statistics\n",
        "* the lambda style definition is NOT APPROVED BY PEP8 and you should avoind it\n",
        "* but I am putting it here since you may encounter it in your coding life.\n",
        "* confront the equation in the markdown cell above with these function to understand as they work"
      ]
    },
    {
      "cell_type": "code",
      "metadata": {
        "id": "RFXyRiQPb9Q3",
        "colab_type": "code",
        "colab": {
          "base_uri": "https://localhost:8080/",
          "height": 35
        },
        "outputId": "15d77b8b-a3e6-4ec8-9f66-cdd1b29cc1de"
      },
      "source": [
        "def ztest_p(p0, p1, n0, n1): \n",
        "  return (p0 * n0 + p1 * n1) / (n0 + n1)\n",
        "def ztest_se(p0, p1, n0, n1):\n",
        "  p = ztest_p(p0, p1, n0, n1)\n",
        "  return np.sqrt(p * (1 - p) * (1.0 / n0 + 1.0 / n1)) #standard error\n",
        "def zscore(p0, p1, n0, n1) : \n",
        "  return (p0 - p1) / ztest_se(p0, p1, n0, n1)\n",
        "\n",
        "# calculations\n",
        "z = zscore(weekend18, weekend19, norm18, norm19)\n",
        "print (\"The z statistics is %.2f\"%z) "
      ],
      "execution_count": 76,
      "outputs": [
        {
          "output_type": "stream",
          "text": [
            "The z statistics is -78.96\n"
          ],
          "name": "stdout"
        }
      ]
    },
    {
      "cell_type": "markdown",
      "metadata": {
        "id": "EdmsnuxMsjvq",
        "colab_type": "text"
      },
      "source": [
        "#Step 7: Cohen's h "
      ]
    },
    {
      "cell_type": "markdown",
      "metadata": {
        "id": "Z0FGKQCec3WY",
        "colab_type": "text"
      },
      "source": [
        "**Cohen's h**\n",
        "\n",
        "* Let's check the _effect size_: there are 2 formulae I find in the literature\n",
        " $r = \\frac{z}{\\sqrt{(n_0+n_1)}}$\n",
        " and\n",
        " $h =  2 (\\arcsin \\sqrt{p_0} -  \\arcsin \\sqrt{p_1} )$.\n",
        "* Link:  https://en.wikipedia.org/wiki/Cohen%27s_h"
      ]
    },
    {
      "cell_type": "code",
      "metadata": {
        "id": "uqt1K2H1c3WY",
        "colab_type": "code",
        "colab": {}
      },
      "source": [
        "def r_effectsize (z, n0, n1) :\n",
        "  return z / np.sqrt(n0 + n1)\n",
        "def h_effectsize (p0, p1): \n",
        "  return 2 * (np.arcsin(np.sqrt(p0)) - np.arcsin(np.sqrt(p1)))"
      ],
      "execution_count": 95,
      "outputs": []
    },
    {
      "cell_type": "code",
      "metadata": {
        "id": "4-16b2mRc3Wb",
        "colab_type": "code",
        "colab": {
          "base_uri": "https://localhost:8080/",
          "height": 35
        },
        "outputId": "d8cf6c09-6976-4465-9a25-82685da72121"
      },
      "source": [
        "r = r_effectsize(z, norm18, norm19)\n",
        "print ('r effect size {:.2f}'.format(r))"
      ],
      "execution_count": 96,
      "outputs": [
        {
          "output_type": "stream",
          "text": [
            "r effect size -0.04\n"
          ],
          "name": "stdout"
        }
      ]
    },
    {
      "cell_type": "code",
      "metadata": {
        "id": "mRv9PIAAc3Wd",
        "colab_type": "code",
        "colab": {
          "base_uri": "https://localhost:8080/",
          "height": 35
        },
        "outputId": "2101238c-d81b-49e8-df5d-d7ee82a6ed5e"
      },
      "source": [
        "h = h_effectsize(weekend18, weekend19)\n",
        "print (\"Cohen's h effect size {:.2f}\".format(h))"
      ],
      "execution_count": 97,
      "outputs": [
        {
          "output_type": "stream",
          "text": [
            "Cohen's h effect size -0.08\n"
          ],
          "name": "stdout"
        }
      ]
    },
    {
      "cell_type": "markdown",
      "metadata": {
        "id": "_6DfLh9cc3Wf",
        "colab_type": "text"
      },
      "source": [
        "# Conclusion\n",
        "In all these cases we have SMALL EFFECT SIZE"
      ]
    }
  ]
}