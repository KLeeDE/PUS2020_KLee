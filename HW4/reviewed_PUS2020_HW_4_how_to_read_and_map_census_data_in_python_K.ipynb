{
  "nbformat": 4,
  "nbformat_minor": 0,
  "metadata": {
    "colab": {
      "name": "reviewed PUS2020 HW 4 how_to_read_and_map_census_data_in_python_K.ipynb",
      "provenance": [],
      "collapsed_sections": [],
      "include_colab_link": true
    },
    "kernelspec": {
      "name": "python3",
      "display_name": "Python 3"
    }
  },
  "cells": [
    {
      "cell_type": "markdown",
      "metadata": {
        "id": "view-in-github",
        "colab_type": "text"
      },
      "source": [
        "<a href=\"https://colab.research.google.com/github/fedhere/PUS2020_KLee/blob/master/HW4/reviewed_PUS2020_HW_4_how_to_read_and_map_census_data_in_python_K.ipynb\" target=\"_parent\"><img src=\"https://colab.research.google.com/assets/colab-badge.svg\" alt=\"Open In Colab\"/></a>"
      ]
    },
    {
      "cell_type": "code",
      "metadata": {
        "id": "Da_fKsOOhk5a"
      },
      "source": [
        ""
      ],
      "execution_count": null,
      "outputs": []
    },
    {
      "cell_type": "markdown",
      "metadata": {
        "id": "cKQn8q_1RziR"
      },
      "source": [
        "#  you should change this -> this is your homework author: Federica Bianco (@fedhere)\n",
        "\n",
        "Notebook with examples of how to read and plot cenusus data in python\n",
        "\n"
      ]
    },
    {
      "cell_type": "code",
      "metadata": {
        "id": "N2IlXJodflBi",
        "outputId": "822083c7-2050-48b5-f5cd-7b52334f5b41",
        "colab": {
          "base_uri": "https://localhost:8080/",
          "height": 525
        }
      },
      "source": [
        "!pip install census\n",
        "!pip install CensusData"
      ],
      "execution_count": null,
      "outputs": [
        {
          "output_type": "stream",
          "text": [
            "Collecting census\n",
            "  Downloading https://files.pythonhosted.org/packages/63/a4/3f445a8a8ba9003f01dab31afb2baff522a786eb860c792baac819fdccc6/census-0.8.15-py2.py3-none-any.whl\n",
            "Requirement already satisfied: requests>=1.1.0 in /usr/local/lib/python3.6/dist-packages (from census) (2.23.0)\n",
            "Requirement already satisfied: future in /usr/local/lib/python3.6/dist-packages (from census) (0.16.0)\n",
            "Requirement already satisfied: chardet<4,>=3.0.2 in /usr/local/lib/python3.6/dist-packages (from requests>=1.1.0->census) (3.0.4)\n",
            "Requirement already satisfied: certifi>=2017.4.17 in /usr/local/lib/python3.6/dist-packages (from requests>=1.1.0->census) (2020.6.20)\n",
            "Requirement already satisfied: idna<3,>=2.5 in /usr/local/lib/python3.6/dist-packages (from requests>=1.1.0->census) (2.10)\n",
            "Requirement already satisfied: urllib3!=1.25.0,!=1.25.1,<1.26,>=1.21.1 in /usr/local/lib/python3.6/dist-packages (from requests>=1.1.0->census) (1.24.3)\n",
            "Installing collected packages: census\n",
            "Successfully installed census-0.8.15\n",
            "Collecting CensusData\n",
            "\u001b[?25l  Downloading https://files.pythonhosted.org/packages/10/8a/57a1a84f0ff53f3879a371d63199a046427a59d29cdd15ae41e1e56b61fb/CensusData-1.9.tar.gz (23.2MB)\n",
            "\u001b[K     |████████████████████████████████| 23.2MB 179kB/s \n",
            "\u001b[?25hRequirement already satisfied: pandas in /usr/local/lib/python3.6/dist-packages (from CensusData) (1.1.2)\n",
            "Requirement already satisfied: requests in /usr/local/lib/python3.6/dist-packages (from CensusData) (2.23.0)\n",
            "Requirement already satisfied: python-dateutil>=2.7.3 in /usr/local/lib/python3.6/dist-packages (from pandas->CensusData) (2.8.1)\n",
            "Requirement already satisfied: pytz>=2017.2 in /usr/local/lib/python3.6/dist-packages (from pandas->CensusData) (2018.9)\n",
            "Requirement already satisfied: numpy>=1.15.4 in /usr/local/lib/python3.6/dist-packages (from pandas->CensusData) (1.18.5)\n",
            "Requirement already satisfied: chardet<4,>=3.0.2 in /usr/local/lib/python3.6/dist-packages (from requests->CensusData) (3.0.4)\n",
            "Requirement already satisfied: urllib3!=1.25.0,!=1.25.1,<1.26,>=1.21.1 in /usr/local/lib/python3.6/dist-packages (from requests->CensusData) (1.24.3)\n",
            "Requirement already satisfied: certifi>=2017.4.17 in /usr/local/lib/python3.6/dist-packages (from requests->CensusData) (2020.6.20)\n",
            "Requirement already satisfied: idna<3,>=2.5 in /usr/local/lib/python3.6/dist-packages (from requests->CensusData) (2.10)\n",
            "Requirement already satisfied: six>=1.5 in /usr/local/lib/python3.6/dist-packages (from python-dateutil>=2.7.3->pandas->CensusData) (1.15.0)\n",
            "Building wheels for collected packages: CensusData\n",
            "  Building wheel for CensusData (setup.py) ... \u001b[?25l\u001b[?25hdone\n",
            "  Created wheel for CensusData: filename=CensusData-1.9-cp36-none-any.whl size=24706266 sha256=763d07ff804983cd0064b971db75af955945fe1bda56d0a248930cb1407be45e\n",
            "  Stored in directory: /root/.cache/pip/wheels/39/4c/19/0770e56b66921fd366a5d32382b3db71e54aa98259f6bc88cb\n",
            "Successfully built CensusData\n",
            "Installing collected packages: CensusData\n",
            "Successfully installed CensusData-1.9\n"
          ],
          "name": "stdout"
        }
      ]
    },
    {
      "cell_type": "code",
      "metadata": {
        "id": "MH7QRooJnxTU",
        "outputId": "a86f51df-bde8-4ed6-b87d-a36ee3d42304",
        "colab": {
          "base_uri": "https://localhost:8080/",
          "height": 148
        }
      },
      "source": [
        "!pip install us\n"
      ],
      "execution_count": null,
      "outputs": [
        {
          "output_type": "stream",
          "text": [
            "Collecting us\n",
            "  Downloading https://files.pythonhosted.org/packages/88/04/04323aefa1871de30286d3decae7706481c73bd428cf0c08e158bfa259a6/us-2.0.2.tar.gz\n",
            "Collecting jellyfish==0.6.1\n",
            "\u001b[?25l  Downloading https://files.pythonhosted.org/packages/61/3f/60ac86fb43dfbf976768e80674b5538e535f6eca5aa7806cf2fdfd63550f/jellyfish-0.6.1.tar.gz (132kB)\n",
            "\u001b[K     |████████████████████████████████| 133kB 3.9MB/s \n"
          ],
          "name": "stdout"
        }
      ]
    },
    {
      "cell_type": "code",
      "metadata": {
        "id": "JtOn80g4ZAQq"
      },
      "source": [
        "!pip install geopandas\n",
        "!pip install descartes"
      ],
      "execution_count": null,
      "outputs": []
    },
    {
      "cell_type": "code",
      "metadata": {
        "id": "T9foOluiKsvW"
      },
      "source": [
        "!pip install shapely"
      ],
      "execution_count": null,
      "outputs": []
    },
    {
      "cell_type": "code",
      "metadata": {
        "id": "s8CTCvkDVjoc"
      },
      "source": [
        "# module for mapping; if you are familiar with pandas this should be intuitive\n",
        "import geopandas as gpd"
      ],
      "execution_count": null,
      "outputs": []
    },
    {
      "cell_type": "code",
      "metadata": {
        "id": "KcLKoPXHnvpf"
      },
      "source": [
        "import pandas as pd\n",
        "import numpy as np\n",
        "import pylab as plt\n",
        "\n",
        "%pylab inline"
      ],
      "execution_count": null,
      "outputs": []
    },
    {
      "cell_type": "code",
      "metadata": {
        "id": "r--RNSvBTPgf"
      },
      "source": [
        "from google.colab import drive\n",
        "\n",
        "drive.mount(\"/content/gdrive\")"
      ],
      "execution_count": null,
      "outputs": []
    },
    {
      "cell_type": "markdown",
      "metadata": {
        "id": "IACLQjC-fJPr"
      },
      "source": [
        "# mounting your drive (My Drive) to read the api key from a csv file. Look at the readme for more info"
      ]
    },
    {
      "cell_type": "code",
      "metadata": {
        "id": "2aopGMdpTWcp"
      },
      "source": [
        "cd /content/gdrive/My\\ Drive"
      ],
      "execution_count": null,
      "outputs": []
    },
    {
      "cell_type": "code",
      "metadata": {
        "id": "skZDqRk4_hjM"
      },
      "source": [
        "pwd"
      ],
      "execution_count": null,
      "outputs": []
    },
    {
      "cell_type": "code",
      "metadata": {
        "id": "CppO9-fCJmqv"
      },
      "source": [
        "ls"
      ],
      "execution_count": null,
      "outputs": []
    },
    {
      "cell_type": "markdown",
      "metadata": {
        "id": "KBqw-bSNKSFe"
      },
      "source": [
        "## read about the census API DO NOT PRINT IT! your API key should be secret"
      ]
    },
    {
      "cell_type": "code",
      "metadata": {
        "id": "ZyTtJUokKWDU"
      },
      "source": [
        "myAPIkey =  pd.read_csv(\"myapi.csv\")[\"census\"]"
      ],
      "execution_count": null,
      "outputs": []
    },
    {
      "cell_type": "markdown",
      "metadata": {
        "id": "RwoNX6kgJ1Wo"
      },
      "source": [
        "# example of reading race data at the county level."
      ]
    },
    {
      "cell_type": "code",
      "metadata": {
        "id": "K0tPGjvSn01Z"
      },
      "source": [
        "# import modules to get census data\n",
        "# register with your API key\n",
        "import censusdata\n",
        "from census import Census\n",
        "from us import states\n",
        "c = Census(myAPIkey)"
      ],
      "execution_count": null,
      "outputs": []
    },
    {
      "cell_type": "markdown",
      "metadata": {
        "id": "vzs2oOHWgxXZ"
      },
      "source": [
        "### look in the census variables the ones apprioriate for race. \n",
        "\n",
        "We are going to use the 5 year American Community Survey (```acs5```), which is ran by the Census Boureaum, but it is not the Census, in that it does not aspire to collect data about every US resident, but it is run more often (5 years). There is also an annual American Community Survey (```acs1```)"
      ]
    },
    {
      "cell_type": "code",
      "metadata": {
        "id": "VzLup-00m2vd"
      },
      "source": [
        "censusdata.search('acs5', 2018, 'concept', 'race')"
      ],
      "execution_count": null,
      "outputs": []
    },
    {
      "cell_type": "markdown",
      "metadata": {
        "id": "ADte3NUqcjjq"
      },
      "source": [
        "These are the variables that interest us. They start with B02001\n",
        "\n",
        "('B02001_001E', 'RACE', 'Estimate!!Total'),\n",
        "\n",
        "('B02001_002E', 'RACE', 'Estimate!!Total!!White alone'),\n",
        "\n",
        " ('B02001_003E', 'RACE', 'Estimate!!Total!!Black or African American alone'),\n",
        "\n",
        " "
      ]
    },
    {
      "cell_type": "code",
      "metadata": {
        "id": "e4DkdkmsnW1A"
      },
      "source": [
        "censusdata.printtable(censusdata.censustable('acs5', 2018, 'B02001')), "
      ],
      "execution_count": null,
      "outputs": []
    },
    {
      "cell_type": "markdown",
      "metadata": {
        "id": "sYv_7CG4N2PZ"
      },
      "source": [
        "get the state code for DE"
      ]
    },
    {
      "cell_type": "code",
      "metadata": {
        "id": "MSFaW5dwpL-U"
      },
      "source": [
        "censusdata.geographies(censusdata.censusgeo([('state', '*')]), 'acs5', 2018)"
      ],
      "execution_count": null,
      "outputs": []
    },
    {
      "cell_type": "markdown",
      "metadata": {
        "id": "634dHtO4pzw7"
      },
      "source": [
        "get the data at county granularity. Tract granularity is not available for these data in this survey"
      ]
    },
    {
      "cell_type": "code",
      "metadata": {
        "id": "UIiZu5DXqyJ4"
      },
      "source": [
        "total18 = censusdata.download('acs5', 2018, \n",
        "                             censusdata.censusgeo([('state', '10'), \n",
        "                                                   ('county', '*')]),\n",
        "                             [\"B02001_001E\"])\n",
        "wDEcounty18 = censusdata.download('acs5', 2018,\n",
        "                             censusdata.censusgeo([('state', '10'), \n",
        "                                                   ('county', '*')]),\n",
        "                             [\"B02001_002E\"])\n",
        "bDEcounty18 = censusdata.download('acs5', 2018,\n",
        "                             censusdata.censusgeo([('state', '10'), \n",
        "                                                   ('county', '*')]),\n",
        "                             [\"B02001_003E\"])\n",
        "bDEcounty18"
      ],
      "execution_count": null,
      "outputs": []
    },
    {
      "cell_type": "markdown",
      "metadata": {
        "id": "InSVguIhhhqR"
      },
      "source": [
        "# get the same data for the _previous_ ACS5 as well (remember, the ACS5 is done every 5 years)"
      ]
    },
    {
      "cell_type": "code",
      "metadata": {
        "id": "vFJcC8ghyE40"
      },
      "source": [
        "censusdata.search('acs5', 2013, 'concept', 'race')"
      ],
      "execution_count": null,
      "outputs": []
    },
    {
      "cell_type": "code",
      "metadata": {
        "id": "tnELLAH-yErA"
      },
      "source": [
        "censusdata.printtable(censusdata.censustable('acs5', 2013, 'B02001')), "
      ],
      "execution_count": null,
      "outputs": []
    },
    {
      "cell_type": "code",
      "metadata": {
        "id": "KGseyHvHzvEe"
      },
      "source": [
        "censusdata.geographies(censusdata.censusgeo([('state', '*')]), 'acs5', 2013)"
      ],
      "execution_count": null,
      "outputs": []
    },
    {
      "cell_type": "code",
      "metadata": {
        "id": "mpQB-M9jzu-E"
      },
      "source": [
        "total13 = censusdata.download('acs5', 2013,\n",
        "                             censusdata.censusgeo([('state', '10'), \n",
        "                                                   ('county', '*')]),\n",
        "                             [\"B02001_001E\"])\n",
        "wDEcounty13 = censusdata.download('acs5', 2013,\n",
        "                             censusdata.censusgeo([('state', '10'), \n",
        "                                                   ('county', '*')]),\n",
        "                             [\"B02001_002E\"])\n",
        "bDEcounty13 = censusdata.download('acs5', 2013,\n",
        "                             censusdata.censusgeo([('state', '10'), \n",
        "                                                   ('county', '*')]),\n",
        "                             [\"B02001_003E\"])\n",
        "bDEcounty13"
      ],
      "execution_count": null,
      "outputs": []
    },
    {
      "cell_type": "markdown",
      "metadata": {
        "id": "l44qSroth0HV"
      },
      "source": [
        "## merge the blackpop dataframe with the total dataframe to extract the fraction of black people. \n",
        "## merge the whitepop dataframe with the total dataframe to extract the fraction of white people. \n",
        " "
      ]
    },
    {
      "cell_type": "code",
      "metadata": {
        "id": "q7Un-poXYw9U"
      },
      "source": [
        "bDEcounty18 = bDEcounty18.merge(total18, left_index=True, right_index=True)\n",
        "bDEcounty13 = bDEcounty13.merge(total13, left_index=True, right_index=True)\n",
        "\n",
        "wDEcounty18 = wDEcounty18.merge(total18, left_index=True, right_index=True)\n",
        "wDEcounty13 = wDEcounty13.merge(total13, left_index=True, right_index=True)"
      ],
      "execution_count": null,
      "outputs": []
    },
    {
      "cell_type": "code",
      "metadata": {
        "id": "XgYuD_eTiWg9"
      },
      "source": [
        "#bDEcounty18 = bDEcounty18.merge(total18, left_on=bDEcounty18.index, right_on=total18.index)\n",
        "#bDEcounty13 = bDEcounty13.merge(total13, left_on=bDEcounty13.index, right_on=total13.index)\n",
        "\n",
        "#wDEcounty18 = wDEcounty18.merge(total18, left_on=wDEcounty18.index, right_on=total18.index)\n",
        "#wDEcounty13 = wDEcounty13.merge(total13, left_on=wDEcounty13.index, right_on=total13.index)"
      ],
      "execution_count": null,
      "outputs": []
    },
    {
      "cell_type": "code",
      "metadata": {
        "id": "bR3kBBrkjP4_"
      },
      "source": [
        "bDEcounty18[\"black_fraction\"] =  bDEcounty18[\"B02001_003E\"] / total18[\"B02001_001E\"] \n",
        "bDEcounty13[\"black_fraction\"] =  bDEcounty13[\"B02001_003E\"] / total13[\"B02001_001E\"] \n",
        "\n",
        "wDEcounty18[\"white_fraction\"] =  wDEcounty18[\"B02001_002E\"] / total18[\"B02001_001E\"] \n",
        "wDEcounty13[\"white_fraction\"] =  wDEcounty13[\"B02001_002E\"] / total13[\"B02001_001E\"] "
      ],
      "execution_count": null,
      "outputs": []
    },
    {
      "cell_type": "markdown",
      "metadata": {
        "id": "gDXjAM_Uij03"
      },
      "source": [
        "## the county index needs to be manipulated\n",
        "The county name in the dataframes you created needs to be extracted from the index. \n",
        "Use the method ```split``` of a string on each row of the index. you can write a function such as\n",
        "\n",
        "```\n",
        "def getcounty(cname):\n",
        "  return cname.split(':')[-1]\n",
        "```\n",
        "a function like this will extract the county from the name, this function can be passed to a column (the index in this case) of a dataframe to create a new colum as a modification of the previous one."
      ]
    },
    {
      "cell_type": "code",
      "metadata": {
        "id": "66BqJBEhmSsF"
      },
      "source": [
        "def scounty(cname):\n",
        "  return cname.split(':')[-1]"
      ],
      "execution_count": null,
      "outputs": []
    },
    {
      "cell_type": "code",
      "metadata": {
        "id": "d4uH012TS9fl"
      },
      "source": [
        "#bDEcounty18[\"key_0\"].astype(str).values[0]\n",
        "#scounty(wDEcounty18['key_0'].astype(str).values[0])"
      ],
      "execution_count": null,
      "outputs": []
    },
    {
      "cell_type": "code",
      "metadata": {
        "id": "zz674KDwVP7s"
      },
      "source": [
        "#wDEcounty18[\"county\"] = wDEcounty18[\"key_0\"].astype(str).map(scounty)\n",
        "#bDEcounty18[\"county\"] = bDEcounty18[\"key_0\"].astype(str).map(scounty)\n",
        "\n",
        "#wDEcounty13[\"county\"] = wDEcounty13[\"key_0\"].astype(str).map(scounty)\n",
        "#bDEcounty13[\"county\"] = bDEcounty13[\"key_0\"].astype(str).map(scounty)"
      ],
      "execution_count": null,
      "outputs": []
    },
    {
      "cell_type": "code",
      "metadata": {
        "id": "uEeYZGBkQ4bk"
      },
      "source": [
        "# manipulate index to extract the county\n",
        "wDEcounty18[\"county\"] = wDEcounty18.index.astype(str).map(scounty)\n",
        "bDEcounty18[\"county\"] = bDEcounty18.index.astype(str).map(scounty)\n",
        "\n",
        "wDEcounty13[\"county\"] = wDEcounty13.index.astype(str).map(scounty)\n",
        "bDEcounty13[\"county\"] = bDEcounty13.index.astype(str).map(scounty)"
      ],
      "execution_count": null,
      "outputs": []
    },
    {
      "cell_type": "markdown",
      "metadata": {
        "id": "XUPJK04fhJxk"
      },
      "source": [
        "# FBB you should print out the stages of your data processing so that the reader can follow what is going on. Especially if you are working in a notebook (if you are working on a python script, especially if it is intended as part of a pipeline, of course, you do not want to print out unnecessary info, but notebooks are for display)"
      ]
    },
    {
      "cell_type": "markdown",
      "metadata": {
        "id": "cMzazZr6Oqez"
      },
      "source": [
        "# Get the DE shape file. \n",
        "\n",
        "Lets get it at the census tract level, even if we only have data at the county level right now\n",
        "## download census tracts file from here  https://www2.census.gov/geo/tiger/TIGER2018/TRACT/tl_2018_10_tract.zip\n",
        "## and here  https://www2.census.gov/geo/tiger/TIGER2018/COUNTY/tl_2018_us_county.zip\n"
      ]
    },
    {
      "cell_type": "code",
      "metadata": {
        "id": "oeBMNGK7j3yY"
      },
      "source": [
        "!wget https://www2.census.gov/geo/tiger/TIGER2018/TRACT/tl_2018_10_tract.zip"
      ],
      "execution_count": null,
      "outputs": []
    },
    {
      "cell_type": "code",
      "metadata": {
        "id": "HA5jqwUsOqbD"
      },
      "source": [
        "#save it on the drive, unzip it\n",
        "!unzip tl_2018_10_tract.zip"
      ],
      "execution_count": null,
      "outputs": []
    },
    {
      "cell_type": "code",
      "metadata": {
        "id": "RHtPFWPrZfa_"
      },
      "source": [
        "gde = gpd.GeoDataFrame.from_file(\"tl_2018_10_tract.shp\")\n",
        "gde.shape"
      ],
      "execution_count": null,
      "outputs": []
    },
    {
      "cell_type": "code",
      "metadata": {
        "id": "mQRvcqrYz2Cm"
      },
      "source": [
        "gde"
      ],
      "execution_count": null,
      "outputs": []
    },
    {
      "cell_type": "code",
      "metadata": {
        "id": "VIQXHo_icUP3"
      },
      "source": [
        "gde.plot(color=\"None\", edgecolor='k',figsize=(5,10))"
      ],
      "execution_count": null,
      "outputs": []
    },
    {
      "cell_type": "markdown",
      "metadata": {
        "id": "KAqPChEdkFqW"
      },
      "source": [
        "This map includes census tracts that are all water in the Delaware rever. Remove them using the ALAND column, which is the area of the tract that is not water"
      ]
    },
    {
      "cell_type": "code",
      "metadata": {
        "id": "5D_Pub1_Ppkm"
      },
      "source": [
        "#delete\n",
        "# only select where the land is >0\n",
        "gde = gde[gde[\"ALAND\"] > 0]\n",
        "gde.head()"
      ],
      "execution_count": null,
      "outputs": []
    },
    {
      "cell_type": "markdown",
      "metadata": {
        "id": "mQ2Mga18uUEp"
      },
      "source": [
        "Now merge the geo data frame with the data frame. \n",
        "IMPORTANT! start the merge from the geodataframe:\n",
        "```gde.merge...```. \n",
        "if you start it from the dataframe (```wDEcounty.merge```) you end up with a dataframe, not a geodataframe"
      ]
    },
    {
      "cell_type": "code",
      "metadata": {
        "id": "pyIQxVtFZitx"
      },
      "source": [
        "whiteDE18 = gde.merge(wDEcounty18, left_on= \"COUNTYFP\", right_on=\"county\")\n",
        "whiteDE13 = gde.merge(wDEcounty13, left_on= \"COUNTYFP\", right_on=\"county\")\n",
        "\n",
        "blackDE18 = gde.merge(bDEcounty18, left_on= \"COUNTYFP\", right_on=\"county\")\n",
        "blackDE13 = gde.merge(bDEcounty13, left_on= \"COUNTYFP\", right_on=\"county\")"
      ],
      "execution_count": null,
      "outputs": []
    },
    {
      "cell_type": "code",
      "metadata": {
        "id": "4QW2RxQi2d6e"
      },
      "source": [
        "blackDE18"
      ],
      "execution_count": null,
      "outputs": []
    },
    {
      "cell_type": "code",
      "metadata": {
        "id": "2uUcG6Gmf2TH"
      },
      "source": [
        "# map the fraction of Black populatoin in 2018 and 2013\n",
        "fig = plt.figure(figsize=(10,5))\n",
        "ax = fig.add_subplot(121)\n",
        "blackDE13.plot(column=\"black_fraction\", #scheme='Quantiles',\n",
        "            ax=ax, legend=True, vmin=0.05, vmax=0.30)\n",
        "ax.axis('off');\n",
        "plt.title(\"Black fraction 2013\")\n",
        "\n",
        "ax = fig.add_subplot(122)\n",
        "blackDE18.plot(column=\"black_fraction\", \n",
        "               ax=ax, legend=True, vmin=0.05, vmax=0.30);\n",
        "ax.axis('off');\n",
        "plt.title(\"Black fraction 2018\");"
      ],
      "execution_count": null,
      "outputs": []
    },
    {
      "cell_type": "code",
      "metadata": {
        "id": "RkyET5ARZrLQ"
      },
      "source": [
        "# do the same for the white population\n",
        "fig = plt.figure(figsize=(10,5))\n",
        "ax = fig.add_subplot(121)\n",
        "whiteDE13.plot(column=\"white_fraction\", #scheme='Quantiles',\n",
        "            ax=ax, legend=True, vmin=0.65, vmax=0.90)\n",
        "ax.axis('off');\n",
        "plt.title(\"White fraction 2013\")\n",
        "\n",
        "ax = fig.add_subplot(122)\n",
        "whiteDE18.plot(column=\"white_fraction\", \n",
        "               ax=ax, legend=True, vmin=0.75, vmax=0.90);\n",
        "ax.axis('off');\n",
        "plt.title(\"White fraction 2018\");"
      ],
      "execution_count": null,
      "outputs": []
    },
    {
      "cell_type": "markdown",
      "metadata": {
        "id": "F9wA7Cf0hn5j"
      },
      "source": [
        "# FBB all figures in this class need captions. Normally I do not give any credit for work that has figures that are not described. I will fige partial credits this time since all students did not put captions"
      ]
    },
    {
      "cell_type": "markdown",
      "metadata": {
        "id": "WpUtL4GfbKPI"
      },
      "source": [
        "# extra credit\n",
        "\n",
        "Can you get a map of a demographic variable (e.g. age, education...) at the tract level?"
      ]
    },
    {
      "cell_type": "code",
      "metadata": {
        "id": "iBZqhwyl4PAq"
      },
      "source": [
        "censusdata.search('acs5', 2018, 'concept', 'age')"
      ],
      "execution_count": null,
      "outputs": []
    },
    {
      "cell_type": "markdown",
      "metadata": {
        "id": "UVvQ5sQ-5iNf"
      },
      "source": [
        "'B01001_001E', 'SEX BY AGE', 'Estimate!!Total'"
      ]
    },
    {
      "cell_type": "code",
      "metadata": {
        "id": "tqxLZOgS4O8z"
      },
      "source": [
        "censusdata.printtable(censusdata.censustable('acs5', 2018, 'B01001')), "
      ],
      "execution_count": null,
      "outputs": []
    },
    {
      "cell_type": "markdown",
      "metadata": {
        "id": "j2hEibvh-FUu"
      },
      "source": [
        "B01001_001E  | SEX BY AGE                     | !! Estimate Total  \n",
        "\n",
        "B01001_002E  | SEX BY AGE                     | !! !! Estimate Total Male\n",
        "\n",
        "B01001_026E  | SEX BY AGE                     | !! !! Estimate Total Female\n",
        "\n",
        "B01001_011E  | SEX BY AGE                     | !! !! !! Estimate Total Male 25 to 29 years\n",
        "\n",
        "B01001_035E  | SEX BY AGE                     | !! !! !! Estimate Total Female 25 to 29 years\n"
      ]
    },
    {
      "cell_type": "code",
      "metadata": {
        "id": "B03y5Bnc_AqS"
      },
      "source": [
        "censusdata.geographies(censusdata.censusgeo([('state', '10'), ('county', '*')]), 'acs5', 2018)"
      ],
      "execution_count": null,
      "outputs": []
    },
    {
      "cell_type": "code",
      "metadata": {
        "id": "X6JDqE-J4O6J"
      },
      "source": [
        "censusdata.geographies(censusdata.censusgeo([('state', '10'), ('county', '003'), ('tract', '*')]), 'acs5', 2018) "
      ],
      "execution_count": null,
      "outputs": []
    },
    {
      "cell_type": "code",
      "metadata": {
        "id": "WtTDAzVvDL4f"
      },
      "source": [
        "age_total18 = censusdata.download('acs5', 2018, censusdata.censusgeo([('state', '10'), ('county', '*'), ('tract', '*')]), [\"B01001_001E\"])\n",
        "\n",
        "# by sex\n",
        "mDEtract18 = censusdata.download('acs5', 2018, censusdata.censusgeo([('state', '10'), ('county', '*'), ('tract', '*')]), [\"B01001_002E\"])\n",
        "fDEtract18 = censusdata.download('acs5', 2018, censusdata.censusgeo([('state', '10'), ('county', '*'), ('tract', '*')]), [\"B01001_026E\"])\n",
        "\n",
        "# age between 25 and 29\n",
        "mDEtract18_2529 = censusdata.download('acs5', 2018, censusdata.censusgeo([('state', '10'), ('county', '*'), ('tract', '*')]), [\"B01001_011E\"])\n",
        "fDEtract18_2529 = censusdata.download('acs5', 2018, censusdata.censusgeo([('state', '10'), ('county', '*'), ('tract', '*')]), [\"B01001_035E\"])"
      ],
      "execution_count": null,
      "outputs": []
    },
    {
      "cell_type": "code",
      "metadata": {
        "id": "GE1ttGud4O1D"
      },
      "source": [
        "mDEtract18 = mDEtract18.merge(age_total18, left_index=True, right_index=True)\n",
        "fDEtract18 = fDEtract18.merge(age_total18, left_index=True, right_index=True)\n",
        "\n",
        "mDEtract18_2529 = mDEtract18_2529.merge(age_total18, left_index=True, right_index=True)\n",
        "fDEtract18_2529 = fDEtract18_2529.merge(age_total18, left_index=True, right_index=True)"
      ],
      "execution_count": null,
      "outputs": []
    },
    {
      "cell_type": "code",
      "metadata": {
        "id": "y1zOOjQK4OyS"
      },
      "source": [
        "mDEtract18[\"male_fraction\"] =  mDEtract18[\"B01001_002E\"] / age_total18[\"B01001_001E\"] \n",
        "fDEtract18[\"female_fraction\"] =  fDEtract18[\"B01001_026E\"] / age_total18[\"B01001_001E\"] \n",
        "\n",
        "mDEtract18_2529[\"male2529_fraction\"] =  mDEtract18_2529[\"B01001_011E\"] / age_total18[\"B01001_001E\"] \n",
        "fDEtract18_2529[\"female2529_fraction\"] =  fDEtract18_2529[\"B01001_035E\"] / age_total18[\"B01001_001E\"] "
      ],
      "execution_count": null,
      "outputs": []
    },
    {
      "cell_type": "code",
      "metadata": {
        "id": "kAZuBxvcEU3b"
      },
      "source": [
        "def scounty(cname):\n",
        "  return cname.split(':')[-1]"
      ],
      "execution_count": null,
      "outputs": []
    },
    {
      "cell_type": "code",
      "metadata": {
        "id": "BNeDq6OYEXCz"
      },
      "source": [
        "mDEtract18[\"tract\"] = mDEtract18.index.astype(str).map(scounty)\n",
        "fDEtract18[\"tract\"] = fDEtract18.index.astype(str).map(scounty)\n",
        "\n",
        "mDEtract18_2529[\"tract\"] = mDEtract18_2529.index.astype(str).map(scounty)\n",
        "fDEtract18_2529[\"tract\"] = fDEtract18_2529.index.astype(str).map(scounty)"
      ],
      "execution_count": null,
      "outputs": []
    },
    {
      "cell_type": "code",
      "metadata": {
        "id": "1ZfUrLk6EmjB"
      },
      "source": [
        "gde.plot(color=\"None\", edgecolor='k')"
      ],
      "execution_count": null,
      "outputs": []
    },
    {
      "cell_type": "code",
      "metadata": {
        "id": "yd0InoycEuFJ"
      },
      "source": [
        "gde"
      ],
      "execution_count": null,
      "outputs": []
    },
    {
      "cell_type": "code",
      "metadata": {
        "id": "eR_-Z_MGEykm"
      },
      "source": [
        "fDEtract18_2529"
      ],
      "execution_count": null,
      "outputs": []
    },
    {
      "cell_type": "code",
      "metadata": {
        "id": "ARFAfvrbEqQA"
      },
      "source": [
        "maleDE18 = gde.merge(mDEtract18, left_on= \"TRACTCE\", right_on=\"tract\")\n",
        "femaleDE18 = gde.merge(fDEtract18, left_on= \"TRACTCE\", right_on=\"tract\")\n",
        "\n",
        "maleDE18_2529 = gde.merge(mDEtract18_2529, left_on= \"TRACTCE\", right_on=\"tract\")\n",
        "femaleDE18_2529 = gde.merge(fDEtract18_2529, left_on= \"TRACTCE\", right_on=\"tract\")"
      ],
      "execution_count": null,
      "outputs": []
    },
    {
      "cell_type": "code",
      "metadata": {
        "id": "WiazJqEsE927"
      },
      "source": [
        "print(maleDE18[\"male_fraction\"].max())\n",
        "print(maleDE18[\"male_fraction\"].min())\n",
        "print(\"\")\n",
        "print(femaleDE18[\"female_fraction\"].max())\n",
        "print(femaleDE18[\"female_fraction\"].min())\n",
        "print(\"\")\n",
        "print(maleDE18_2529[\"male2529_fraction\"].max())\n",
        "print(maleDE18_2529[\"male2529_fraction\"].min())\n",
        "print(\"\")\n",
        "print(femaleDE18_2529[\"female2529_fraction\"].max())\n",
        "print(femaleDE18_2529[\"female2529_fraction\"].min())"
      ],
      "execution_count": null,
      "outputs": []
    },
    {
      "cell_type": "code",
      "metadata": {
        "id": "PdAZJvwoNlDY"
      },
      "source": [
        "b# Total Male & Female\n",
        "fig = plt.figure(figsize=(15,10))\n",
        "ax = fig.add_subplot(121)\n",
        "maleDE18.plot(column=\"male_fraction\", #scheme='Quantiles',\n",
        "            ax=ax, legend=True, vmin=0.3, vmax=0.85)\n",
        "ax.axis('off');\n",
        "plt.title(\"Male fraction 2018\")\n",
        "\n",
        "ax = fig.add_subplot(122)\n",
        "femaleDE18.plot(column=\"female_fraction\", \n",
        "               ax=ax, legend=True, vmin=0.15, vmax=0.70);\n",
        "ax.axis('off');\n",
        "plt.title(\"Female fraction 2018\");"
      ],
      "execution_count": null,
      "outputs": []
    },
    {
      "cell_type": "markdown",
      "metadata": {
        "id": "dGJ9l9oXiwtP"
      },
      "source": [
        "# FBB this is technically well done and you discover something really interesting: accorgint to your map there is a census tract where everyone is male! that is very very weird and should be investigated! It would have beem great if you looked into it and found why :-)"
      ]
    },
    {
      "cell_type": "code",
      "metadata": {
        "id": "CmwOPIefE_k5"
      },
      "source": [
        "# Male & Female (Age between 25 and 29)\n",
        "fig = plt.figure(figsize=(15,10))\n",
        "ax = fig.add_subplot(121)\n",
        "maleDE18_2529.plot(column=\"male2529_fraction\", #scheme='Quantiles',\n",
        "            ax=ax, legend=True, vmin=0.0, vmax=0.15)\n",
        "ax.axis('off');\n",
        "plt.title(\"Male fraction 2018 (Age 25-29)\")\n",
        "\n",
        "ax = fig.add_subplot(122)\n",
        "femaleDE18_2529.plot(column=\"female2529_fraction\", \n",
        "               ax=ax, legend=True, vmin=0.0, vmax=0.15);\n",
        "ax.axis('off');\n",
        "plt.title(\"Female fraction 2018 (Age 25-29)\");"
      ],
      "execution_count": null,
      "outputs": []
    },
    {
      "cell_type": "code",
      "metadata": {
        "id": "ADRo2rwxG_In"
      },
      "source": [
        ""
      ],
      "execution_count": null,
      "outputs": []
    }
  ]
}