{
  "nbformat": 4,
  "nbformat_minor": 0,
  "metadata": {
    "colab": {
      "name": "HW2_PhillyParks_instructions_20200914",
      "provenance": [],
      "collapsed_sections": [],
      "include_colab_link": true
    },
    "kernelspec": {
      "name": "python3",
      "display_name": "Python 3"
    }
  },
  "cells": [
    {
      "cell_type": "markdown",
      "metadata": {
        "id": "view-in-github",
        "colab_type": "text"
      },
      "source": [
        "<a href=\"https://colab.research.google.com/github/KLeeDE/PUS2020_KLee/blob/master/HW2_PhillyParks_instructions_20200914.ipynb\" target=\"_parent\"><img src=\"https://colab.research.google.com/assets/colab-badge.svg\" alt=\"Open In Colab\"/></a>"
      ]
    },
    {
      "cell_type": "markdown",
      "metadata": {
        "id": "8f3dS08NNI9L",
        "colab_type": "text"
      },
      "source": [
        "# HW2 : Summary statistics\n",
        "\n",
        "this homework performs strictly an exploratory analysis of the data\n",
        "\n",
        "Consult the https://www.cin.ufpe.br/~embat/Python%20for%20Data%20Analysis.pdf Python for Data Analysis book (pandas book) chapter 7 or this digital rendition of its content here https://github.com/fedhere/PUS2020_FBianco/blob/master/HW2/PandasCh7.ipynb. \n",
        "\n",
        "Also use the code examples in the folder classdemo https://github.com/fedhere/PUS2020_FBianco/tree/master/classdemo\n",
        "\n",
        "**important**\n",
        "turn in the notebook by uploading it to your github repository in a folder called HW2. Before you uploade the notebook make sure you \n",
        "- click above: Runtime -> Restart and run all\n",
        "\n",
        "this will assure that your notebook has not bugs due to running the cells of code out of order.\n"
      ]
    },
    {
      "cell_type": "code",
      "metadata": {
        "id": "bsvHG4L8PCGj",
        "colab_type": "code",
        "colab": {}
      },
      "source": [
        "# you should only need the packathon pandas\n",
        "import pandas as pd"
      ],
      "execution_count": 1,
      "outputs": []
    },
    {
      "cell_type": "markdown",
      "metadata": {
        "id": "_V7he_fTwTGX",
        "colab_type": "text"
      },
      "source": [
        "## Read in the data about the Philly parks \n",
        "you can find the data at \n",
        "http://data-phl.opendata.arcgis.com/datasets/d52445160ab14380a673e5849203eb64_0.csv\")"
      ]
    },
    {
      "cell_type": "code",
      "metadata": {
        "id": "O1W1r9xAPWSG",
        "colab_type": "code",
        "colab": {}
      },
      "source": [
        "pparks = pd.read_csv(\"https://data-phl.opendata.arcgis.com/datasets/d52445160ab14380a673e5849203eb64_0.csv\")"
      ],
      "execution_count": 2,
      "outputs": []
    },
    {
      "cell_type": "code",
      "metadata": {
        "id": "16pd9FMlPpBA",
        "colab_type": "code",
        "colab": {
          "base_uri": "https://localhost:8080/",
          "height": 34
        },
        "outputId": "b35ae9b6-1115-4c9f-c080-5198f184e42d"
      },
      "source": [
        "# show the shape of the parks file dataframe\n",
        "pparks.shape"
      ],
      "execution_count": 3,
      "outputs": [
        {
          "output_type": "execute_result",
          "data": {
            "text/plain": [
              "(522, 25)"
            ]
          },
          "metadata": {
            "tags": []
          },
          "execution_count": 3
        }
      ]
    },
    {
      "cell_type": "code",
      "metadata": {
        "id": "UUQSYKFj5GKi",
        "colab_type": "code",
        "colab": {
          "base_uri": "https://localhost:8080/",
          "height": 134
        },
        "outputId": "b115018d-3fe0-4088-e8b2-38f3534359a1"
      },
      "source": [
        "# show the column names in the dataframe\n",
        "pparks.columns"
      ],
      "execution_count": 4,
      "outputs": [
        {
          "output_type": "execute_result",
          "data": {
            "text/plain": [
              "Index(['OBJECTID', 'PUBLIC_NAME', 'PARENT_NAME', 'NESTED', 'OFFICIAL_NAME',\n",
              "       'LABEL', 'ALIAS', 'DPP_ASSET_ID', 'ADDRESS911', 'ZIPCODE',\n",
              "       'ADDRESS_BRT', 'ALIAS_ADDRESS', 'ACREAGE', 'PROPERTY_CLASSIFICATION',\n",
              "       'PPR_USE', 'PPR_DISTRICT', 'PPR_OPS_DISTRICT', 'COUNCIL_DISTRICT',\n",
              "       'POLICE_DISTRICT', 'CITY_SCALE_MAPS', 'LOCAL_SCALE_MAPS',\n",
              "       'PROGRAM_SITES', 'COMMENTS', 'Shape__Area', 'Shape__Length'],\n",
              "      dtype='object')"
            ]
          },
          "metadata": {
            "tags": []
          },
          "execution_count": 4
        }
      ]
    },
    {
      "cell_type": "code",
      "metadata": {
        "id": "ftgUP5wA5NB2",
        "colab_type": "code",
        "colab": {
          "base_uri": "https://localhost:8080/",
          "height": 568
        },
        "outputId": "fd8d82c2-2599-4393-d8d2-9217b2a443e8"
      },
      "source": [
        "# show the beginning of the dataframe (the first 5 rows)\n",
        "pparks.head()"
      ],
      "execution_count": 5,
      "outputs": [
        {
          "output_type": "execute_result",
          "data": {
            "text/html": [
              "<div>\n",
              "<style scoped>\n",
              "    .dataframe tbody tr th:only-of-type {\n",
              "        vertical-align: middle;\n",
              "    }\n",
              "\n",
              "    .dataframe tbody tr th {\n",
              "        vertical-align: top;\n",
              "    }\n",
              "\n",
              "    .dataframe thead th {\n",
              "        text-align: right;\n",
              "    }\n",
              "</style>\n",
              "<table border=\"1\" class=\"dataframe\">\n",
              "  <thead>\n",
              "    <tr style=\"text-align: right;\">\n",
              "      <th></th>\n",
              "      <th>OBJECTID</th>\n",
              "      <th>PUBLIC_NAME</th>\n",
              "      <th>PARENT_NAME</th>\n",
              "      <th>NESTED</th>\n",
              "      <th>OFFICIAL_NAME</th>\n",
              "      <th>LABEL</th>\n",
              "      <th>ALIAS</th>\n",
              "      <th>DPP_ASSET_ID</th>\n",
              "      <th>ADDRESS911</th>\n",
              "      <th>ZIPCODE</th>\n",
              "      <th>ADDRESS_BRT</th>\n",
              "      <th>ALIAS_ADDRESS</th>\n",
              "      <th>ACREAGE</th>\n",
              "      <th>PROPERTY_CLASSIFICATION</th>\n",
              "      <th>PPR_USE</th>\n",
              "      <th>PPR_DISTRICT</th>\n",
              "      <th>PPR_OPS_DISTRICT</th>\n",
              "      <th>COUNCIL_DISTRICT</th>\n",
              "      <th>POLICE_DISTRICT</th>\n",
              "      <th>CITY_SCALE_MAPS</th>\n",
              "      <th>LOCAL_SCALE_MAPS</th>\n",
              "      <th>PROGRAM_SITES</th>\n",
              "      <th>COMMENTS</th>\n",
              "      <th>Shape__Area</th>\n",
              "      <th>Shape__Length</th>\n",
              "    </tr>\n",
              "  </thead>\n",
              "  <tbody>\n",
              "    <tr>\n",
              "      <th>0</th>\n",
              "      <td>1</td>\n",
              "      <td>William H (Billy) Markward Memorial Playground</td>\n",
              "      <td>Schuylkill River Park</td>\n",
              "      <td>Y</td>\n",
              "      <td>William H. (Billy) Markward Memorial Playground</td>\n",
              "      <td>Markward</td>\n",
              "      <td>NaN</td>\n",
              "      <td>1903</td>\n",
              "      <td>400 S TANEY ST</td>\n",
              "      <td>19146</td>\n",
              "      <td>400-16 S TANEY ST, 338-46 S 26TH ST, 300 S 26T...</td>\n",
              "      <td>400-16 S TANEY ST;Pine &amp; Taney;338-46 S 26TH S...</td>\n",
              "      <td>3.379158</td>\n",
              "      <td>NEIGHBORHOOD_PARK</td>\n",
              "      <td>RECREATION_SITE</td>\n",
              "      <td>7</td>\n",
              "      <td>5, 7</td>\n",
              "      <td>2</td>\n",
              "      <td>9</td>\n",
              "      <td>Y</td>\n",
              "      <td>Y</td>\n",
              "      <td>Y</td>\n",
              "      <td>NaN</td>\n",
              "      <td>23295.664062</td>\n",
              "      <td>892.868012</td>\n",
              "    </tr>\n",
              "    <tr>\n",
              "      <th>1</th>\n",
              "      <td>2</td>\n",
              "      <td>Schuylkill Banks</td>\n",
              "      <td>Schuylkill Banks</td>\n",
              "      <td>N</td>\n",
              "      <td>NaN</td>\n",
              "      <td>Schuylkill Banks</td>\n",
              "      <td>NaN</td>\n",
              "      <td>2794</td>\n",
              "      <td>400 S TANEY ST</td>\n",
              "      <td>19103</td>\n",
              "      <td>NaN</td>\n",
              "      <td>400-16 S TANEY ST</td>\n",
              "      <td>14.717314</td>\n",
              "      <td>NEIGHBORHOOD_PARK</td>\n",
              "      <td>GREENWAY_PARKWAY</td>\n",
              "      <td>7</td>\n",
              "      <td>5, 7</td>\n",
              "      <td>2, 5</td>\n",
              "      <td>9, 17</td>\n",
              "      <td>Y</td>\n",
              "      <td>Y</td>\n",
              "      <td>N</td>\n",
              "      <td>Bill 160113 (4/14/16) -South of South St Bridge</td>\n",
              "      <td>101477.179688</td>\n",
              "      <td>9300.670289</td>\n",
              "    </tr>\n",
              "    <tr>\n",
              "      <th>2</th>\n",
              "      <td>3</td>\n",
              "      <td>Schuylkill River Park</td>\n",
              "      <td>Schuylkill River Park</td>\n",
              "      <td>N</td>\n",
              "      <td>NaN</td>\n",
              "      <td>Schuylkill River Park</td>\n",
              "      <td>NaN</td>\n",
              "      <td>2992</td>\n",
              "      <td>400 S TANEY ST</td>\n",
              "      <td>19146</td>\n",
              "      <td>400-16 S TANEY ST, 338-46 S 26TH ST, 300 S 26T...</td>\n",
              "      <td>Pine &amp; Taney;400-16 S TANEY ST, 338-46 S 26TH ...</td>\n",
              "      <td>7.327000</td>\n",
              "      <td>NEIGHBORHOOD_PARK</td>\n",
              "      <td>RECREATION_SITE</td>\n",
              "      <td>7</td>\n",
              "      <td>5, 7</td>\n",
              "      <td>2</td>\n",
              "      <td>9</td>\n",
              "      <td>Y</td>\n",
              "      <td>Y</td>\n",
              "      <td>N</td>\n",
              "      <td>NaN</td>\n",
              "      <td>50512.582031</td>\n",
              "      <td>1259.304657</td>\n",
              "    </tr>\n",
              "    <tr>\n",
              "      <th>3</th>\n",
              "      <td>4</td>\n",
              "      <td>Frankford Boat Launch</td>\n",
              "      <td>Frankford Boat Launch</td>\n",
              "      <td>N</td>\n",
              "      <td>Frankford Boat Launch</td>\n",
              "      <td>Frankford Boat Launch</td>\n",
              "      <td>PA Fish &amp; Boat;Frankford Arsenal Boat Launch</td>\n",
              "      <td>3090</td>\n",
              "      <td>5625 TACONY ST</td>\n",
              "      <td>19137</td>\n",
              "      <td>5625 TACONY ST</td>\n",
              "      <td>5650 Tacony St</td>\n",
              "      <td>19.398075</td>\n",
              "      <td>NEIGHBORHOOD_PARK</td>\n",
              "      <td>BOATHOUSE_LAUNCH</td>\n",
              "      <td>2</td>\n",
              "      <td>2</td>\n",
              "      <td>6</td>\n",
              "      <td>15</td>\n",
              "      <td>Y</td>\n",
              "      <td>Y</td>\n",
              "      <td>N</td>\n",
              "      <td>NaN</td>\n",
              "      <td>133961.171875</td>\n",
              "      <td>1641.529044</td>\n",
              "    </tr>\n",
              "    <tr>\n",
              "      <th>4</th>\n",
              "      <td>5</td>\n",
              "      <td>Orthodox Street Park</td>\n",
              "      <td>Orthodox Street Park</td>\n",
              "      <td>N</td>\n",
              "      <td>NaN</td>\n",
              "      <td>Orthodox</td>\n",
              "      <td>Orthodox Street Parcel; Bridesburg Riverfront ...</td>\n",
              "      <td>3091</td>\n",
              "      <td>3101 ORTHODOX ST</td>\n",
              "      <td>19137</td>\n",
              "      <td>3101 ORTHODOX ST</td>\n",
              "      <td>NaN</td>\n",
              "      <td>16.229629</td>\n",
              "      <td>NEIGHBORHOOD_PARK</td>\n",
              "      <td>UNDEVELOPED</td>\n",
              "      <td>5</td>\n",
              "      <td>2</td>\n",
              "      <td>6</td>\n",
              "      <td>15</td>\n",
              "      <td>Y</td>\n",
              "      <td>Y</td>\n",
              "      <td>N</td>\n",
              "      <td>Officially acquired from PAID in 10/2019. Doc ...</td>\n",
              "      <td>112026.734375</td>\n",
              "      <td>1679.085206</td>\n",
              "    </tr>\n",
              "  </tbody>\n",
              "</table>\n",
              "</div>"
            ],
            "text/plain": [
              "   OBJECTID  ... Shape__Length\n",
              "0         1  ...    892.868012\n",
              "1         2  ...   9300.670289\n",
              "2         3  ...   1259.304657\n",
              "3         4  ...   1641.529044\n",
              "4         5  ...   1679.085206\n",
              "\n",
              "[5 rows x 25 columns]"
            ]
          },
          "metadata": {
            "tags": []
          },
          "execution_count": 5
        }
      ]
    },
    {
      "cell_type": "code",
      "metadata": {
        "id": "fskIVgPM3ZnC",
        "colab_type": "code",
        "colab": {
          "base_uri": "https://localhost:8080/",
          "height": 450
        },
        "outputId": "ceb043fc-2588-4179-a9b0-06630a3487a4"
      },
      "source": [
        "# show the end of the dataframe (the last 5 rows)\n",
        "pparks.tail()"
      ],
      "execution_count": 6,
      "outputs": [
        {
          "output_type": "execute_result",
          "data": {
            "text/html": [
              "<div>\n",
              "<style scoped>\n",
              "    .dataframe tbody tr th:only-of-type {\n",
              "        vertical-align: middle;\n",
              "    }\n",
              "\n",
              "    .dataframe tbody tr th {\n",
              "        vertical-align: top;\n",
              "    }\n",
              "\n",
              "    .dataframe thead th {\n",
              "        text-align: right;\n",
              "    }\n",
              "</style>\n",
              "<table border=\"1\" class=\"dataframe\">\n",
              "  <thead>\n",
              "    <tr style=\"text-align: right;\">\n",
              "      <th></th>\n",
              "      <th>OBJECTID</th>\n",
              "      <th>PUBLIC_NAME</th>\n",
              "      <th>PARENT_NAME</th>\n",
              "      <th>NESTED</th>\n",
              "      <th>OFFICIAL_NAME</th>\n",
              "      <th>LABEL</th>\n",
              "      <th>ALIAS</th>\n",
              "      <th>DPP_ASSET_ID</th>\n",
              "      <th>ADDRESS911</th>\n",
              "      <th>ZIPCODE</th>\n",
              "      <th>ADDRESS_BRT</th>\n",
              "      <th>ALIAS_ADDRESS</th>\n",
              "      <th>ACREAGE</th>\n",
              "      <th>PROPERTY_CLASSIFICATION</th>\n",
              "      <th>PPR_USE</th>\n",
              "      <th>PPR_DISTRICT</th>\n",
              "      <th>PPR_OPS_DISTRICT</th>\n",
              "      <th>COUNCIL_DISTRICT</th>\n",
              "      <th>POLICE_DISTRICT</th>\n",
              "      <th>CITY_SCALE_MAPS</th>\n",
              "      <th>LOCAL_SCALE_MAPS</th>\n",
              "      <th>PROGRAM_SITES</th>\n",
              "      <th>COMMENTS</th>\n",
              "      <th>Shape__Area</th>\n",
              "      <th>Shape__Length</th>\n",
              "    </tr>\n",
              "  </thead>\n",
              "  <tbody>\n",
              "    <tr>\n",
              "      <th>517</th>\n",
              "      <td>518</td>\n",
              "      <td>Sedgely and Fletcher Warehouse</td>\n",
              "      <td>Sedgely and Fletcher Warehouse</td>\n",
              "      <td>N</td>\n",
              "      <td>NaN</td>\n",
              "      <td>Sedgely Warehouse</td>\n",
              "      <td>Sedgley Storeroom;Maintenance Warehouse</td>\n",
              "      <td>99999</td>\n",
              "      <td>2528 W SEDGLEY AVE</td>\n",
              "      <td>19132</td>\n",
              "      <td>2528-34 W SEDGLEY AVE</td>\n",
              "      <td>W Sedgley Ave &amp; N 26th St;2528-34 W SEDGLEY AVE</td>\n",
              "      <td>0.773902</td>\n",
              "      <td>NEIGHBORHOOD_PARK</td>\n",
              "      <td>OPERATIONS</td>\n",
              "      <td>6</td>\n",
              "      <td>6</td>\n",
              "      <td>5</td>\n",
              "      <td>22</td>\n",
              "      <td>N</td>\n",
              "      <td>Y</td>\n",
              "      <td>N</td>\n",
              "      <td>School District leases to PPR.</td>\n",
              "      <td>5341.640625</td>\n",
              "      <td>356.178092</td>\n",
              "    </tr>\n",
              "    <tr>\n",
              "      <th>518</th>\n",
              "      <td>519</td>\n",
              "      <td>Fox Chase - Lorimer Trail Greenway (Rhawn)</td>\n",
              "      <td>Fox Chase - Lorimer Trail Greenway (Rhawn)</td>\n",
              "      <td>N</td>\n",
              "      <td>NaN</td>\n",
              "      <td>Fox Chase - Lorimer Greenway</td>\n",
              "      <td>NaN</td>\n",
              "      <td>99999</td>\n",
              "      <td>439 RHAWN ST</td>\n",
              "      <td>19111</td>\n",
              "      <td>NaN</td>\n",
              "      <td>Rhawn St and Elberon Ave;8217 BURHOLME AVE</td>\n",
              "      <td>3.589356</td>\n",
              "      <td>NEIGHBORHOOD_PARK</td>\n",
              "      <td>UNDEVELOPED</td>\n",
              "      <td>1</td>\n",
              "      <td>1</td>\n",
              "      <td>10</td>\n",
              "      <td>7</td>\n",
              "      <td>Y</td>\n",
              "      <td>Y</td>\n",
              "      <td>N</td>\n",
              "      <td>No Public Access. Undeveloped Land awaiting Fo...</td>\n",
              "      <td>24840.667969</td>\n",
              "      <td>2152.448099</td>\n",
              "    </tr>\n",
              "    <tr>\n",
              "      <th>519</th>\n",
              "      <td>520</td>\n",
              "      <td>Bartrams Mile Trail Greenway</td>\n",
              "      <td>Bartrams Mile Trail Greenway</td>\n",
              "      <td>N</td>\n",
              "      <td>NaN</td>\n",
              "      <td>Bartrams Trail Greenway</td>\n",
              "      <td>Bartram's Mile; Bartrams South</td>\n",
              "      <td>0</td>\n",
              "      <td>NaN</td>\n",
              "      <td>19143</td>\n",
              "      <td>NaN</td>\n",
              "      <td>NaN</td>\n",
              "      <td>9.217030</td>\n",
              "      <td>NEIGHBORHOOD_PARK</td>\n",
              "      <td>GREENWAY_PARKWAY</td>\n",
              "      <td>9</td>\n",
              "      <td>8</td>\n",
              "      <td>3</td>\n",
              "      <td>12,18</td>\n",
              "      <td>Y</td>\n",
              "      <td>N</td>\n",
              "      <td>N</td>\n",
              "      <td>In Development</td>\n",
              "      <td>63509.933594</td>\n",
              "      <td>2635.375719</td>\n",
              "    </tr>\n",
              "    <tr>\n",
              "      <th>520</th>\n",
              "      <td>521</td>\n",
              "      <td>Loretto and Gilham Triangle</td>\n",
              "      <td>Loretto and Gilham Triangle</td>\n",
              "      <td>N</td>\n",
              "      <td>NaN</td>\n",
              "      <td>Loretto and Gilham</td>\n",
              "      <td>Cranford Ave andd Magee Ave Traffic Island; No...</td>\n",
              "      <td>245</td>\n",
              "      <td>1385 GILHAM ST</td>\n",
              "      <td>19111</td>\n",
              "      <td>Registry - 144N070092</td>\n",
              "      <td>6540 LORETTO AVE</td>\n",
              "      <td>0.161596</td>\n",
              "      <td>POCKET_PARK</td>\n",
              "      <td>BREEZEWAY_ISLAND</td>\n",
              "      <td>1</td>\n",
              "      <td>2</td>\n",
              "      <td>9</td>\n",
              "      <td>2</td>\n",
              "      <td>Y</td>\n",
              "      <td>Y</td>\n",
              "      <td>N</td>\n",
              "      <td>NaN</td>\n",
              "      <td>1116.867188</td>\n",
              "      <td>144.694698</td>\n",
              "    </tr>\n",
              "    <tr>\n",
              "      <th>521</th>\n",
              "      <td>522</td>\n",
              "      <td>Rail Park</td>\n",
              "      <td>Rail Park</td>\n",
              "      <td>N</td>\n",
              "      <td>The Rail Park</td>\n",
              "      <td>Rail Park</td>\n",
              "      <td>NaN</td>\n",
              "      <td>99999</td>\n",
              "      <td>1250 NOBLE ST</td>\n",
              "      <td>19123</td>\n",
              "      <td>NaN</td>\n",
              "      <td>1136 CALLOWHILL ST</td>\n",
              "      <td>0.872112</td>\n",
              "      <td>NEIGHBORHOOD_PARK</td>\n",
              "      <td>GREENWAY_PARKWAY</td>\n",
              "      <td>10</td>\n",
              "      <td>5</td>\n",
              "      <td>1</td>\n",
              "      <td>6</td>\n",
              "      <td>Y</td>\n",
              "      <td>Y</td>\n",
              "      <td>N</td>\n",
              "      <td>Elevated former railway.</td>\n",
              "      <td>6009.941406</td>\n",
              "      <td>825.079151</td>\n",
              "    </tr>\n",
              "  </tbody>\n",
              "</table>\n",
              "</div>"
            ],
            "text/plain": [
              "     OBJECTID  ... Shape__Length\n",
              "517       518  ...    356.178092\n",
              "518       519  ...   2152.448099\n",
              "519       520  ...   2635.375719\n",
              "520       521  ...    144.694698\n",
              "521       522  ...    825.079151\n",
              "\n",
              "[5 rows x 25 columns]"
            ]
          },
          "metadata": {
            "tags": []
          },
          "execution_count": 6
        }
      ]
    },
    {
      "cell_type": "markdown",
      "metadata": {
        "id": "EyfxxJTQ1oKR",
        "colab_type": "text"
      },
      "source": [
        "## meausre the central tendency of the Philly park sizes\n",
        "measure the mean and the median and compare them"
      ]
    },
    {
      "cell_type": "code",
      "metadata": {
        "id": "Z57bH4c99E_k",
        "colab_type": "code",
        "colab": {
          "base_uri": "https://localhost:8080/",
          "height": 134
        },
        "outputId": "ec7d75d2-380c-43f4-e186-1dbca3e688eb"
      },
      "source": [
        "meanps = pparks.mean()\n",
        "meanps"
      ],
      "execution_count": 7,
      "outputs": [
        {
          "output_type": "execute_result",
          "data": {
            "text/plain": [
              "OBJECTID            261.500000\n",
              "DPP_ASSET_ID       3761.093870\n",
              "ZIPCODE           19021.597701\n",
              "ACREAGE              23.238296\n",
              "Shape__Area      160576.663539\n",
              "Shape__Length      1813.954186\n",
              "dtype: float64"
            ]
          },
          "metadata": {
            "tags": []
          },
          "execution_count": 7
        }
      ]
    },
    {
      "cell_type": "code",
      "metadata": {
        "id": "Sa8T8XRv9HNW",
        "colab_type": "code",
        "colab": {
          "base_uri": "https://localhost:8080/",
          "height": 168
        },
        "outputId": "8b8dbd32-675c-4c6a-c857-a05ffb0159bd"
      },
      "source": [
        "# show the median size of the dataframe \n",
        "# are they the same? \n",
        "medianps = pparks.median()\n",
        "print(medianps)\n",
        "print(\"\")\n",
        "print(\"The mean and the median size of the dataframe are different\")"
      ],
      "execution_count": 8,
      "outputs": [
        {
          "output_type": "stream",
          "text": [
            "OBJECTID           261.500000\n",
            "DPP_ASSET_ID      1846.500000\n",
            "ZIPCODE          19132.000000\n",
            "ACREAGE              3.593854\n",
            "Shape__Area      24832.205078\n",
            "Shape__Length      707.694865\n",
            "dtype: float64\n",
            "\n",
            "The mean and the median size of the dataframe are different\n"
          ],
          "name": "stdout"
        }
      ]
    },
    {
      "cell_type": "markdown",
      "metadata": {
        "id": "tMGgOIF374IN",
        "colab_type": "text"
      },
      "source": [
        "**Question**: what can you conclude from \n",
        " the values of the mean and median you extracted? (discuss in a text cell below)\n",
        "\n",
        "\n",
        "**Answer**: This question is about the mean and median size of the dataframe of the Philly parks. According to the data above, the mean size of the acreage is 23.24 and the medain size of the one is around 3.6. The mean size of the Shape area is around 160,577 and the median size of the one is around 24,832. Because the mean is higher than the median, the distribution of the size (acreage) is \"right-skewed\" or \"positive skewed\". "
      ]
    },
    {
      "cell_type": "code",
      "metadata": {
        "id": "jl8tmy9VWDz1",
        "colab_type": "code",
        "colab": {
          "base_uri": "https://localhost:8080/",
          "height": 313
        },
        "outputId": "dc264af4-9662-47bb-cb3d-e770d7b0a75d"
      },
      "source": [
        "# -- Reframe \n",
        "meanps = pparks[\"ACREAGE\"].mean()\n",
        "medianps = pparks[\"ACREAGE\"].median()\n",
        "print(\"Mean: {0}\".format(meanps))\n",
        "print(\"Medain: {0}\".format(medianps))\n",
        "\n",
        "# -- Plot the histogram\n",
        "ax = pparks.ACREAGE.hist(bins = 30)\n",
        "ax.axvline(x=meanps, c=\"orange\", label=\"mean (23.24)\")\n",
        "ax.axvline(x=medianps, c=\"green\", label=\"median (3.60)\")\n",
        "ax.set_xlabel(\"Pilly parks size(acres)\")\n",
        "ax.set_ylabel(\"Number of Pilly parent parks\")\n",
        "ax.legend();"
      ],
      "execution_count": 9,
      "outputs": [
        {
          "output_type": "stream",
          "text": [
            "Mean: 23.238296223045964\n",
            "Medain: 3.59385373\n"
          ],
          "name": "stdout"
        },
        {
          "output_type": "display_data",
          "data": {
            "image/png": "[encoded data removed]",
            "text/plain": [
              "<Figure size 432x288 with 1 Axes>"
            ]
          },
          "metadata": {
            "tags": [],
            "needs_background": "light"
          }
        }
      ]
    },
    {
      "cell_type": "markdown",
      "metadata": {
        "id": "CIT4FVfp00jW",
        "colab_type": "text"
      },
      "source": [
        "\n",
        "Figure Caption: Imagine that the reader has no access to my instructions, or to the code. What does this figure show? what should the reader note about the figure? \n"
      ]
    },
    {
      "cell_type": "markdown",
      "metadata": {
        "id": "kc9eu6xLysPt",
        "colab_type": "text"
      },
      "source": [
        "**Figure 1**: Hisogram of the central tendency of the Philly park sizes. The unit is ACRES. The yellow line indicates the mean of the size, which is 23.24 acres. The green line indicates the medain of the size, which is 3.6 acres. As the graph shown above, the mean is higher than the mean. Therefore, it is plausible to say that the the distribution of the data of the Philly park sizes is right-skewed. "
      ]
    },
    {
      "cell_type": "markdown",
      "metadata": {
        "id": "VlJDAh6s1ESG",
        "colab_type": "text"
      },
      "source": [
        "## what is the spread of park sizes?\n",
        "calculate the standard deviation of the park sized"
      ]
    },
    {
      "cell_type": "code",
      "metadata": {
        "id": "oFarBw6i2GFG",
        "colab_type": "code",
        "colab": {
          "base_uri": "https://localhost:8080/",
          "height": 34
        },
        "outputId": "e3b26d65-c9ae-4b91-b43c-69666f2bec13"
      },
      "source": [
        "stdps = pparks.std()\n",
        "print(\"standard deviation of park size is {0} Acres\".format(stdps.ACREAGE.round(2)))"
      ],
      "execution_count": 10,
      "outputs": [
        {
          "output_type": "stream",
          "text": [
            "standard deviation of park size is 131.88 Acres\n"
          ],
          "name": "stdout"
        }
      ]
    },
    {
      "cell_type": "markdown",
      "metadata": {
        "id": "3av2lwsDx3vu",
        "colab_type": "text"
      },
      "source": [
        "## select only a subset of the parks: the pasks smaller than 10 acres\n",
        "calculate the mean and median and plot a histogram of the park sized with the mean and median indicated on the plot"
      ]
    },
    {
      "cell_type": "code",
      "metadata": {
        "id": "AnGbfLrFRCcY",
        "colab_type": "code",
        "colab": {
          "base_uri": "https://localhost:8080/",
          "height": 330
        },
        "outputId": "0678d186-0d8d-4355-a561-7a4cc2f497dc"
      },
      "source": [
        "# -- Subset the parks smaller than 10 acres\n",
        "pparks_10 = pparks[pparks.ACREAGE < 10]\n",
        "\n",
        "# -- Calculate mean and median\n",
        "print(\"Mean of the parks smaller than 10 acres is {0}\".format(pparks_10.ACREAGE.mean()))\n",
        "print(\"Median of the parks smaller than 10 acres is {0}\".format(pparks_10.ACREAGE.median()))\n",
        "print(\"\")\n",
        "\n",
        "# -- Reframe \n",
        "meanps_10 = pparks_10[\"ACREAGE\"].mean()\n",
        "medianps_10 = pparks_10[\"ACREAGE\"].median()\n",
        "\n",
        "# -- Plot the histogram\n",
        "ax = pparks_10.ACREAGE.hist(bins = 30)\n",
        "ax.axvline(x=meanps_10, c=\"red\", label=\"mean (2.91)\")\n",
        "ax.axvline(x=medianps_10, c=\"blue\", label=\"median (2.06)\")\n",
        "ax.set_xlabel(\"Pilly parks size(acres) smaller than 10 acres\")\n",
        "ax.set_ylabel(\"Number of Pilly parent parks\")\n",
        "ax.legend();"
      ],
      "execution_count": 11,
      "outputs": [
        {
          "output_type": "stream",
          "text": [
            "Mean of the parks smaller than 10 acres is 2.9079506748410746\n",
            "Median of the parks smaller than 10 acres is 2.05984969\n",
            "\n"
          ],
          "name": "stdout"
        },
        {
          "output_type": "display_data",
          "data": {
            "image/png": "[encoded data removed]",
            "text/plain": [
              "<Figure size 432x288 with 1 Axes>"
            ]
          },
          "metadata": {
            "tags": [],
            "needs_background": "light"
          }
        }
      ]
    },
    {
      "cell_type": "markdown",
      "metadata": {
        "id": "34a6oAaM1DJG",
        "colab_type": "text"
      },
      "source": [
        "\n",
        "Figure Caption: Imagine that the reader has no access to my instructions, or to the code. What does this figure show? what should the reader note about the figure?\n"
      ]
    },
    {
      "cell_type": "markdown",
      "metadata": {
        "id": "_UeEj8CTjRsf",
        "colab_type": "text"
      },
      "source": [
        "**Figure 2**: Hisogram of the central tendency of the Philly park sizes smaller than 10 acres. This graph shows the distribution of the Philly park sizes clearly rather than the graph in Figure 1. The red line indicates the mean of the size, which is 2.91 acres. The blue line indicates the medain of the size, which is 2.06 acres. Similarly, the mean is higher than the mean, and therefore the distribution of the data is right-skewed. The difference between Figure 1 and Figure 2 is that the gap between the mean and the median in the Figure 2 is more apprent the one in Figure 1.   "
      ]
    },
    {
      "cell_type": "markdown",
      "metadata": {
        "id": "vPDVrnGb3xwF",
        "colab_type": "text"
      },
      "source": [
        "# Challenge\n",
        "\n",
        "the parks listed in each row are in some cases subsets of larger parks. The \"parent\" park is listed under PARENT_NAME. \n",
        "\n",
        "The challenge is to visualize the distribution of sizes of the  parent parks. To do that you have to aggregate the parks based on the \"PARENT_NAME\" value and sum the size of the parks. The methods of the dataframe you want to use are \n",
        "```.groupby()```\n",
        "and \n",
        "```.sum()```"
      ]
    },
    {
      "cell_type": "code",
      "metadata": {
        "id": "eh9JRv60Ie7w",
        "colab_type": "code",
        "colab": {
          "base_uri": "https://localhost:8080/",
          "height": 565
        },
        "outputId": "bc6b2b69-5c80-4a61-b39b-bae1e82bc2de"
      },
      "source": [
        "# -- Subset \n",
        "pparks_parent = pparks.groupby('PARENT_NAME').sum()\n",
        "print(pparks_parent)\n",
        "\n",
        "# -- Reframe \n",
        "meanps_p = pparks_parent[\"ACREAGE\"].mean()\n",
        "medianps_p = pparks_parent[\"ACREAGE\"].median()\n",
        "print(meanps_p)\n",
        "print(medianps_p)\n",
        "\n",
        "# -- Plot the histogram\n",
        "ax = pparks_parent[\"ACREAGE\"].hist(bins = 30)\n",
        "ax.axvline(x=meanps_p, c=\"orange\", label=\"mean (30.87)\")\n",
        "ax.axvline(x=medianps_p, c=\"green\", label=\"median (3.00)\")\n",
        "ax.set_xlabel(\"Pilly parent parks size(acres)\")\n",
        "ax.set_ylabel(\"Number of Pilly parent parks\")\n",
        "ax.legend();"
      ],
      "execution_count": 12,
      "outputs": [
        {
          "output_type": "stream",
          "text": [
            "                                   OBJECTID  ...  Shape__Length\n",
            "PARENT_NAME                                  ...               \n",
            "10th and Lemon Playground                40  ...     169.462813\n",
            "11th and Cecil B Moore Playground       183  ...     755.891229\n",
            "12th and Cambria Playground             263  ...     542.995987\n",
            "17th and Carpenter Play Lot             514  ...     184.887743\n",
            "18th and Jackson War Memorial           390  ...     148.363162\n",
            "...                                     ...  ...            ...\n",
            "Womrath Park                            265  ...     591.724807\n",
            "Wooden Bridge Run                        75  ...    4653.000056\n",
            "Woodside Park                           252  ...     615.286813\n",
            "Woodward Pines                          305  ...     755.404286\n",
            "Yorktown Commons                       3437  ...    1760.240963\n",
            "\n",
            "[393 rows x 6 columns]\n",
            "30.86613391458016\n",
            "2.99613878\n"
          ],
          "name": "stdout"
        },
        {
          "output_type": "display_data",
          "data": {
            "image/png": "[encoded data removed]",
            "text/plain": [
              "<Figure size 432x288 with 1 Axes>"
            ]
          },
          "metadata": {
            "tags": [],
            "needs_background": "light"
          }
        }
      ]
    },
    {
      "cell_type": "markdown",
      "metadata": {
        "id": "BGEayx7x5xdl",
        "colab_type": "text"
      },
      "source": [
        "Figure caption (make sure you describe the differences!)"
      ]
    },
    {
      "cell_type": "markdown",
      "metadata": {
        "id": "VQxUe2CgIu3g",
        "colab_type": "text"
      },
      "source": [
        "**Figure 3**: Hisogram of the central tendency of the Philly Parent Park sizes. The unit is ACRES. The yellow line indicates the mean of the size, which is around 30.87 acres. The green line indicates the medain of the size, which is around 3 acres. As the graph shown above, the mean is higher than the mean. Therefore, it is plausible to say that the the distribution of the data of the Philly park sizes is right-skewed.\n",
        "\n",
        " **NOTE*: Please note some differences between the Figure 1 and the Figure 3. The Figure 3 shows the largest acres is around 2500. Therefore, the mean and the median in the Figure 4 is higher than the one in the Figure 1 as there is a outlier in the dataset.  "
      ]
    },
    {
      "cell_type": "markdown",
      "metadata": {
        "id": "OdMYUhIK7NY9",
        "colab_type": "text"
      },
      "source": [
        "What could you measure about this new dataset obtained by grouping the data by PARENT_NAME that would allow you to investigate further the difference in the two dataset? "
      ]
    },
    {
      "cell_type": "code",
      "metadata": {
        "id": "mZbAHEiLnTO9",
        "colab_type": "code",
        "colab": {
          "base_uri": "https://localhost:8080/",
          "height": 330
        },
        "outputId": "fd1d3ad6-449b-4cf2-f665-4065a8a5f80e"
      },
      "source": [
        "# -- Subset the parks smaller than 10 acres\n",
        "pparks_p10 = pparks_parent[pparks_parent.ACREAGE < 10]\n",
        "\n",
        "# -- Calculate mean and median\n",
        "print(\"Mean of the parent parks smaller than 10 acres is {0}\".format(pparks_p10.ACREAGE.mean()))\n",
        "print(\"Median of the parent parks smaller than 10 acres is {0}\".format(pparks_p10.ACREAGE.median()))\n",
        "print(\"\")\n",
        "\n",
        "# -- Reframe \n",
        "meanps_p10 = pparks_p10[\"ACREAGE\"].mean()\n",
        "medianps_p10 = pparks_p10[\"ACREAGE\"].median()\n",
        "\n",
        "# -- Plot the histogram\n",
        "ax = pparks_p10.ACREAGE.hist(bins = 30)\n",
        "ax.axvline(x=meanps_p10, c=\"red\", label=\"mean (2.68)\")\n",
        "ax.axvline(x=medianps_p10, c=\"blue\", label=\"median (1.87)\")\n",
        "ax.set_ylabel(\"Number of Pilly parent parks\")\n",
        "ax.set_xlabel(\"Pilly parent parks size(acres) smaller than 10 acres\")\n",
        "ax.legend();"
      ],
      "execution_count": 13,
      "outputs": [
        {
          "output_type": "stream",
          "text": [
            "Mean of the parent parks smaller than 10 acres is 2.6764371927848094\n",
            "Median of the parent parks smaller than 10 acres is 1.873372485\n",
            "\n"
          ],
          "name": "stdout"
        },
        {
          "output_type": "display_data",
          "data": {
            "image/png": "[encoded data removed]",
            "text/plain": [
              "<Figure size 432x288 with 1 Axes>"
            ]
          },
          "metadata": {
            "tags": [],
            "needs_background": "light"
          }
        }
      ]
    },
    {
      "cell_type": "markdown",
      "metadata": {
        "id": "gqceRLIMrrSL",
        "colab_type": "text"
      },
      "source": [
        "**Figure 4** :  Histogram of the central tendency of the Philly Parent Park sizes smaller than 10 acres. This graph shows the distribution of the Philly park sizes clearly rather than the graph in Figure 3. The red line indicates the mean of the size, which is 2.68 acres. The blue line indicates the medain of the size, which is around 1.87 acres. Similarly, the mean is higher than the mean, and therefore the distribution of the data is right-skewed. The difference between Figure 3 and Figure 4 is that the gap between the mean and the median in the Figure 3 is more apprent the one in Figure 4.  \n",
        "\n",
        " **NOTE*: Please note difference between the Figure 2 and the Figure 4. Both figure shows the park sizes smaller than 10 acres, however, the Figure 4 shows the parent park which are classified as the larger parks. Therefore, the mean and the median in the Figure 4 is lower than the one in the Figure 2 as the classification status of the size of the park is larger.\n"
      ]
    }
  ]
}