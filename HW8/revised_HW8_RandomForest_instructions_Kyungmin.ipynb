{
  "nbformat": 4,
  "nbformat_minor": 0,
  "metadata": {
    "colab": {
      "name": "revised_HW8_RandomForest_instructions_Kyungmin.ipynb",
      "provenance": [],
      "include_colab_link": true
    },
    "kernelspec": {
      "name": "python3",
      "display_name": "Python 3"
    }
  },
  "cells": [
    {
      "cell_type": "markdown",
      "metadata": {
        "id": "view-in-github",
        "colab_type": "text"
      },
      "source": [
        "<a href=\"https://colab.research.google.com/github/fedhere/PUS2020_KLee/blob/master/HW8/revised_HW8_RandomForest_instructions_Kyungmin.ipynb\" target=\"_parent\"><img src=\"https://colab.research.google.com/assets/colab-badge.svg\" alt=\"Open In Colab\"/></a>"
      ]
    },
    {
      "cell_type": "markdown",
      "metadata": {
        "id": "KW9Oy459fxHz"
      },
      "source": [
        "Following the paper \"Examining the feasibility of using open data to benchmark building energy usage in cities: A data science and policy perspective\" [Roth et al 2019](https://www.researchgate.net/publication/337074109_Examining_the_feasibility_of_using_open_data_to_benchmark_building_energy_usage_in_cities_A_data_science_and_policy_perspective), choose 2 cities in the dataset available through the paper's github repository https://github.com/Urban-Informatics-Lab/Open-Data-Benchmarking\n",
        "\n",
        "This paper is an excellent example of reproducible research. \n",
        "\n",
        "I also created an example of using random forest classifier and regressors here https://github.com/fedhere/PUS2020_FBianco/blob/master/classdemos/COVID19LOS_featureExtractionRFexample.ipynb and there are links at the bottom of this notebook to useful functions and examples on the internet of applications of methods you will need to use.\n",
        "\n",
        "1. Read the introduction to the paper and describe here (briefly) the goals of their analysis (and the analysis that you are about to reproduce). Max 200 words.\n",
        "2. Choose 2 cities (any 2 cities except Seattle cause I am running some of the Seattle analysis below for guidance)\n",
        "3. For each of the 2 cities reproduce their analysis by \n",
        "\n",
        "  3.1 gathering the original data from their repository (see below for Seattle example)\n",
        "\n",
        "  3.2 clean the data according to their data preparation scheme, including one-hot-encoding categorical variables, except to impute missing data using KNearestNeighors instead of Gibbs sampling (see below)\n",
        "\n",
        "  3.3 run a Random Forest (RF) Regressor to predict the total energy consumption.\n",
        "\n",
        "  3.4 evaluate the RF model performance by printing the R2 score (the default score in SKLearn RF) for training and test set (discuss)\n",
        "\n",
        "  3.5 plot the features sorted by their importance and identify the most important features. are they consistent between the 2 cities? are they consistent with the paper's result?\n",
        "4 compare the result for the 2 cities (discuss)\n",
        "\n",
        "5. Extra credit: \n",
        "\n",
        "  5.1 modify the target variable to a binary variable choosing the median of the variable values as the the energy threshold and predict whether the value is higher or lower than the threshold\n",
        "  5.2 Run a Random Forest Classifier to predict if an observation is in the upper 50% percentile or lower 50% percentile (above or below the median threshold)\n",
        "  5.3 Measure the performance of the model on training and test data\n",
        "  5.4 Measure the feature importance and assess if the important feature have changed (discuss)"
      ]
    },
    {
      "cell_type": "markdown",
      "metadata": {
        "id": "ovuPr5r_sxyw"
      },
      "source": [
        "# Goals of the analysis\n",
        "\n",
        "Roth et al. (2020) examines the feasibility of using city-specific public open data sources to benchmark building energy usage in cities in term of a data science and policy perspective. The goal of this study is to compare the results of the two bechmarking models, which is used to evaluate the process of measuring building energy performance to identify inefficient buildings. the research qeustions are followings: \n",
        "\n",
        "* Can city wide energy benchmarking be conducted using only open data and how do such models compare to the current practice?\n",
        "* What benchmarking data fields are important for cities to collect?\n",
        "* What policies and programs can cities adopt to enhance the efficacy of their energy benchmarking programs?\n",
        "\n",
        "By using random forest and lasso regression, this study finds out the performance difference between linear and non-linear models. It also identified the most important avariables as building area, property type, conditioned area, and water usage.  \n",
        "\n",
        "**Reference** \n",
        "\n",
        "Roth, Jonathan, Benjamin Lim, Rishee K. Jain, and Dian Grueneich. \"Examining the feasibility of using open data to benchmark building energy usage in cities: A data science and policy perspective.\" Energy Policy 139 (2020): 111327.\n"
      ]
    },
    {
      "cell_type": "markdown",
      "metadata": {
        "id": "5Wia-RaAXtJC"
      },
      "source": [
        "# choose a city and read in the data"
      ]
    },
    {
      "cell_type": "code",
      "metadata": {
        "id": "EVupHHIYHuUK"
      },
      "source": [
        "import pandas as pd\n",
        "import numpy as np"
      ],
      "execution_count": null,
      "outputs": []
    },
    {
      "cell_type": "code",
      "metadata": {
        "id": "MJp2XDBXomMw",
        "colab": {
          "base_uri": "https://localhost:8080/",
          "height": 581
        },
        "outputId": "cbe0899e-e461-4e7f-c913-ffb1ea7b7e31"
      },
      "source": [
        "london = pd.read_csv(\"https://raw.githubusercontent.com/Urban-Informatics-Lab/Open-Data-Benchmarking/master/London/london_final.csv\")\n",
        "london.head()"
      ],
      "execution_count": null,
      "outputs": [
        {
          "output_type": "execute_result",
          "data": {
            "text/html": [
              "<div>\n",
              "<style scoped>\n",
              "    .dataframe tbody tr th:only-of-type {\n",
              "        vertical-align: middle;\n",
              "    }\n",
              "\n",
              "    .dataframe tbody tr th {\n",
              "        vertical-align: top;\n",
              "    }\n",
              "\n",
              "    .dataframe thead th {\n",
              "        text-align: right;\n",
              "    }\n",
              "</style>\n",
              "<table border=\"1\" class=\"dataframe\">\n",
              "  <thead>\n",
              "    <tr style=\"text-align: right;\">\n",
              "      <th></th>\n",
              "      <th>Unnamed: 0</th>\n",
              "      <th>rrn</th>\n",
              "      <th>post_town</th>\n",
              "      <th>county</th>\n",
              "      <th>zip</th>\n",
              "      <th>energy_rating_band</th>\n",
              "      <th>energy_rating</th>\n",
              "      <th>total_CO2_emissions_MT</th>\n",
              "      <th>heating_fuel_type</th>\n",
              "      <th>hvac_type</th>\n",
              "      <th>floor_area_M2</th>\n",
              "      <th>fuel_eui_KWHM2</th>\n",
              "      <th>electricity_eui_KWHM2</th>\n",
              "      <th>typical_fuel_eui_KWHM2</th>\n",
              "      <th>typical_electricity_eui_KWHM2</th>\n",
              "      <th>renewables_percent_thermal</th>\n",
              "      <th>renewables_percent_electrical</th>\n",
              "      <th>total_heat_energy_KWH</th>\n",
              "      <th>total_electricity_KWH</th>\n",
              "      <th>total_heat_energy_typical_KWH</th>\n",
              "      <th>total_electricity_typical_KWH</th>\n",
              "      <th>floor_area_SF</th>\n",
              "      <th>total_site_energy_KBTU</th>\n",
              "      <th>log_total_site_energy_KBTU</th>\n",
              "      <th>site_eui_KBTUSF</th>\n",
              "    </tr>\n",
              "  </thead>\n",
              "  <tbody>\n",
              "    <tr>\n",
              "      <th>0</th>\n",
              "      <td>1</td>\n",
              "      <td>0793-0110-4549-4309-1096</td>\n",
              "      <td>LONDON</td>\n",
              "      <td>Greater London Authority</td>\n",
              "      <td>9729</td>\n",
              "      <td>D</td>\n",
              "      <td>89</td>\n",
              "      <td>99</td>\n",
              "      <td>Natural Gas</td>\n",
              "      <td>Heating and Mechanical Ventilation</td>\n",
              "      <td>1241.0</td>\n",
              "      <td>113</td>\n",
              "      <td>106</td>\n",
              "      <td>237</td>\n",
              "      <td>80</td>\n",
              "      <td>0.0</td>\n",
              "      <td>0.0</td>\n",
              "      <td>140233.0</td>\n",
              "      <td>131546.0</td>\n",
              "      <td>294117.0</td>\n",
              "      <td>99280.0</td>\n",
              "      <td>13357.99990</td>\n",
              "      <td>9.273480e+05</td>\n",
              "      <td>13.740084</td>\n",
              "      <td>69.422668</td>\n",
              "    </tr>\n",
              "    <tr>\n",
              "      <th>1</th>\n",
              "      <td>2</td>\n",
              "      <td>9090-1984-0130-1780-7004</td>\n",
              "      <td>GREENFORD</td>\n",
              "      <td>Greater London Authority</td>\n",
              "      <td>16964</td>\n",
              "      <td>E</td>\n",
              "      <td>102</td>\n",
              "      <td>191</td>\n",
              "      <td>Natural Gas</td>\n",
              "      <td>Heating and Natural Ventilation</td>\n",
              "      <td>2512.0</td>\n",
              "      <td>178</td>\n",
              "      <td>75</td>\n",
              "      <td>225</td>\n",
              "      <td>56</td>\n",
              "      <td>0.0</td>\n",
              "      <td>0.0</td>\n",
              "      <td>447136.0</td>\n",
              "      <td>188400.0</td>\n",
              "      <td>565200.0</td>\n",
              "      <td>140672.0</td>\n",
              "      <td>27038.91680</td>\n",
              "      <td>2.168538e+06</td>\n",
              "      <td>14.589564</td>\n",
              "      <td>80.200617</td>\n",
              "    </tr>\n",
              "    <tr>\n",
              "      <th>2</th>\n",
              "      <td>3</td>\n",
              "      <td>9770-1059-0907-0690-7901</td>\n",
              "      <td>CROYDON</td>\n",
              "      <td>Greater London Authority</td>\n",
              "      <td>3321</td>\n",
              "      <td>D</td>\n",
              "      <td>77</td>\n",
              "      <td>99</td>\n",
              "      <td>Natural Gas</td>\n",
              "      <td>Heating and Natural Ventilation</td>\n",
              "      <td>1555.0</td>\n",
              "      <td>195</td>\n",
              "      <td>47</td>\n",
              "      <td>251</td>\n",
              "      <td>62</td>\n",
              "      <td>0.0</td>\n",
              "      <td>0.0</td>\n",
              "      <td>303225.0</td>\n",
              "      <td>73085.0</td>\n",
              "      <td>390305.0</td>\n",
              "      <td>96410.0</td>\n",
              "      <td>16737.86450</td>\n",
              "      <td>1.284022e+06</td>\n",
              "      <td>14.065508</td>\n",
              "      <td>76.713634</td>\n",
              "    </tr>\n",
              "    <tr>\n",
              "      <th>3</th>\n",
              "      <td>4</td>\n",
              "      <td>0770-0210-5879-1709-4096</td>\n",
              "      <td>CROYDON</td>\n",
              "      <td>Greater London Authority</td>\n",
              "      <td>3320</td>\n",
              "      <td>F</td>\n",
              "      <td>143</td>\n",
              "      <td>95</td>\n",
              "      <td>Natural Gas</td>\n",
              "      <td>Heating and Natural Ventilation</td>\n",
              "      <td>1302.8</td>\n",
              "      <td>225</td>\n",
              "      <td>53</td>\n",
              "      <td>148</td>\n",
              "      <td>40</td>\n",
              "      <td>0.0</td>\n",
              "      <td>0.0</td>\n",
              "      <td>293130.0</td>\n",
              "      <td>69048.4</td>\n",
              "      <td>192814.4</td>\n",
              "      <td>52112.0</td>\n",
              "      <td>14023.20892</td>\n",
              "      <td>1.235803e+06</td>\n",
              "      <td>14.027232</td>\n",
              "      <td>88.125579</td>\n",
              "    </tr>\n",
              "    <tr>\n",
              "      <th>4</th>\n",
              "      <td>5</td>\n",
              "      <td>0166-1060-0216-0290-5501</td>\n",
              "      <td>CROYDON</td>\n",
              "      <td>Greater London Authority</td>\n",
              "      <td>3381</td>\n",
              "      <td>E</td>\n",
              "      <td>106</td>\n",
              "      <td>67</td>\n",
              "      <td>Natural Gas</td>\n",
              "      <td>Air Conditioning</td>\n",
              "      <td>1097.0</td>\n",
              "      <td>103</td>\n",
              "      <td>75</td>\n",
              "      <td>42</td>\n",
              "      <td>91</td>\n",
              "      <td>0.0</td>\n",
              "      <td>0.0</td>\n",
              "      <td>112991.0</td>\n",
              "      <td>82275.0</td>\n",
              "      <td>46074.0</td>\n",
              "      <td>99827.0</td>\n",
              "      <td>11807.99830</td>\n",
              "      <td>6.662749e+05</td>\n",
              "      <td>13.409458</td>\n",
              "      <td>56.425730</td>\n",
              "    </tr>\n",
              "  </tbody>\n",
              "</table>\n",
              "</div>"
            ],
            "text/plain": [
              "   Unnamed: 0  ... site_eui_KBTUSF\n",
              "0           1  ...       69.422668\n",
              "1           2  ...       80.200617\n",
              "2           3  ...       76.713634\n",
              "3           4  ...       88.125579\n",
              "4           5  ...       56.425730\n",
              "\n",
              "[5 rows x 25 columns]"
            ]
          },
          "metadata": {
            "tags": []
          },
          "execution_count": 364
        }
      ]
    },
    {
      "cell_type": "code",
      "metadata": {
        "id": "xpK5KjHsBB9z",
        "colab": {
          "base_uri": "https://localhost:8080/",
          "height": 235
        },
        "outputId": "7a6fc017-7b17-47e0-fa9b-78b80b635009"
      },
      "source": [
        "dc = pd.read_csv(\"https://raw.githubusercontent.com/Urban-Informatics-Lab/Open-Data-Benchmarking/master/DC/DC_final.csv\")\n",
        "dc.head()"
      ],
      "execution_count": null,
      "outputs": [
        {
          "output_type": "execute_result",
          "data": {
            "text/html": [
              "<div>\n",
              "<style scoped>\n",
              "    .dataframe tbody tr th:only-of-type {\n",
              "        vertical-align: middle;\n",
              "    }\n",
              "\n",
              "    .dataframe tbody tr th {\n",
              "        vertical-align: top;\n",
              "    }\n",
              "\n",
              "    .dataframe thead th {\n",
              "        text-align: right;\n",
              "    }\n",
              "</style>\n",
              "<table border=\"1\" class=\"dataframe\">\n",
              "  <thead>\n",
              "    <tr style=\"text-align: right;\">\n",
              "      <th></th>\n",
              "      <th>Unnamed: 0</th>\n",
              "      <th>report_status</th>\n",
              "      <th>ward</th>\n",
              "      <th>postal_code</th>\n",
              "      <th>year_built</th>\n",
              "      <th>primary_ptype_self</th>\n",
              "      <th>primary_ptype_epa</th>\n",
              "      <th>tax_record_floor_area</th>\n",
              "      <th>reported_gross_floor_area</th>\n",
              "      <th>water_use</th>\n",
              "      <th>metered_areas_energy</th>\n",
              "      <th>metered_areas_water</th>\n",
              "      <th>electricity_use</th>\n",
              "      <th>natural_gas_use</th>\n",
              "      <th>energy_star_score</th>\n",
              "      <th>site_eui</th>\n",
              "      <th>weather_norm_site_eui</th>\n",
              "      <th>source_eui</th>\n",
              "      <th>weather_norm_source_eui</th>\n",
              "      <th>total_ghg_emissions</th>\n",
              "      <th>total_ghg_emissions_intensity</th>\n",
              "      <th>total_site_energy_KBTU</th>\n",
              "      <th>log_total_site_energy_KBTU</th>\n",
              "    </tr>\n",
              "  </thead>\n",
              "  <tbody>\n",
              "    <tr>\n",
              "      <th>0</th>\n",
              "      <td>1</td>\n",
              "      <td>In Compliance</td>\n",
              "      <td>4</td>\n",
              "      <td>20011</td>\n",
              "      <td>1959</td>\n",
              "      <td>Multifamily Housing</td>\n",
              "      <td>Multifamily Housing</td>\n",
              "      <td>63227.0</td>\n",
              "      <td>65000.0</td>\n",
              "      <td>6963.5</td>\n",
              "      <td>Whole Building</td>\n",
              "      <td>Whole Building</td>\n",
              "      <td>633043.8</td>\n",
              "      <td>44274.18307</td>\n",
              "      <td>9.0</td>\n",
              "      <td>101.3</td>\n",
              "      <td>102.7</td>\n",
              "      <td>175.9</td>\n",
              "      <td>174.9</td>\n",
              "      <td>482.9</td>\n",
              "      <td>7.4</td>\n",
              "      <td>6584500.0</td>\n",
              "      <td>15.700229</td>\n",
              "    </tr>\n",
              "    <tr>\n",
              "      <th>1</th>\n",
              "      <td>2</td>\n",
              "      <td>In Compliance</td>\n",
              "      <td>2</td>\n",
              "      <td>20005</td>\n",
              "      <td>1997</td>\n",
              "      <td>Office</td>\n",
              "      <td>Office</td>\n",
              "      <td>251557.0</td>\n",
              "      <td>257943.0</td>\n",
              "      <td>8490.0</td>\n",
              "      <td>Whole Building</td>\n",
              "      <td>Whole Building</td>\n",
              "      <td>5531486.0</td>\n",
              "      <td>NaN</td>\n",
              "      <td>69.0</td>\n",
              "      <td>73.2</td>\n",
              "      <td>73.2</td>\n",
              "      <td>229.8</td>\n",
              "      <td>229.8</td>\n",
              "      <td>2164.4</td>\n",
              "      <td>8.4</td>\n",
              "      <td>18881427.6</td>\n",
              "      <td>16.753689</td>\n",
              "    </tr>\n",
              "    <tr>\n",
              "      <th>2</th>\n",
              "      <td>3</td>\n",
              "      <td>In Compliance</td>\n",
              "      <td>2</td>\n",
              "      <td>20036</td>\n",
              "      <td>1964</td>\n",
              "      <td>Office</td>\n",
              "      <td>Office</td>\n",
              "      <td>330550.0</td>\n",
              "      <td>223218.0</td>\n",
              "      <td>8749.1</td>\n",
              "      <td>Whole Building</td>\n",
              "      <td>Whole Building</td>\n",
              "      <td>3863003.0</td>\n",
              "      <td>64143.38666</td>\n",
              "      <td>76.0</td>\n",
              "      <td>87.8</td>\n",
              "      <td>89.0</td>\n",
              "      <td>215.6</td>\n",
              "      <td>215.0</td>\n",
              "      <td>1852.2</td>\n",
              "      <td>8.3</td>\n",
              "      <td>19598540.4</td>\n",
              "      <td>16.790966</td>\n",
              "    </tr>\n",
              "    <tr>\n",
              "      <th>3</th>\n",
              "      <td>4</td>\n",
              "      <td>In Compliance</td>\n",
              "      <td>2</td>\n",
              "      <td>22202</td>\n",
              "      <td>1969</td>\n",
              "      <td>Office</td>\n",
              "      <td>Office</td>\n",
              "      <td>256839.0</td>\n",
              "      <td>213067.0</td>\n",
              "      <td>5393.8</td>\n",
              "      <td>Whole Building</td>\n",
              "      <td>Whole Building</td>\n",
              "      <td>2936445.0</td>\n",
              "      <td>NaN</td>\n",
              "      <td>87.0</td>\n",
              "      <td>47.0</td>\n",
              "      <td>46.4</td>\n",
              "      <td>147.7</td>\n",
              "      <td>145.8</td>\n",
              "      <td>1249.2</td>\n",
              "      <td>5.9</td>\n",
              "      <td>10014149.0</td>\n",
              "      <td>16.119510</td>\n",
              "    </tr>\n",
              "    <tr>\n",
              "      <th>4</th>\n",
              "      <td>5</td>\n",
              "      <td>In Compliance</td>\n",
              "      <td>2</td>\n",
              "      <td>20037</td>\n",
              "      <td>1975</td>\n",
              "      <td>Office</td>\n",
              "      <td>Office</td>\n",
              "      <td>370000.0</td>\n",
              "      <td>381518.0</td>\n",
              "      <td>10422.6</td>\n",
              "      <td>Whole Building</td>\n",
              "      <td>Whole Building</td>\n",
              "      <td>7345290.0</td>\n",
              "      <td>NaN</td>\n",
              "      <td>85.0</td>\n",
              "      <td>65.7</td>\n",
              "      <td>65.7</td>\n",
              "      <td>206.3</td>\n",
              "      <td>206.3</td>\n",
              "      <td>2874.1</td>\n",
              "      <td>7.5</td>\n",
              "      <td>25065732.6</td>\n",
              "      <td>17.037012</td>\n",
              "    </tr>\n",
              "  </tbody>\n",
              "</table>\n",
              "</div>"
            ],
            "text/plain": [
              "   Unnamed: 0  ... log_total_site_energy_KBTU\n",
              "0           1  ...                  15.700229\n",
              "1           2  ...                  16.753689\n",
              "2           3  ...                  16.790966\n",
              "3           4  ...                  16.119510\n",
              "4           5  ...                  17.037012\n",
              "\n",
              "[5 rows x 23 columns]"
            ]
          },
          "metadata": {
            "tags": []
          },
          "execution_count": 365
        }
      ]
    },
    {
      "cell_type": "markdown",
      "metadata": {
        "id": "2U-1HZY2Xodw"
      },
      "source": [
        "# inspect the dataframe"
      ]
    },
    {
      "cell_type": "code",
      "metadata": {
        "id": "6EyiUi0Xos1q",
        "colab": {
          "base_uri": "https://localhost:8080/",
          "height": 308
        },
        "outputId": "a571592d-6ecd-4d3f-a0e6-f0fb9541142e"
      },
      "source": [
        "london.describe()"
      ],
      "execution_count": null,
      "outputs": [
        {
          "output_type": "execute_result",
          "data": {
            "text/html": [
              "<div>\n",
              "<style scoped>\n",
              "    .dataframe tbody tr th:only-of-type {\n",
              "        vertical-align: middle;\n",
              "    }\n",
              "\n",
              "    .dataframe tbody tr th {\n",
              "        vertical-align: top;\n",
              "    }\n",
              "\n",
              "    .dataframe thead th {\n",
              "        text-align: right;\n",
              "    }\n",
              "</style>\n",
              "<table border=\"1\" class=\"dataframe\">\n",
              "  <thead>\n",
              "    <tr style=\"text-align: right;\">\n",
              "      <th></th>\n",
              "      <th>Unnamed: 0</th>\n",
              "      <th>zip</th>\n",
              "      <th>energy_rating</th>\n",
              "      <th>total_CO2_emissions_MT</th>\n",
              "      <th>floor_area_M2</th>\n",
              "      <th>fuel_eui_KWHM2</th>\n",
              "      <th>electricity_eui_KWHM2</th>\n",
              "      <th>typical_fuel_eui_KWHM2</th>\n",
              "      <th>typical_electricity_eui_KWHM2</th>\n",
              "      <th>renewables_percent_thermal</th>\n",
              "      <th>renewables_percent_electrical</th>\n",
              "      <th>total_heat_energy_KWH</th>\n",
              "      <th>total_electricity_KWH</th>\n",
              "      <th>total_heat_energy_typical_KWH</th>\n",
              "      <th>total_electricity_typical_KWH</th>\n",
              "      <th>floor_area_SF</th>\n",
              "      <th>total_site_energy_KBTU</th>\n",
              "      <th>log_total_site_energy_KBTU</th>\n",
              "      <th>site_eui_KBTUSF</th>\n",
              "    </tr>\n",
              "  </thead>\n",
              "  <tbody>\n",
              "    <tr>\n",
              "      <th>count</th>\n",
              "      <td>23474.000000</td>\n",
              "      <td>23474.000000</td>\n",
              "      <td>23474.000000</td>\n",
              "      <td>23474.000000</td>\n",
              "      <td>23474.000000</td>\n",
              "      <td>23474.000000</td>\n",
              "      <td>23474.00000</td>\n",
              "      <td>23474.000000</td>\n",
              "      <td>23474.000000</td>\n",
              "      <td>23474.000000</td>\n",
              "      <td>23474.000000</td>\n",
              "      <td>2.347400e+04</td>\n",
              "      <td>2.347400e+04</td>\n",
              "      <td>2.347400e+04</td>\n",
              "      <td>2.347400e+04</td>\n",
              "      <td>2.347400e+04</td>\n",
              "      <td>2.347400e+04</td>\n",
              "      <td>23474.000000</td>\n",
              "      <td>23474.000000</td>\n",
              "    </tr>\n",
              "    <tr>\n",
              "      <th>mean</th>\n",
              "      <td>11737.500000</td>\n",
              "      <td>9271.378887</td>\n",
              "      <td>134.872966</td>\n",
              "      <td>304.372029</td>\n",
              "      <td>3448.422946</td>\n",
              "      <td>169.854861</td>\n",
              "      <td>76.29390</td>\n",
              "      <td>212.057638</td>\n",
              "      <td>65.405129</td>\n",
              "      <td>0.157949</td>\n",
              "      <td>0.424793</td>\n",
              "      <td>6.236950e+05</td>\n",
              "      <td>3.293685e+05</td>\n",
              "      <td>8.143107e+05</td>\n",
              "      <td>2.552551e+05</td>\n",
              "      <td>3.711848e+04</td>\n",
              "      <td>3.251986e+06</td>\n",
              "      <td>14.360666</td>\n",
              "      <td>78.028784</td>\n",
              "    </tr>\n",
              "    <tr>\n",
              "      <th>std</th>\n",
              "      <td>6776.504446</td>\n",
              "      <td>5320.827711</td>\n",
              "      <td>581.743761</td>\n",
              "      <td>882.967259</td>\n",
              "      <td>6432.287065</td>\n",
              "      <td>100.733843</td>\n",
              "      <td>55.41504</td>\n",
              "      <td>116.658846</td>\n",
              "      <td>33.401942</td>\n",
              "      <td>2.498934</td>\n",
              "      <td>4.355098</td>\n",
              "      <td>1.913214e+06</td>\n",
              "      <td>1.010481e+06</td>\n",
              "      <td>2.398929e+06</td>\n",
              "      <td>6.078081e+05</td>\n",
              "      <td>6.923649e+04</td>\n",
              "      <td>9.391810e+06</td>\n",
              "      <td>0.947959</td>\n",
              "      <td>39.438203</td>\n",
              "    </tr>\n",
              "    <tr>\n",
              "      <th>min</th>\n",
              "      <td>1.000000</td>\n",
              "      <td>1.000000</td>\n",
              "      <td>-1.000000</td>\n",
              "      <td>0.000000</td>\n",
              "      <td>1.000000</td>\n",
              "      <td>0.000000</td>\n",
              "      <td>0.00000</td>\n",
              "      <td>0.000000</td>\n",
              "      <td>0.000000</td>\n",
              "      <td>0.000000</td>\n",
              "      <td>0.000000</td>\n",
              "      <td>0.000000e+00</td>\n",
              "      <td>0.000000e+00</td>\n",
              "      <td>0.000000e+00</td>\n",
              "      <td>0.000000e+00</td>\n",
              "      <td>1.076390e+01</td>\n",
              "      <td>1.269316e+03</td>\n",
              "      <td>7.146234</td>\n",
              "      <td>1.267994</td>\n",
              "    </tr>\n",
              "    <tr>\n",
              "      <th>25%</th>\n",
              "      <td>5869.250000</td>\n",
              "      <td>4663.250000</td>\n",
              "      <td>77.000000</td>\n",
              "      <td>78.000000</td>\n",
              "      <td>1322.000000</td>\n",
              "      <td>108.000000</td>\n",
              "      <td>42.00000</td>\n",
              "      <td>154.000000</td>\n",
              "      <td>40.000000</td>\n",
              "      <td>0.000000</td>\n",
              "      <td>0.000000</td>\n",
              "      <td>1.820040e+05</td>\n",
              "      <td>6.684000e+04</td>\n",
              "      <td>2.229379e+05</td>\n",
              "      <td>6.455020e+04</td>\n",
              "      <td>1.422988e+04</td>\n",
              "      <td>9.038492e+05</td>\n",
              "      <td>13.714418</td>\n",
              "      <td>52.304750</td>\n",
              "    </tr>\n",
              "    <tr>\n",
              "      <th>50%</th>\n",
              "      <td>11737.500000</td>\n",
              "      <td>9286.500000</td>\n",
              "      <td>95.000000</td>\n",
              "      <td>127.000000</td>\n",
              "      <td>1907.000000</td>\n",
              "      <td>146.000000</td>\n",
              "      <td>58.00000</td>\n",
              "      <td>165.000000</td>\n",
              "      <td>50.000000</td>\n",
              "      <td>0.000000</td>\n",
              "      <td>0.000000</td>\n",
              "      <td>2.990530e+05</td>\n",
              "      <td>1.156260e+05</td>\n",
              "      <td>3.630060e+05</td>\n",
              "      <td>1.106326e+05</td>\n",
              "      <td>2.052676e+04</td>\n",
              "      <td>1.468815e+06</td>\n",
              "      <td>14.199966</td>\n",
              "      <td>66.252684</td>\n",
              "    </tr>\n",
              "    <tr>\n",
              "      <th>75%</th>\n",
              "      <td>17605.750000</td>\n",
              "      <td>13841.750000</td>\n",
              "      <td>116.000000</td>\n",
              "      <td>261.000000</td>\n",
              "      <td>3379.750000</td>\n",
              "      <td>203.000000</td>\n",
              "      <td>92.00000</td>\n",
              "      <td>234.000000</td>\n",
              "      <td>83.000000</td>\n",
              "      <td>0.000000</td>\n",
              "      <td>0.000000</td>\n",
              "      <td>5.754570e+05</td>\n",
              "      <td>2.723235e+05</td>\n",
              "      <td>7.364308e+05</td>\n",
              "      <td>2.431839e+05</td>\n",
              "      <td>3.637929e+04</td>\n",
              "      <td>2.883832e+06</td>\n",
              "      <td>14.874630</td>\n",
              "      <td>91.612562</td>\n",
              "    </tr>\n",
              "    <tr>\n",
              "      <th>max</th>\n",
              "      <td>23474.000000</td>\n",
              "      <td>18480.000000</td>\n",
              "      <td>9999.000000</td>\n",
              "      <td>34439.000000</td>\n",
              "      <td>280912.000000</td>\n",
              "      <td>746.000000</td>\n",
              "      <td>725.00000</td>\n",
              "      <td>1455.000000</td>\n",
              "      <td>337.000000</td>\n",
              "      <td>90.300000</td>\n",
              "      <td>100.000000</td>\n",
              "      <td>9.905038e+07</td>\n",
              "      <td>3.334334e+07</td>\n",
              "      <td>1.123648e+08</td>\n",
              "      <td>2.556299e+07</td>\n",
              "      <td>3.023709e+06</td>\n",
              "      <td>4.322920e+08</td>\n",
              "      <td>19.884612</td>\n",
              "      <td>256.451775</td>\n",
              "    </tr>\n",
              "  </tbody>\n",
              "</table>\n",
              "</div>"
            ],
            "text/plain": [
              "         Unnamed: 0           zip  ...  log_total_site_energy_KBTU  site_eui_KBTUSF\n",
              "count  23474.000000  23474.000000  ...                23474.000000     23474.000000\n",
              "mean   11737.500000   9271.378887  ...                   14.360666        78.028784\n",
              "std     6776.504446   5320.827711  ...                    0.947959        39.438203\n",
              "min        1.000000      1.000000  ...                    7.146234         1.267994\n",
              "25%     5869.250000   4663.250000  ...                   13.714418        52.304750\n",
              "50%    11737.500000   9286.500000  ...                   14.199966        66.252684\n",
              "75%    17605.750000  13841.750000  ...                   14.874630        91.612562\n",
              "max    23474.000000  18480.000000  ...                   19.884612       256.451775\n",
              "\n",
              "[8 rows x 19 columns]"
            ]
          },
          "metadata": {
            "tags": []
          },
          "execution_count": 366
        }
      ]
    },
    {
      "cell_type": "code",
      "metadata": {
        "id": "3EIxqyzHBrp2",
        "colab": {
          "base_uri": "https://localhost:8080/",
          "height": 308
        },
        "outputId": "4b4c4c39-a218-4653-f766-3e3dbe8bb09d"
      },
      "source": [
        "dc.describe()"
      ],
      "execution_count": null,
      "outputs": [
        {
          "output_type": "execute_result",
          "data": {
            "text/html": [
              "<div>\n",
              "<style scoped>\n",
              "    .dataframe tbody tr th:only-of-type {\n",
              "        vertical-align: middle;\n",
              "    }\n",
              "\n",
              "    .dataframe tbody tr th {\n",
              "        vertical-align: top;\n",
              "    }\n",
              "\n",
              "    .dataframe thead th {\n",
              "        text-align: right;\n",
              "    }\n",
              "</style>\n",
              "<table border=\"1\" class=\"dataframe\">\n",
              "  <thead>\n",
              "    <tr style=\"text-align: right;\">\n",
              "      <th></th>\n",
              "      <th>Unnamed: 0</th>\n",
              "      <th>ward</th>\n",
              "      <th>year_built</th>\n",
              "      <th>tax_record_floor_area</th>\n",
              "      <th>reported_gross_floor_area</th>\n",
              "      <th>water_use</th>\n",
              "      <th>electricity_use</th>\n",
              "      <th>natural_gas_use</th>\n",
              "      <th>energy_star_score</th>\n",
              "      <th>site_eui</th>\n",
              "      <th>weather_norm_site_eui</th>\n",
              "      <th>source_eui</th>\n",
              "      <th>weather_norm_source_eui</th>\n",
              "      <th>total_ghg_emissions</th>\n",
              "      <th>total_ghg_emissions_intensity</th>\n",
              "      <th>total_site_energy_KBTU</th>\n",
              "      <th>log_total_site_energy_KBTU</th>\n",
              "    </tr>\n",
              "  </thead>\n",
              "  <tbody>\n",
              "    <tr>\n",
              "      <th>count</th>\n",
              "      <td>1455.000000</td>\n",
              "      <td>1455.000000</td>\n",
              "      <td>1455.000000</td>\n",
              "      <td>1.455000e+03</td>\n",
              "      <td>1.455000e+03</td>\n",
              "      <td>1.455000e+03</td>\n",
              "      <td>1.441000e+03</td>\n",
              "      <td>1.054000e+03</td>\n",
              "      <td>1184.000000</td>\n",
              "      <td>1455.000000</td>\n",
              "      <td>1393.000000</td>\n",
              "      <td>1455.000000</td>\n",
              "      <td>1393.000000</td>\n",
              "      <td>1454.000000</td>\n",
              "      <td>1454.000000</td>\n",
              "      <td>1.455000e+03</td>\n",
              "      <td>1455.000000</td>\n",
              "    </tr>\n",
              "    <tr>\n",
              "      <th>mean</th>\n",
              "      <td>793.997938</td>\n",
              "      <td>3.472852</td>\n",
              "      <td>1940.804811</td>\n",
              "      <td>2.046748e+05</td>\n",
              "      <td>1.897612e+05</td>\n",
              "      <td>5.109905e+04</td>\n",
              "      <td>2.760114e+06</td>\n",
              "      <td>5.853217e+04</td>\n",
              "      <td>62.090372</td>\n",
              "      <td>69.960206</td>\n",
              "      <td>70.745154</td>\n",
              "      <td>171.274433</td>\n",
              "      <td>171.302872</td>\n",
              "      <td>1318.734388</td>\n",
              "      <td>6.674278</td>\n",
              "      <td>1.344870e+07</td>\n",
              "      <td>15.905810</td>\n",
              "    </tr>\n",
              "    <tr>\n",
              "      <th>std</th>\n",
              "      <td>469.582655</td>\n",
              "      <td>2.047691</td>\n",
              "      <td>167.230361</td>\n",
              "      <td>2.451302e+05</td>\n",
              "      <td>2.436786e+05</td>\n",
              "      <td>6.163321e+05</td>\n",
              "      <td>4.599984e+06</td>\n",
              "      <td>2.617060e+05</td>\n",
              "      <td>26.792483</td>\n",
              "      <td>30.676317</td>\n",
              "      <td>31.476591</td>\n",
              "      <td>76.707287</td>\n",
              "      <td>76.884877</td>\n",
              "      <td>2458.471157</td>\n",
              "      <td>3.143349</td>\n",
              "      <td>2.843799e+07</td>\n",
              "      <td>0.991320</td>\n",
              "    </tr>\n",
              "    <tr>\n",
              "      <th>min</th>\n",
              "      <td>1.000000</td>\n",
              "      <td>1.000000</td>\n",
              "      <td>1000.000000</td>\n",
              "      <td>9.171000e+03</td>\n",
              "      <td>9.171000e+03</td>\n",
              "      <td>0.000000e+00</td>\n",
              "      <td>1.785000e+02</td>\n",
              "      <td>0.000000e+00</td>\n",
              "      <td>1.000000</td>\n",
              "      <td>1.100000</td>\n",
              "      <td>1.100000</td>\n",
              "      <td>1.200000</td>\n",
              "      <td>1.200000</td>\n",
              "      <td>3.100000</td>\n",
              "      <td>0.100000</td>\n",
              "      <td>5.729350e+04</td>\n",
              "      <td>10.955942</td>\n",
              "    </tr>\n",
              "    <tr>\n",
              "      <th>25%</th>\n",
              "      <td>380.500000</td>\n",
              "      <td>2.000000</td>\n",
              "      <td>1947.000000</td>\n",
              "      <td>7.164000e+04</td>\n",
              "      <td>7.111750e+04</td>\n",
              "      <td>1.958050e+03</td>\n",
              "      <td>7.435930e+05</td>\n",
              "      <td>1.121760e+04</td>\n",
              "      <td>43.750000</td>\n",
              "      <td>51.600000</td>\n",
              "      <td>51.900000</td>\n",
              "      <td>121.850000</td>\n",
              "      <td>121.600000</td>\n",
              "      <td>400.450000</td>\n",
              "      <td>4.800000</td>\n",
              "      <td>4.513227e+06</td>\n",
              "      <td>15.322523</td>\n",
              "    </tr>\n",
              "    <tr>\n",
              "      <th>50%</th>\n",
              "      <td>794.000000</td>\n",
              "      <td>2.000000</td>\n",
              "      <td>1971.000000</td>\n",
              "      <td>1.287720e+05</td>\n",
              "      <td>1.215530e+05</td>\n",
              "      <td>4.063800e+03</td>\n",
              "      <td>1.612028e+06</td>\n",
              "      <td>2.770698e+04</td>\n",
              "      <td>70.000000</td>\n",
              "      <td>65.900000</td>\n",
              "      <td>66.600000</td>\n",
              "      <td>163.300000</td>\n",
              "      <td>163.400000</td>\n",
              "      <td>757.100000</td>\n",
              "      <td>6.300000</td>\n",
              "      <td>8.156027e+06</td>\n",
              "      <td>15.914268</td>\n",
              "    </tr>\n",
              "    <tr>\n",
              "      <th>75%</th>\n",
              "      <td>1176.500000</td>\n",
              "      <td>5.000000</td>\n",
              "      <td>1994.000000</td>\n",
              "      <td>2.585310e+05</td>\n",
              "      <td>2.372130e+05</td>\n",
              "      <td>7.008700e+03</td>\n",
              "      <td>3.386553e+06</td>\n",
              "      <td>5.154631e+04</td>\n",
              "      <td>84.000000</td>\n",
              "      <td>82.850000</td>\n",
              "      <td>84.500000</td>\n",
              "      <td>206.450000</td>\n",
              "      <td>207.400000</td>\n",
              "      <td>1534.450000</td>\n",
              "      <td>7.800000</td>\n",
              "      <td>1.565570e+07</td>\n",
              "      <td>16.566343</td>\n",
              "    </tr>\n",
              "    <tr>\n",
              "      <th>max</th>\n",
              "      <td>2181.000000</td>\n",
              "      <td>8.000000</td>\n",
              "      <td>2017.000000</td>\n",
              "      <td>3.997572e+06</td>\n",
              "      <td>5.634890e+06</td>\n",
              "      <td>1.929391e+07</td>\n",
              "      <td>1.207430e+08</td>\n",
              "      <td>7.269109e+06</td>\n",
              "      <td>100.000000</td>\n",
              "      <td>213.600000</td>\n",
              "      <td>215.500000</td>\n",
              "      <td>618.600000</td>\n",
              "      <td>620.600000</td>\n",
              "      <td>64992.500000</td>\n",
              "      <td>30.600000</td>\n",
              "      <td>7.832497e+08</td>\n",
              "      <td>20.478962</td>\n",
              "    </tr>\n",
              "  </tbody>\n",
              "</table>\n",
              "</div>"
            ],
            "text/plain": [
              "        Unnamed: 0  ...  log_total_site_energy_KBTU\n",
              "count  1455.000000  ...                 1455.000000\n",
              "mean    793.997938  ...                   15.905810\n",
              "std     469.582655  ...                    0.991320\n",
              "min       1.000000  ...                   10.955942\n",
              "25%     380.500000  ...                   15.322523\n",
              "50%     794.000000  ...                   15.914268\n",
              "75%    1176.500000  ...                   16.566343\n",
              "max    2181.000000  ...                   20.478962\n",
              "\n",
              "[8 rows x 17 columns]"
            ]
          },
          "metadata": {
            "tags": []
          },
          "execution_count": 367
        }
      ]
    },
    {
      "cell_type": "markdown",
      "metadata": {
        "id": "t2N6DSrXXx5z"
      },
      "source": [
        "# Clean the data \n",
        "follow closely the second paragraph of Section 4 DATA. Name each step you do accordingly to the description in the paragraf\n",
        "https://www.researchgate.net/publication/337074109_Examining_the_feasibility_of_using_open_data_to_benchmark_building_energy_usage_in_cities_A_data_science_and_policy_perspective \n",
        "\n",
        "you can also help yourself inspecting the final datasets posted on the github repo but name each action according to the paper narrative: for example, if you drop \"Building ID\" indicate that this is done as part of \n",
        "_We then cleaned the datasets by removing irrelevant building-identifying features (such as\n",
        "address)_, or if dropping a variable with too many missing values _removing features that had missing values for greater than 40% of the buildings in the dataset._"
      ]
    },
    {
      "cell_type": "code",
      "metadata": {
        "id": "IO6lEdWvov3z",
        "colab": {
          "base_uri": "https://localhost:8080/"
        },
        "outputId": "2dadebc4-dc46-40b3-f48c-fecfb926e966"
      },
      "source": [
        "# London\n",
        "# summarize the number of rows with missing values for each column\n",
        "for c in london.columns:\n",
        "  \n",
        "  # count number of rows with missing values\n",
        "  n_miss = london[c].isnull().sum()\n",
        "  perc = n_miss / london.shape[0] * 100\n",
        "  print('%s (%s):  Missing: %d (%.1f%%)' % (c, london[c].dtype, \n",
        "                                                  n_miss, perc))"
      ],
      "execution_count": null,
      "outputs": [
        {
          "output_type": "stream",
          "text": [
            "Unnamed: 0 (int64):  Missing: 0 (0.0%)\n",
            "rrn (object):  Missing: 0 (0.0%)\n",
            "post_town (object):  Missing: 0 (0.0%)\n",
            "county (object):  Missing: 26 (0.1%)\n",
            "zip (int64):  Missing: 0 (0.0%)\n",
            "energy_rating_band (object):  Missing: 0 (0.0%)\n",
            "energy_rating (int64):  Missing: 0 (0.0%)\n",
            "total_CO2_emissions_MT (int64):  Missing: 0 (0.0%)\n",
            "heating_fuel_type (object):  Missing: 1 (0.0%)\n",
            "hvac_type (object):  Missing: 0 (0.0%)\n",
            "floor_area_M2 (float64):  Missing: 0 (0.0%)\n",
            "fuel_eui_KWHM2 (int64):  Missing: 0 (0.0%)\n",
            "electricity_eui_KWHM2 (int64):  Missing: 0 (0.0%)\n",
            "typical_fuel_eui_KWHM2 (int64):  Missing: 0 (0.0%)\n",
            "typical_electricity_eui_KWHM2 (int64):  Missing: 0 (0.0%)\n",
            "renewables_percent_thermal (float64):  Missing: 0 (0.0%)\n",
            "renewables_percent_electrical (float64):  Missing: 0 (0.0%)\n",
            "total_heat_energy_KWH (float64):  Missing: 0 (0.0%)\n",
            "total_electricity_KWH (float64):  Missing: 0 (0.0%)\n",
            "total_heat_energy_typical_KWH (float64):  Missing: 0 (0.0%)\n",
            "total_electricity_typical_KWH (float64):  Missing: 0 (0.0%)\n",
            "floor_area_SF (float64):  Missing: 0 (0.0%)\n",
            "total_site_energy_KBTU (float64):  Missing: 0 (0.0%)\n",
            "log_total_site_energy_KBTU (float64):  Missing: 0 (0.0%)\n",
            "site_eui_KBTUSF (float64):  Missing: 0 (0.0%)\n"
          ],
          "name": "stdout"
        }
      ]
    },
    {
      "cell_type": "code",
      "metadata": {
        "id": "xqfF0ntiIwdu",
        "colab": {
          "base_uri": "https://localhost:8080/"
        },
        "outputId": "67ce0cfe-979a-427f-a4d3-d0ddad77b856"
      },
      "source": [
        "# DC\n",
        "# summarize the number of rows with missing values for each column\n",
        "for c in dc.columns:\n",
        "  \n",
        "  # count number of rows with missing values\n",
        "  n_miss = dc[c].isnull().sum()\n",
        "  perc = n_miss / dc.shape[0] * 100\n",
        "  print('%s (%s):  Missing: %d (%.1f%%)' % (c, dc[c].dtype, \n",
        "                                                  n_miss, perc))"
      ],
      "execution_count": null,
      "outputs": [
        {
          "output_type": "stream",
          "text": [
            "Unnamed: 0 (int64):  Missing: 0 (0.0%)\n",
            "report_status (object):  Missing: 0 (0.0%)\n",
            "ward (int64):  Missing: 0 (0.0%)\n",
            "postal_code (object):  Missing: 0 (0.0%)\n",
            "year_built (int64):  Missing: 0 (0.0%)\n",
            "primary_ptype_self (object):  Missing: 0 (0.0%)\n",
            "primary_ptype_epa (object):  Missing: 0 (0.0%)\n",
            "tax_record_floor_area (float64):  Missing: 0 (0.0%)\n",
            "reported_gross_floor_area (float64):  Missing: 0 (0.0%)\n",
            "water_use (float64):  Missing: 0 (0.0%)\n",
            "metered_areas_energy (object):  Missing: 0 (0.0%)\n",
            "metered_areas_water (object):  Missing: 0 (0.0%)\n",
            "electricity_use (float64):  Missing: 14 (1.0%)\n",
            "natural_gas_use (float64):  Missing: 401 (27.6%)\n",
            "energy_star_score (float64):  Missing: 271 (18.6%)\n",
            "site_eui (float64):  Missing: 0 (0.0%)\n",
            "weather_norm_site_eui (float64):  Missing: 62 (4.3%)\n",
            "source_eui (float64):  Missing: 0 (0.0%)\n",
            "weather_norm_source_eui (float64):  Missing: 62 (4.3%)\n",
            "total_ghg_emissions (float64):  Missing: 1 (0.1%)\n",
            "total_ghg_emissions_intensity (float64):  Missing: 1 (0.1%)\n",
            "total_site_energy_KBTU (float64):  Missing: 0 (0.0%)\n",
            "log_total_site_energy_KBTU (float64):  Missing: 0 (0.0%)\n"
          ],
          "name": "stdout"
        }
      ]
    },
    {
      "cell_type": "markdown",
      "metadata": {
        "id": "FmfvF-TUADBV"
      },
      "source": [
        "# FBB it would have been nice if you commented on this output"
      ]
    },
    {
      "cell_type": "markdown",
      "metadata": {
        "id": "XVD2IKLsZI2x"
      },
      "source": [
        "# transform input features as needed\n",
        "\n",
        "\n",
        "\n",
        "for example replace features with log features. Guide yourself with the text, the final dataset names, and also the code here https://github.com/Urban-Informatics-Lab/Open-Data-Benchmarking/blob/master/Lasso_RandomForest.Rmd"
      ]
    },
    {
      "cell_type": "code",
      "metadata": {
        "id": "zHXJHJGUo76V",
        "colab": {
          "base_uri": "https://localhost:8080/",
          "height": 308
        },
        "outputId": "11508814-65e1-45d3-82ed-be26efd4c4f3"
      },
      "source": [
        "london.describe()"
      ],
      "execution_count": null,
      "outputs": [
        {
          "output_type": "execute_result",
          "data": {
            "text/html": [
              "<div>\n",
              "<style scoped>\n",
              "    .dataframe tbody tr th:only-of-type {\n",
              "        vertical-align: middle;\n",
              "    }\n",
              "\n",
              "    .dataframe tbody tr th {\n",
              "        vertical-align: top;\n",
              "    }\n",
              "\n",
              "    .dataframe thead th {\n",
              "        text-align: right;\n",
              "    }\n",
              "</style>\n",
              "<table border=\"1\" class=\"dataframe\">\n",
              "  <thead>\n",
              "    <tr style=\"text-align: right;\">\n",
              "      <th></th>\n",
              "      <th>Unnamed: 0</th>\n",
              "      <th>zip</th>\n",
              "      <th>energy_rating</th>\n",
              "      <th>total_CO2_emissions_MT</th>\n",
              "      <th>floor_area_M2</th>\n",
              "      <th>fuel_eui_KWHM2</th>\n",
              "      <th>electricity_eui_KWHM2</th>\n",
              "      <th>typical_fuel_eui_KWHM2</th>\n",
              "      <th>typical_electricity_eui_KWHM2</th>\n",
              "      <th>renewables_percent_thermal</th>\n",
              "      <th>renewables_percent_electrical</th>\n",
              "      <th>total_heat_energy_KWH</th>\n",
              "      <th>total_electricity_KWH</th>\n",
              "      <th>total_heat_energy_typical_KWH</th>\n",
              "      <th>total_electricity_typical_KWH</th>\n",
              "      <th>floor_area_SF</th>\n",
              "      <th>total_site_energy_KBTU</th>\n",
              "      <th>log_total_site_energy_KBTU</th>\n",
              "      <th>site_eui_KBTUSF</th>\n",
              "    </tr>\n",
              "  </thead>\n",
              "  <tbody>\n",
              "    <tr>\n",
              "      <th>count</th>\n",
              "      <td>23474.000000</td>\n",
              "      <td>23474.000000</td>\n",
              "      <td>23474.000000</td>\n",
              "      <td>23474.000000</td>\n",
              "      <td>23474.000000</td>\n",
              "      <td>23474.000000</td>\n",
              "      <td>23474.00000</td>\n",
              "      <td>23474.000000</td>\n",
              "      <td>23474.000000</td>\n",
              "      <td>23474.000000</td>\n",
              "      <td>23474.000000</td>\n",
              "      <td>2.347400e+04</td>\n",
              "      <td>2.347400e+04</td>\n",
              "      <td>2.347400e+04</td>\n",
              "      <td>2.347400e+04</td>\n",
              "      <td>2.347400e+04</td>\n",
              "      <td>2.347400e+04</td>\n",
              "      <td>23474.000000</td>\n",
              "      <td>23474.000000</td>\n",
              "    </tr>\n",
              "    <tr>\n",
              "      <th>mean</th>\n",
              "      <td>11737.500000</td>\n",
              "      <td>9271.378887</td>\n",
              "      <td>134.872966</td>\n",
              "      <td>304.372029</td>\n",
              "      <td>3448.422946</td>\n",
              "      <td>169.854861</td>\n",
              "      <td>76.29390</td>\n",
              "      <td>212.057638</td>\n",
              "      <td>65.405129</td>\n",
              "      <td>0.157949</td>\n",
              "      <td>0.424793</td>\n",
              "      <td>6.236950e+05</td>\n",
              "      <td>3.293685e+05</td>\n",
              "      <td>8.143107e+05</td>\n",
              "      <td>2.552551e+05</td>\n",
              "      <td>3.711848e+04</td>\n",
              "      <td>3.251986e+06</td>\n",
              "      <td>14.360666</td>\n",
              "      <td>78.028784</td>\n",
              "    </tr>\n",
              "    <tr>\n",
              "      <th>std</th>\n",
              "      <td>6776.504446</td>\n",
              "      <td>5320.827711</td>\n",
              "      <td>581.743761</td>\n",
              "      <td>882.967259</td>\n",
              "      <td>6432.287065</td>\n",
              "      <td>100.733843</td>\n",
              "      <td>55.41504</td>\n",
              "      <td>116.658846</td>\n",
              "      <td>33.401942</td>\n",
              "      <td>2.498934</td>\n",
              "      <td>4.355098</td>\n",
              "      <td>1.913214e+06</td>\n",
              "      <td>1.010481e+06</td>\n",
              "      <td>2.398929e+06</td>\n",
              "      <td>6.078081e+05</td>\n",
              "      <td>6.923649e+04</td>\n",
              "      <td>9.391810e+06</td>\n",
              "      <td>0.947959</td>\n",
              "      <td>39.438203</td>\n",
              "    </tr>\n",
              "    <tr>\n",
              "      <th>min</th>\n",
              "      <td>1.000000</td>\n",
              "      <td>1.000000</td>\n",
              "      <td>-1.000000</td>\n",
              "      <td>0.000000</td>\n",
              "      <td>1.000000</td>\n",
              "      <td>0.000000</td>\n",
              "      <td>0.00000</td>\n",
              "      <td>0.000000</td>\n",
              "      <td>0.000000</td>\n",
              "      <td>0.000000</td>\n",
              "      <td>0.000000</td>\n",
              "      <td>0.000000e+00</td>\n",
              "      <td>0.000000e+00</td>\n",
              "      <td>0.000000e+00</td>\n",
              "      <td>0.000000e+00</td>\n",
              "      <td>1.076390e+01</td>\n",
              "      <td>1.269316e+03</td>\n",
              "      <td>7.146234</td>\n",
              "      <td>1.267994</td>\n",
              "    </tr>\n",
              "    <tr>\n",
              "      <th>25%</th>\n",
              "      <td>5869.250000</td>\n",
              "      <td>4663.250000</td>\n",
              "      <td>77.000000</td>\n",
              "      <td>78.000000</td>\n",
              "      <td>1322.000000</td>\n",
              "      <td>108.000000</td>\n",
              "      <td>42.00000</td>\n",
              "      <td>154.000000</td>\n",
              "      <td>40.000000</td>\n",
              "      <td>0.000000</td>\n",
              "      <td>0.000000</td>\n",
              "      <td>1.820040e+05</td>\n",
              "      <td>6.684000e+04</td>\n",
              "      <td>2.229379e+05</td>\n",
              "      <td>6.455020e+04</td>\n",
              "      <td>1.422988e+04</td>\n",
              "      <td>9.038492e+05</td>\n",
              "      <td>13.714418</td>\n",
              "      <td>52.304750</td>\n",
              "    </tr>\n",
              "    <tr>\n",
              "      <th>50%</th>\n",
              "      <td>11737.500000</td>\n",
              "      <td>9286.500000</td>\n",
              "      <td>95.000000</td>\n",
              "      <td>127.000000</td>\n",
              "      <td>1907.000000</td>\n",
              "      <td>146.000000</td>\n",
              "      <td>58.00000</td>\n",
              "      <td>165.000000</td>\n",
              "      <td>50.000000</td>\n",
              "      <td>0.000000</td>\n",
              "      <td>0.000000</td>\n",
              "      <td>2.990530e+05</td>\n",
              "      <td>1.156260e+05</td>\n",
              "      <td>3.630060e+05</td>\n",
              "      <td>1.106326e+05</td>\n",
              "      <td>2.052676e+04</td>\n",
              "      <td>1.468815e+06</td>\n",
              "      <td>14.199966</td>\n",
              "      <td>66.252684</td>\n",
              "    </tr>\n",
              "    <tr>\n",
              "      <th>75%</th>\n",
              "      <td>17605.750000</td>\n",
              "      <td>13841.750000</td>\n",
              "      <td>116.000000</td>\n",
              "      <td>261.000000</td>\n",
              "      <td>3379.750000</td>\n",
              "      <td>203.000000</td>\n",
              "      <td>92.00000</td>\n",
              "      <td>234.000000</td>\n",
              "      <td>83.000000</td>\n",
              "      <td>0.000000</td>\n",
              "      <td>0.000000</td>\n",
              "      <td>5.754570e+05</td>\n",
              "      <td>2.723235e+05</td>\n",
              "      <td>7.364308e+05</td>\n",
              "      <td>2.431839e+05</td>\n",
              "      <td>3.637929e+04</td>\n",
              "      <td>2.883832e+06</td>\n",
              "      <td>14.874630</td>\n",
              "      <td>91.612562</td>\n",
              "    </tr>\n",
              "    <tr>\n",
              "      <th>max</th>\n",
              "      <td>23474.000000</td>\n",
              "      <td>18480.000000</td>\n",
              "      <td>9999.000000</td>\n",
              "      <td>34439.000000</td>\n",
              "      <td>280912.000000</td>\n",
              "      <td>746.000000</td>\n",
              "      <td>725.00000</td>\n",
              "      <td>1455.000000</td>\n",
              "      <td>337.000000</td>\n",
              "      <td>90.300000</td>\n",
              "      <td>100.000000</td>\n",
              "      <td>9.905038e+07</td>\n",
              "      <td>3.334334e+07</td>\n",
              "      <td>1.123648e+08</td>\n",
              "      <td>2.556299e+07</td>\n",
              "      <td>3.023709e+06</td>\n",
              "      <td>4.322920e+08</td>\n",
              "      <td>19.884612</td>\n",
              "      <td>256.451775</td>\n",
              "    </tr>\n",
              "  </tbody>\n",
              "</table>\n",
              "</div>"
            ],
            "text/plain": [
              "         Unnamed: 0           zip  ...  log_total_site_energy_KBTU  site_eui_KBTUSF\n",
              "count  23474.000000  23474.000000  ...                23474.000000     23474.000000\n",
              "mean   11737.500000   9271.378887  ...                   14.360666        78.028784\n",
              "std     6776.504446   5320.827711  ...                    0.947959        39.438203\n",
              "min        1.000000      1.000000  ...                    7.146234         1.267994\n",
              "25%     5869.250000   4663.250000  ...                   13.714418        52.304750\n",
              "50%    11737.500000   9286.500000  ...                   14.199966        66.252684\n",
              "75%    17605.750000  13841.750000  ...                   14.874630        91.612562\n",
              "max    23474.000000  18480.000000  ...                   19.884612       256.451775\n",
              "\n",
              "[8 rows x 19 columns]"
            ]
          },
          "metadata": {
            "tags": []
          },
          "execution_count": 370
        }
      ]
    },
    {
      "cell_type": "code",
      "metadata": {
        "id": "vPN7377zLukX",
        "colab": {
          "base_uri": "https://localhost:8080/",
          "height": 308
        },
        "outputId": "1a8540dd-abfa-4871-dc66-09f1cbe1565b"
      },
      "source": [
        "dc.describe()"
      ],
      "execution_count": null,
      "outputs": [
        {
          "output_type": "execute_result",
          "data": {
            "text/html": [
              "<div>\n",
              "<style scoped>\n",
              "    .dataframe tbody tr th:only-of-type {\n",
              "        vertical-align: middle;\n",
              "    }\n",
              "\n",
              "    .dataframe tbody tr th {\n",
              "        vertical-align: top;\n",
              "    }\n",
              "\n",
              "    .dataframe thead th {\n",
              "        text-align: right;\n",
              "    }\n",
              "</style>\n",
              "<table border=\"1\" class=\"dataframe\">\n",
              "  <thead>\n",
              "    <tr style=\"text-align: right;\">\n",
              "      <th></th>\n",
              "      <th>Unnamed: 0</th>\n",
              "      <th>ward</th>\n",
              "      <th>year_built</th>\n",
              "      <th>tax_record_floor_area</th>\n",
              "      <th>reported_gross_floor_area</th>\n",
              "      <th>water_use</th>\n",
              "      <th>electricity_use</th>\n",
              "      <th>natural_gas_use</th>\n",
              "      <th>energy_star_score</th>\n",
              "      <th>site_eui</th>\n",
              "      <th>weather_norm_site_eui</th>\n",
              "      <th>source_eui</th>\n",
              "      <th>weather_norm_source_eui</th>\n",
              "      <th>total_ghg_emissions</th>\n",
              "      <th>total_ghg_emissions_intensity</th>\n",
              "      <th>total_site_energy_KBTU</th>\n",
              "      <th>log_total_site_energy_KBTU</th>\n",
              "    </tr>\n",
              "  </thead>\n",
              "  <tbody>\n",
              "    <tr>\n",
              "      <th>count</th>\n",
              "      <td>1455.000000</td>\n",
              "      <td>1455.000000</td>\n",
              "      <td>1455.000000</td>\n",
              "      <td>1.455000e+03</td>\n",
              "      <td>1.455000e+03</td>\n",
              "      <td>1.455000e+03</td>\n",
              "      <td>1.441000e+03</td>\n",
              "      <td>1.054000e+03</td>\n",
              "      <td>1184.000000</td>\n",
              "      <td>1455.000000</td>\n",
              "      <td>1393.000000</td>\n",
              "      <td>1455.000000</td>\n",
              "      <td>1393.000000</td>\n",
              "      <td>1454.000000</td>\n",
              "      <td>1454.000000</td>\n",
              "      <td>1.455000e+03</td>\n",
              "      <td>1455.000000</td>\n",
              "    </tr>\n",
              "    <tr>\n",
              "      <th>mean</th>\n",
              "      <td>793.997938</td>\n",
              "      <td>3.472852</td>\n",
              "      <td>1940.804811</td>\n",
              "      <td>2.046748e+05</td>\n",
              "      <td>1.897612e+05</td>\n",
              "      <td>5.109905e+04</td>\n",
              "      <td>2.760114e+06</td>\n",
              "      <td>5.853217e+04</td>\n",
              "      <td>62.090372</td>\n",
              "      <td>69.960206</td>\n",
              "      <td>70.745154</td>\n",
              "      <td>171.274433</td>\n",
              "      <td>171.302872</td>\n",
              "      <td>1318.734388</td>\n",
              "      <td>6.674278</td>\n",
              "      <td>1.344870e+07</td>\n",
              "      <td>15.905810</td>\n",
              "    </tr>\n",
              "    <tr>\n",
              "      <th>std</th>\n",
              "      <td>469.582655</td>\n",
              "      <td>2.047691</td>\n",
              "      <td>167.230361</td>\n",
              "      <td>2.451302e+05</td>\n",
              "      <td>2.436786e+05</td>\n",
              "      <td>6.163321e+05</td>\n",
              "      <td>4.599984e+06</td>\n",
              "      <td>2.617060e+05</td>\n",
              "      <td>26.792483</td>\n",
              "      <td>30.676317</td>\n",
              "      <td>31.476591</td>\n",
              "      <td>76.707287</td>\n",
              "      <td>76.884877</td>\n",
              "      <td>2458.471157</td>\n",
              "      <td>3.143349</td>\n",
              "      <td>2.843799e+07</td>\n",
              "      <td>0.991320</td>\n",
              "    </tr>\n",
              "    <tr>\n",
              "      <th>min</th>\n",
              "      <td>1.000000</td>\n",
              "      <td>1.000000</td>\n",
              "      <td>1000.000000</td>\n",
              "      <td>9.171000e+03</td>\n",
              "      <td>9.171000e+03</td>\n",
              "      <td>0.000000e+00</td>\n",
              "      <td>1.785000e+02</td>\n",
              "      <td>0.000000e+00</td>\n",
              "      <td>1.000000</td>\n",
              "      <td>1.100000</td>\n",
              "      <td>1.100000</td>\n",
              "      <td>1.200000</td>\n",
              "      <td>1.200000</td>\n",
              "      <td>3.100000</td>\n",
              "      <td>0.100000</td>\n",
              "      <td>5.729350e+04</td>\n",
              "      <td>10.955942</td>\n",
              "    </tr>\n",
              "    <tr>\n",
              "      <th>25%</th>\n",
              "      <td>380.500000</td>\n",
              "      <td>2.000000</td>\n",
              "      <td>1947.000000</td>\n",
              "      <td>7.164000e+04</td>\n",
              "      <td>7.111750e+04</td>\n",
              "      <td>1.958050e+03</td>\n",
              "      <td>7.435930e+05</td>\n",
              "      <td>1.121760e+04</td>\n",
              "      <td>43.750000</td>\n",
              "      <td>51.600000</td>\n",
              "      <td>51.900000</td>\n",
              "      <td>121.850000</td>\n",
              "      <td>121.600000</td>\n",
              "      <td>400.450000</td>\n",
              "      <td>4.800000</td>\n",
              "      <td>4.513227e+06</td>\n",
              "      <td>15.322523</td>\n",
              "    </tr>\n",
              "    <tr>\n",
              "      <th>50%</th>\n",
              "      <td>794.000000</td>\n",
              "      <td>2.000000</td>\n",
              "      <td>1971.000000</td>\n",
              "      <td>1.287720e+05</td>\n",
              "      <td>1.215530e+05</td>\n",
              "      <td>4.063800e+03</td>\n",
              "      <td>1.612028e+06</td>\n",
              "      <td>2.770698e+04</td>\n",
              "      <td>70.000000</td>\n",
              "      <td>65.900000</td>\n",
              "      <td>66.600000</td>\n",
              "      <td>163.300000</td>\n",
              "      <td>163.400000</td>\n",
              "      <td>757.100000</td>\n",
              "      <td>6.300000</td>\n",
              "      <td>8.156027e+06</td>\n",
              "      <td>15.914268</td>\n",
              "    </tr>\n",
              "    <tr>\n",
              "      <th>75%</th>\n",
              "      <td>1176.500000</td>\n",
              "      <td>5.000000</td>\n",
              "      <td>1994.000000</td>\n",
              "      <td>2.585310e+05</td>\n",
              "      <td>2.372130e+05</td>\n",
              "      <td>7.008700e+03</td>\n",
              "      <td>3.386553e+06</td>\n",
              "      <td>5.154631e+04</td>\n",
              "      <td>84.000000</td>\n",
              "      <td>82.850000</td>\n",
              "      <td>84.500000</td>\n",
              "      <td>206.450000</td>\n",
              "      <td>207.400000</td>\n",
              "      <td>1534.450000</td>\n",
              "      <td>7.800000</td>\n",
              "      <td>1.565570e+07</td>\n",
              "      <td>16.566343</td>\n",
              "    </tr>\n",
              "    <tr>\n",
              "      <th>max</th>\n",
              "      <td>2181.000000</td>\n",
              "      <td>8.000000</td>\n",
              "      <td>2017.000000</td>\n",
              "      <td>3.997572e+06</td>\n",
              "      <td>5.634890e+06</td>\n",
              "      <td>1.929391e+07</td>\n",
              "      <td>1.207430e+08</td>\n",
              "      <td>7.269109e+06</td>\n",
              "      <td>100.000000</td>\n",
              "      <td>213.600000</td>\n",
              "      <td>215.500000</td>\n",
              "      <td>618.600000</td>\n",
              "      <td>620.600000</td>\n",
              "      <td>64992.500000</td>\n",
              "      <td>30.600000</td>\n",
              "      <td>7.832497e+08</td>\n",
              "      <td>20.478962</td>\n",
              "    </tr>\n",
              "  </tbody>\n",
              "</table>\n",
              "</div>"
            ],
            "text/plain": [
              "        Unnamed: 0  ...  log_total_site_energy_KBTU\n",
              "count  1455.000000  ...                 1455.000000\n",
              "mean    793.997938  ...                   15.905810\n",
              "std     469.582655  ...                    0.991320\n",
              "min       1.000000  ...                   10.955942\n",
              "25%     380.500000  ...                   15.322523\n",
              "50%     794.000000  ...                   15.914268\n",
              "75%    1176.500000  ...                   16.566343\n",
              "max    2181.000000  ...                   20.478962\n",
              "\n",
              "[8 rows x 17 columns]"
            ]
          },
          "metadata": {
            "tags": []
          },
          "execution_count": 371
        }
      ]
    },
    {
      "cell_type": "markdown",
      "metadata": {
        "id": "Da-93SxbMFCX"
      },
      "source": [
        "check what happened to missing values, fix infinities replacing them with 0 as done in https://github.com/Urban-Informatics-Lab/Open-Data-Benchmarking/blob/master/Lasso_RandomForest.Rmd"
      ]
    },
    {
      "cell_type": "code",
      "metadata": {
        "id": "Q_lYiK-xo-qm",
        "colab": {
          "base_uri": "https://localhost:8080/"
        },
        "outputId": "87703989-5350-441d-9922-5a52d95f91b9"
      },
      "source": [
        "# London\n",
        "\n",
        "# Find \"0\" values\n",
        "london[london[\"typical_fuel_eui_KWHM2\"] == 0]\n",
        "london[london[\"typical_electricity_eui_KWHM2\"] == 0]\n",
        "\n",
        "# Erase \"0\"rows\n",
        "london = london[london[\"typical_fuel_eui_KWHM2\"] != 0]\n",
        "london = london[london[\"typical_electricity_eui_KWHM2\"] != 0]\n",
        "\n",
        "# Set freatures  \n",
        "# Reference: https://github.com/Urban-Informatics-Lab/Open-Data-Benchmarking/blob/master/Lasso_RandomForest.Rmd\n",
        "lcols = [\"heating_fuel_type\",\"hvac_type\",\"typical_fuel_eui_KWHM2\",\"typical_electricity_eui_KWHM2\",\"floor_area_SF\"]\n",
        "london_features = london[lcols]\n",
        "london_features\n",
        "\n",
        "# Check number of rows, number of columns\n",
        "print(london_features.shape)\n",
        "\n",
        "# Add log values in the columns\n",
        "london_features[\"log_typical_fuel_eui_KWHM2\"] = np.log10(london_features[\"typical_fuel_eui_KWHM2\"])\n",
        "london_features[\"log_typical_electricity_eui_KWHM2\"] = np.log10(london_features[\"typical_electricity_eui_KWHM2\"])\n",
        "london_features[\"log_floor_area_SF\"] = np.log10(london_features[\"floor_area_SF\"])"
      ],
      "execution_count": null,
      "outputs": [
        {
          "output_type": "stream",
          "text": [
            "(23153, 5)\n"
          ],
          "name": "stdout"
        },
        {
          "output_type": "stream",
          "text": [
            "/usr/local/lib/python3.6/dist-packages/ipykernel_launcher.py:21: SettingWithCopyWarning: \n",
            "A value is trying to be set on a copy of a slice from a DataFrame.\n",
            "Try using .loc[row_indexer,col_indexer] = value instead\n",
            "\n",
            "See the caveats in the documentation: https://pandas.pydata.org/pandas-docs/stable/user_guide/indexing.html#returning-a-view-versus-a-copy\n",
            "/usr/local/lib/python3.6/dist-packages/ipykernel_launcher.py:22: SettingWithCopyWarning: \n",
            "A value is trying to be set on a copy of a slice from a DataFrame.\n",
            "Try using .loc[row_indexer,col_indexer] = value instead\n",
            "\n",
            "See the caveats in the documentation: https://pandas.pydata.org/pandas-docs/stable/user_guide/indexing.html#returning-a-view-versus-a-copy\n",
            "/usr/local/lib/python3.6/dist-packages/ipykernel_launcher.py:23: SettingWithCopyWarning: \n",
            "A value is trying to be set on a copy of a slice from a DataFrame.\n",
            "Try using .loc[row_indexer,col_indexer] = value instead\n",
            "\n",
            "See the caveats in the documentation: https://pandas.pydata.org/pandas-docs/stable/user_guide/indexing.html#returning-a-view-versus-a-copy\n"
          ],
          "name": "stderr"
        }
      ]
    },
    {
      "cell_type": "code",
      "metadata": {
        "id": "9g5FmHuCqldJ",
        "colab": {
          "base_uri": "https://localhost:8080/"
        },
        "outputId": "c5a4ade2-3829-4839-a97f-294a63470ae1"
      },
      "source": [
        "# DC\n",
        "\n",
        "# Find \"0\" values\n",
        "dc[dc[\"water_use\"] == 0]\n",
        "\n",
        "# Erase \"0\"rows\n",
        "dc = dc[dc[\"water_use\"] != 0]\n",
        "\n",
        "# Set freatures  \n",
        "# Reference: https://github.com/Urban-Informatics-Lab/Open-Data-Benchmarking/blob/master/Lasso_RandomForest.Rmd\n",
        "dcols = [\"report_status\",\"ward\",\"postal_code\",\"year_built\",\"primary_ptype_self\",\"primary_ptype_epa\",\"tax_record_floor_area\",\"reported_gross_floor_area\",\"water_use\",\"metered_areas_energy\",\"metered_areas_water\"]\n",
        "DC_features = dc[dcols]\n",
        "DC_features\n",
        "\n",
        "# Check number of rows, number of columns\n",
        "print(DC_features.shape)\n",
        "\n",
        "# Add log values in the columns\n",
        "DC_features[\"log_tax_record_floor_area\"] = np.log10(DC_features[\"tax_record_floor_area\"])\n",
        "DC_features[\"log_reported_gross_floor_area\"] = np.log10(DC_features[\"reported_gross_floor_area\"])\n",
        "DC_features[\"log_water_use\"] = np.log10(DC_features[\"water_use\"])"
      ],
      "execution_count": null,
      "outputs": [
        {
          "output_type": "stream",
          "text": [
            "(1453, 11)\n"
          ],
          "name": "stdout"
        },
        {
          "output_type": "stream",
          "text": [
            "/usr/local/lib/python3.6/dist-packages/ipykernel_launcher.py:19: SettingWithCopyWarning: \n",
            "A value is trying to be set on a copy of a slice from a DataFrame.\n",
            "Try using .loc[row_indexer,col_indexer] = value instead\n",
            "\n",
            "See the caveats in the documentation: https://pandas.pydata.org/pandas-docs/stable/user_guide/indexing.html#returning-a-view-versus-a-copy\n",
            "/usr/local/lib/python3.6/dist-packages/ipykernel_launcher.py:20: SettingWithCopyWarning: \n",
            "A value is trying to be set on a copy of a slice from a DataFrame.\n",
            "Try using .loc[row_indexer,col_indexer] = value instead\n",
            "\n",
            "See the caveats in the documentation: https://pandas.pydata.org/pandas-docs/stable/user_guide/indexing.html#returning-a-view-versus-a-copy\n",
            "/usr/local/lib/python3.6/dist-packages/ipykernel_launcher.py:21: SettingWithCopyWarning: \n",
            "A value is trying to be set on a copy of a slice from a DataFrame.\n",
            "Try using .loc[row_indexer,col_indexer] = value instead\n",
            "\n",
            "See the caveats in the documentation: https://pandas.pydata.org/pandas-docs/stable/user_guide/indexing.html#returning-a-view-versus-a-copy\n"
          ],
          "name": "stderr"
        }
      ]
    },
    {
      "cell_type": "markdown",
      "metadata": {
        "id": "-sBOK8fnAZLL"
      },
      "source": [
        "# FBB what happened to the missing values? did you have any? did they have to be replaced? did the log transformation cause more missing values? ... i did ask to \"check it\""
      ]
    },
    {
      "cell_type": "markdown",
      "metadata": {
        "id": "iNbDz-98ZvkM"
      },
      "source": [
        "# separate categorical and numerical values\n",
        "you will proceed to missing data imputation differently in the 2 cases"
      ]
    },
    {
      "cell_type": "code",
      "metadata": {
        "id": "nGeIcC-YrdV0",
        "colab": {
          "base_uri": "https://localhost:8080/"
        },
        "outputId": "67567193-be9f-4e64-f25f-174e75771af7"
      },
      "source": [
        "# London\n",
        "\n",
        "# Separate dataframes to categorical and numerical datavalues \n",
        "london_features_cat = london_features[[\"heating_fuel_type\",\"hvac_type\"]].fillna(\"None\") #categorical values: 2\n",
        "london_features_num = london_features[[\"typical_fuel_eui_KWHM2\",\n",
        "                                       \"typical_electricity_eui_KWHM2\",\"floor_area_SF\"]] # numerical values : 3\n",
        "\n",
        "# Set Y values \n",
        "london_y = london[\"log_total_site_energy_KBTU\"]\n",
        "print(pd.qcut(london_y, [0, .25, .5, .75, 1.]).astype('category'))"
      ],
      "execution_count": null,
      "outputs": [
        {
          "output_type": "stream",
          "text": [
            "0          (13.713, 14.2]\n",
            "1          (14.2, 14.879]\n",
            "2          (13.713, 14.2]\n",
            "3          (13.713, 14.2]\n",
            "4         (7.145, 13.713]\n",
            "               ...       \n",
            "23469      (14.2, 14.879]\n",
            "23470      (13.713, 14.2]\n",
            "23471      (14.2, 14.879]\n",
            "23472    (14.879, 19.885]\n",
            "23473    (14.879, 19.885]\n",
            "Name: log_total_site_energy_KBTU, Length: 23153, dtype: category\n",
            "Categories (4, interval[float64]): [(7.145, 13.713] < (13.713, 14.2] < (14.2, 14.879] <\n",
            "                                    (14.879, 19.885]]\n"
          ],
          "name": "stdout"
        }
      ]
    },
    {
      "cell_type": "code",
      "metadata": {
        "id": "X5NAi1SdNx1h",
        "colab": {
          "base_uri": "https://localhost:8080/"
        },
        "outputId": "ed3efbf2-75a3-4603-b271-00c36573ca61"
      },
      "source": [
        "# DC\n",
        "\n",
        "# Separate dataframes to categorical and numerical datavalues \n",
        "DC_features_cat = DC_features[[\"report_status\",\"ward\",\"postal_code\",\"year_built\",\n",
        "                               \"primary_ptype_self\",\"primary_ptype_epa\",\"metered_areas_energy\",\n",
        "                               \"metered_areas_water\"]].fillna(\"None\") #categorical values: 8\n",
        "DC_features_num = DC_features[[\"log_tax_record_floor_area\", \"log_reported_gross_floor_area\", \n",
        "                               \"log_water_use\"]] # numerical values : 3\n",
        "\n",
        "# Set Y values \n",
        "dc[\"log_total_site_energy_KBTU\"] = np.log10(dc[\"total_site_energy_KBTU\"]).values\n",
        "DC_y = dc[\"log_total_site_energy_KBTU\"]\n",
        "print(pd.qcut(DC_y, [0, .25, .5, .75, 1.]).astype('category'))"
      ],
      "execution_count": null,
      "outputs": [
        {
          "output_type": "stream",
          "text": [
            "0       (6.655, 6.913]\n",
            "1       (7.196, 8.894]\n",
            "2       (7.196, 8.894]\n",
            "3       (6.913, 7.196]\n",
            "4       (7.196, 8.894]\n",
            "             ...      \n",
            "1450    (4.757, 6.655]\n",
            "1451    (6.655, 6.913]\n",
            "1452    (6.913, 7.196]\n",
            "1453    (4.757, 6.655]\n",
            "1454    (4.757, 6.655]\n",
            "Name: log_total_site_energy_KBTU, Length: 1453, dtype: category\n",
            "Categories (4, interval[float64]): [(4.757, 6.655] < (6.655, 6.913] < (6.913, 7.196] < (7.196, 8.894]]\n"
          ],
          "name": "stdout"
        }
      ]
    },
    {
      "cell_type": "markdown",
      "metadata": {
        "id": "dfQnS9eVZ7A4"
      },
      "source": [
        "# use Nearest Neighbor Imputer to impute missing values in numerical features\n",
        "\n",
        "here we are deviating from the paper. NN imputation is simpler and more common, I think it may be more useful to you in general"
      ]
    },
    {
      "cell_type": "code",
      "metadata": {
        "id": "7cnC0McUMlpu"
      },
      "source": [
        "from sklearn.impute import KNNImputer\n",
        "\n",
        "# define imputer\n",
        "imputer = KNNImputer(n_neighbors=5, weights='uniform', metric='nan_euclidean')"
      ],
      "execution_count": null,
      "outputs": []
    },
    {
      "cell_type": "code",
      "metadata": {
        "id": "7UZfkd8Yr7pI",
        "colab": {
          "base_uri": "https://localhost:8080/"
        },
        "outputId": "5d4f2960-a5ec-4f95-eac4-51f7d2e23996"
      },
      "source": [
        "# London\n",
        "\n",
        "# fit on the dataset\n",
        "london_features_num = london_features_num.astype(float).replace([np.inf, -np.inf], np.nan).dropna()\n",
        "imputer.fit(london_features_num)\n",
        "# transform the dataset\n",
        "imputer.transform(london_features_num)\n",
        "london_X1 = imputer.transform(london_features_num)\n",
        "london_X1.shape"
      ],
      "execution_count": null,
      "outputs": [
        {
          "output_type": "execute_result",
          "data": {
            "text/plain": [
              "(23153, 3)"
            ]
          },
          "metadata": {
            "tags": []
          },
          "execution_count": 377
        }
      ]
    },
    {
      "cell_type": "code",
      "metadata": {
        "id": "gNLiSt1fOCz4",
        "colab": {
          "base_uri": "https://localhost:8080/"
        },
        "outputId": "08d22403-68dd-4f8f-9e8f-f964fd700c89"
      },
      "source": [
        "# DC\n",
        "\n",
        "# fit on the dataset\n",
        "DC_features_num = DC_features_num.astype(float).replace([np.inf, -np.inf], np.nan).dropna()\n",
        "imputer.fit(DC_features_num)\n",
        "# transform the dataset\n",
        "imputer.transform(DC_features_num)\n",
        "DC_X1 = imputer.transform(DC_features_num)\n",
        "DC_X1.shape"
      ],
      "execution_count": null,
      "outputs": [
        {
          "output_type": "execute_result",
          "data": {
            "text/plain": [
              "(1453, 3)"
            ]
          },
          "metadata": {
            "tags": []
          },
          "execution_count": 378
        }
      ]
    },
    {
      "cell_type": "markdown",
      "metadata": {
        "id": "mW5GNpU0aFIO"
      },
      "source": [
        "# convert categorical variables to one-hot-encoded \n",
        "you will have to remove Nan values and replace them. You can choose to replace them with \"None\" or a similar string, for which you can use the fillna method: ```df.fillna(\"None\")``` and leave it at that or with a little more effort you can input values based on nearest neighbors or some other inputation scheme. any choice goes so long as it is well described and justified with words."
      ]
    },
    {
      "cell_type": "code",
      "metadata": {
        "id": "BJoES_oBQBIl"
      },
      "source": [
        "from sklearn.preprocessing import OneHotEncoder"
      ],
      "execution_count": null,
      "outputs": []
    },
    {
      "cell_type": "code",
      "metadata": {
        "id": "DLrR0qhVsMtd",
        "colab": {
          "base_uri": "https://localhost:8080/"
        },
        "outputId": "e747f950-c296-4aed-c7ce-a50625ec354e"
      },
      "source": [
        "# London\n",
        "london[[\"heating_fuel_type\",\"hvac_type\",\"typical_fuel_eui_KWHM2\",\"typical_electricity_eui_KWHM2\",\"floor_area_SF\"]].fillna(\"None\")\n",
        "\n",
        "london_features_cat = london_features[[\"heating_fuel_type\",\"hvac_type\"]].fillna(\"None\")\n",
        "\n",
        "london_enc = OneHotEncoder(handle_unknown='ignore')\n",
        "london_enc.fit(london_features_cat)\n",
        "london_X2 = london_enc.transform(london_features_cat).toarray()\n",
        "print(london_X2.shape)\n",
        "london_enc.categories_"
      ],
      "execution_count": null,
      "outputs": [
        {
          "output_type": "stream",
          "text": [
            "(23153, 18)\n"
          ],
          "name": "stdout"
        },
        {
          "output_type": "execute_result",
          "data": {
            "text/plain": [
              "[array(['Anthracite', 'Biogas', 'Biomass', 'Coal', 'District Heating',\n",
              "        'Grid Supplied Electricity', 'LPG', 'Natural Gas', 'None', 'Oil',\n",
              "        'Other'], dtype=object),\n",
              " array(['Air Conditioning', 'Heating and Mechanical Ventilation',\n",
              "        'Heating and Natural Ventilation', 'Mechanical Ventilation Only',\n",
              "        'Mixed-mode with Mechanical Ventilation',\n",
              "        'Mixed-mode with Natural Ventilation', 'Natural Ventilation Only'],\n",
              "       dtype=object)]"
            ]
          },
          "metadata": {
            "tags": []
          },
          "execution_count": 380
        }
      ]
    },
    {
      "cell_type": "code",
      "metadata": {
        "id": "OQX6WaEYmAv7",
        "colab": {
          "base_uri": "https://localhost:8080/"
        },
        "outputId": "e5a83ff9-eee5-4c3b-e282-3e5a24519377"
      },
      "source": [
        "# DC\n",
        "dc = dc[[\"report_status\",\"ward\",\"postal_code\",\"year_built\",\"primary_ptype_self\",\"primary_ptype_epa\",\n",
        "    \"tax_record_floor_area\",\"reported_gross_floor_area\",\"water_use\",\"metered_areas_energy\",\"metered_areas_water\", \"log_total_site_energy_KBTU\"]].fillna(\"None\")\n",
        "\n",
        "DC_features_cat = DC_features[[\"report_status\",\"ward\",\"postal_code\",\"year_built\",\n",
        "                               \"primary_ptype_self\",\"primary_ptype_epa\",\"metered_areas_energy\",\n",
        "                               \"metered_areas_water\"]].fillna(\"None\")\n",
        "\n",
        "DC_enc = OneHotEncoder(handle_unknown='ignore')\n",
        "DC_enc.fit(DC_features_cat)\n",
        "DC_X2 = DC_enc.transform(DC_features_cat).toarray()\n",
        "print(DC_X2.shape)\n",
        "DC_enc.categories_"
      ],
      "execution_count": null,
      "outputs": [
        {
          "output_type": "stream",
          "text": [
            "(1453, 296)\n"
          ],
          "name": "stdout"
        },
        {
          "output_type": "execute_result",
          "data": {
            "text/plain": [
              "[array(['Data under review by DOEE', 'In Compliance'], dtype=object),\n",
              " array([1, 2, 3, 4, 5, 6, 7, 8]),\n",
              " array(['20001', '20001-2620', '20001-3710', '20002', '20002-3408',\n",
              "        '20002-7000', '20003', '20004', '20005', '20005-2806',\n",
              "        '20005-3301', '20005-5504', '20006', '200062407', '200063912',\n",
              "        '20007', '20008', '20008-1811', '20009', '20010', '20011',\n",
              "        '20011-4959', '20012', '20015', '20016', '200163300', '20017',\n",
              "        '200171566', '20018', '20018-2505', '20019', '20020', '20024',\n",
              "        '200242459', '20032', '20036', '200362103', '20037', '20037-1445',\n",
              "        '20049', '20052', '20057', '20059', '20064', '20577', '20590',\n",
              "        '20910', '22036', '22048', '22202', '22204', '22209'], dtype=object),\n",
              " array([1000, 1789, 1829, 1844, 1850, 1864, 1868, 1869, 1875, 1880, 1882,\n",
              "        1885, 1886, 1887, 1888, 1889, 1890, 1891, 1895, 1896, 1897, 1898,\n",
              "        1900, 1901, 1903, 1904, 1905, 1906, 1907, 1908, 1909, 1910, 1911,\n",
              "        1912, 1913, 1914, 1915, 1916, 1917, 1918, 1920, 1921, 1922, 1923,\n",
              "        1924, 1925, 1926, 1927, 1928, 1929, 1930, 1931, 1932, 1933, 1934,\n",
              "        1935, 1936, 1937, 1938, 1939, 1940, 1941, 1942, 1943, 1944, 1945,\n",
              "        1946, 1947, 1948, 1949, 1950, 1951, 1952, 1953, 1954, 1955, 1956,\n",
              "        1957, 1958, 1959, 1960, 1961, 1962, 1963, 1964, 1965, 1966, 1967,\n",
              "        1968, 1969, 1970, 1971, 1972, 1973, 1974, 1975, 1976, 1977, 1978,\n",
              "        1979, 1980, 1981, 1982, 1983, 1984, 1985, 1986, 1987, 1988, 1989,\n",
              "        1990, 1991, 1992, 1993, 1994, 1995, 1996, 1997, 1998, 1999, 2000,\n",
              "        2001, 2002, 2003, 2004, 2005, 2006, 2007, 2008, 2009, 2010, 2011,\n",
              "        2012, 2013, 2014, 2015, 2016, 2017]),\n",
              " array(['Adult Education', 'College/University', 'Distribution Center',\n",
              "        'Enclosed Mall', 'Financial Office', 'Fire Station',\n",
              "        'Fitness Center/Health Club/Gym', 'Food Service',\n",
              "        'Hospital (General Medical & Surgical)', 'Hotel', 'K-12 School',\n",
              "        'Laboratory', 'Library', 'Manufacturing/Industrial Plant',\n",
              "        'Medical Office', 'Mixed Use Property', 'Movie Theater',\n",
              "        'Multifamily Housing', 'Museum', 'Non-Refrigerated Warehouse',\n",
              "        'Office', 'Other', 'Other - Education',\n",
              "        'Other - Entertainment/Public Assembly',\n",
              "        'Other - Lodging/Residential', 'Other - Mall',\n",
              "        'Other - Public Services', 'Other - Recreation',\n",
              "        'Other - Specialty Hospital',\n",
              "        'Outpatient Rehabilitation/Physical Therapy', 'Performing Arts',\n",
              "        'Police Station', 'Pre-school/Daycare', 'Prison/Incarceration',\n",
              "        'Repair Services (Vehicle Shoe Locksmith etc.)',\n",
              "        'Residence Hall/Dormitory', 'Retail Store',\n",
              "        'Self-Storage Facility', 'Senior Care Community',\n",
              "        'Social/Meeting Hall', 'Strip Mall', 'Supermarket/Grocery Store',\n",
              "        'Urgent Care/Clinic/Other Outpatient',\n",
              "        'Wholesale Club/Supercenter', 'Worship Facility'], dtype=object),\n",
              " array(['Adult Education', 'College/University', 'Distribution Center',\n",
              "        'Enclosed Mall', 'Financial Office', 'Fire Station',\n",
              "        'Fitness Center/Health Club/Gym', 'Food Service',\n",
              "        'Hospital (General Medical & Surgical)', 'Hotel', 'K-12 School',\n",
              "        'Laboratory', 'Library', 'Manufacturing/Industrial Plant',\n",
              "        'Medical Office', 'Mixed Use Property', 'Movie Theater',\n",
              "        'Multifamily Housing', 'Museum', 'Non-Refrigerated Warehouse',\n",
              "        'Office', 'Other', 'Other - Education',\n",
              "        'Other - Entertainment/Public Assembly',\n",
              "        'Other - Lodging/Residential', 'Other - Mall',\n",
              "        'Other - Public Services', 'Other - Recreation',\n",
              "        'Other - Services', 'Other - Specialty Hospital',\n",
              "        'Outpatient Rehabilitation/Physical Therapy', 'Parking',\n",
              "        'Performing Arts', 'Police Station',\n",
              "        'Repair Services (Vehicle Shoe Locksmith etc.)',\n",
              "        'Residence Hall/Dormitory', 'Retail Store',\n",
              "        'Self-Storage Facility', 'Senior Care Community',\n",
              "        'Social/Meeting Hall', 'Strip Mall', 'Supermarket/Grocery Store',\n",
              "        'Urgent Care/Clinic/Other Outpatient',\n",
              "        'Wholesale Club/Supercenter', 'Worship Facility'], dtype=object),\n",
              " array(['Another configuration', 'Common areas only', 'Whole Building'],\n",
              "       dtype=object),\n",
              " array(['Another configuration', 'Combination of common and tenant areas',\n",
              "        'Whole Building'], dtype=object)]"
            ]
          },
          "metadata": {
            "tags": []
          },
          "execution_count": 381
        }
      ]
    },
    {
      "cell_type": "markdown",
      "metadata": {
        "id": "3Wd7WBC6fSSI"
      },
      "source": [
        "# combine your numerical and categorical imput features and split your data into training and testing"
      ]
    },
    {
      "cell_type": "code",
      "metadata": {
        "id": "rlgGPGMhtn8h",
        "colab": {
          "base_uri": "https://localhost:8080/"
        },
        "outputId": "05733e6a-46b7-4753-9c74-76213e7414ed"
      },
      "source": [
        "# London\n",
        "london_X1.shape\n",
        "london_X2.shape\n",
        "london_X = np.hstack([london_X1, london_X2])\n",
        "\n",
        "london_nrows, london_ncols = london_X.shape\n",
        "print(\"[DC] The shape of the dataframe is nrows: {}, ncolumns: {}\".format(*london_X.shape))\n",
        "print(\"I lost {} observations in cleaning, {:.0f}% of the dataset\".format(london_nrows - london_X.shape[0], (london_nrows - london_X.shape[0]) / london_nrows * 100))"
      ],
      "execution_count": null,
      "outputs": [
        {
          "output_type": "stream",
          "text": [
            "[DC] The shape of the dataframe is nrows: 23153, ncolumns: 21\n",
            "I lost 0 observations in cleaning, 0% of the dataset\n"
          ],
          "name": "stdout"
        }
      ]
    },
    {
      "cell_type": "code",
      "metadata": {
        "id": "eq9FKlTgOsvX",
        "colab": {
          "base_uri": "https://localhost:8080/"
        },
        "outputId": "a57c6cc9-f185-48ec-acaa-ec4cf6ff4b3a"
      },
      "source": [
        "# DC\n",
        "DC_X1.shape\n",
        "DC_X2.shape\n",
        "DC_X = np.hstack([DC_X1, DC_X2])\n",
        "\n",
        "DC_nrows, DC_ncols = DC_X.shape\n",
        "print(\"[DC] The shape of the dataframe is nrows: {}, ncolumns: {}\".format(*DC_X.shape))\n",
        "print(\"I lost {} observations in cleaning, {:.0f}% of the dataset\".format(DC_nrows - DC_X.shape[0], (DC_nrows - DC_X.shape[0]) / DC_nrows * 100))"
      ],
      "execution_count": null,
      "outputs": [
        {
          "output_type": "stream",
          "text": [
            "[DC] The shape of the dataframe is nrows: 1453, ncolumns: 299\n",
            "I lost 0 observations in cleaning, 0% of the dataset\n"
          ],
          "name": "stdout"
        }
      ]
    },
    {
      "cell_type": "code",
      "metadata": {
        "id": "T1Y4q5e7wAlT"
      },
      "source": [
        "from sklearn.model_selection import train_test_split"
      ],
      "execution_count": null,
      "outputs": []
    },
    {
      "cell_type": "code",
      "metadata": {
        "id": "rCKA04cjwCzr"
      },
      "source": [
        "# London\n",
        "london_X_train, london_X_test, london_y_train, london_y_test = train_test_split(\n",
        "    london_X, london_y, test_size=0.25, random_state=42)"
      ],
      "execution_count": null,
      "outputs": []
    },
    {
      "cell_type": "code",
      "metadata": {
        "id": "WCUUattUUfqR"
      },
      "source": [
        "# DC\n",
        "DC_X_train, DC_X_test, DC_y_train, DC_y_test = train_test_split(\n",
        "    DC_X, DC_y, test_size=0.25, random_state=42)"
      ],
      "execution_count": null,
      "outputs": []
    },
    {
      "cell_type": "markdown",
      "metadata": {
        "id": "ao-6jRG0fdNT"
      },
      "source": [
        "# run a random forest REGRESSION model\n",
        "\n",
        "report the score on the tranining and test data and identify the most important features"
      ]
    },
    {
      "cell_type": "code",
      "metadata": {
        "id": "tTIHu2W-uNpT"
      },
      "source": [
        "from sklearn.ensemble import RandomForestRegressor\n",
        "from sklearn.metrics import mean_squared_error"
      ],
      "execution_count": null,
      "outputs": []
    },
    {
      "cell_type": "code",
      "metadata": {
        "id": "uPPWl4BDwK4R",
        "colab": {
          "base_uri": "https://localhost:8080/"
        },
        "outputId": "083eb88a-5440-436f-e524-ce04279a4e60"
      },
      "source": [
        "# London\n",
        "\n",
        "london_rf = RandomForestRegressor(max_depth=2, random_state=0)\n",
        "london_rf.fit(london_X_train, london_y_train,)\n",
        "london_score = london_rf.score(london_X_test, london_y_test)\n",
        "print(\"[London] Random Forest Regressor Score {:.2f} ({:.0f}%)\".format(london_score, london_score * 100))\n",
        "\n",
        "london_mse_tr = mean_squared_error(london_y_train, london_rf.predict(london_X_train))\n",
        "london_mse = mean_squared_error(london_y_test, london_rf.predict(london_X_test))\n",
        "\n",
        "print(\"[London] mean sq error of the model on training data {:.2f} ({:.0f}%)\".format(london_mse_tr, london_mse_tr * 100))\n",
        "print(\"[London] mean sq error of the model on test data {:.2f} ({:.0f}%)\".format(london_mse, london_mse * 100))"
      ],
      "execution_count": null,
      "outputs": [
        {
          "output_type": "stream",
          "text": [
            "[London] Random Forest Regressor Score 0.67 (67%)\n",
            "[London] mean sq error of the model on training data 0.28 (28%)\n",
            "[London] mean sq error of the model on test data 0.30 (30%)\n"
          ],
          "name": "stdout"
        }
      ]
    },
    {
      "cell_type": "code",
      "metadata": {
        "id": "kEiFt_htTjNF",
        "colab": {
          "base_uri": "https://localhost:8080/"
        },
        "outputId": "38d01d66-23d4-4e24-cbbf-4ee02e1cebbd"
      },
      "source": [
        "# DC\n",
        "\n",
        "DC_rf = RandomForestRegressor(max_depth=2, random_state=0)\n",
        "DC_rf.fit(DC_X_train, DC_y_train,)\n",
        "DC_score = DC_rf.score(DC_X_test, DC_y_test)\n",
        "print(\"[DC] Random Forest Regressor Score {:.2f} ({:.0f}%)\".format(DC_score, DC_score * 100))\n",
        "\n",
        "DC_mse_tr = mean_squared_error(DC_y_train, DC_rf.predict(DC_X_train))\n",
        "DC_mse = mean_squared_error(DC_y_test, DC_rf.predict(DC_X_test))\n",
        "\n",
        "print(\"[DC] mean sq error of the model on training data {:.2f} ({:.0f}%)\".format(DC_mse_tr, DC_mse_tr * 100))\n",
        "print(\"[DC] mean sq error of the model on test data {:.2f} ({:.0f}%)\".format(DC_mse, DC_mse * 100))"
      ],
      "execution_count": null,
      "outputs": [
        {
          "output_type": "stream",
          "text": [
            "[DC] Random Forest Regressor Score 0.62 (62%)\n",
            "[DC] mean sq error of the model on training data 0.05 (5%)\n",
            "[DC] mean sq error of the model on test data 0.08 (8%)\n"
          ],
          "name": "stdout"
        }
      ]
    },
    {
      "cell_type": "code",
      "metadata": {
        "id": "9BHeSJ_Lws3i",
        "colab": {
          "base_uri": "https://localhost:8080/"
        },
        "outputId": "4a163963-af45-494a-d315-31453af8adfd"
      },
      "source": [
        "london_rf.feature_importances_, london_features.columns"
      ],
      "execution_count": null,
      "outputs": [
        {
          "output_type": "execute_result",
          "data": {
            "text/plain": [
              "(array([0., 0., 1., 0., 0., 0., 0., 0., 0., 0., 0., 0., 0., 0., 0., 0., 0.,\n",
              "        0., 0., 0., 0.]),\n",
              " Index(['heating_fuel_type', 'hvac_type', 'typical_fuel_eui_KWHM2',\n",
              "        'typical_electricity_eui_KWHM2', 'floor_area_SF',\n",
              "        'log_typical_fuel_eui_KWHM2', 'log_typical_electricity_eui_KWHM2',\n",
              "        'log_floor_area_SF'],\n",
              "       dtype='object'))"
            ]
          },
          "metadata": {
            "tags": []
          },
          "execution_count": 390
        }
      ]
    },
    {
      "cell_type": "code",
      "metadata": {
        "id": "Ee-Vmuezxr06"
      },
      "source": [
        "import pylab as plt"
      ],
      "execution_count": null,
      "outputs": []
    },
    {
      "cell_type": "code",
      "metadata": {
        "id": "LIlLs4uLIZoz",
        "colab": {
          "base_uri": "https://localhost:8080/",
          "height": 387
        },
        "outputId": "19f00928-ce24-4f4c-c09e-b8ac48de7c0a"
      },
      "source": [
        "#London\n",
        "london_feature_names = np.concatenate([london_features.drop(['heating_fuel_type', 'hvac_type', 'typical_fuel_eui_KWHM2',\n",
        "        'typical_electricity_eui_KWHM2', 'floor_area_SF'], axis=1).columns.values,\n",
        "np.concatenate(london_enc.categories_)])\n",
        "print(len(london_feature_names))\n",
        "\n",
        "# Plot London\n",
        "london_tree_feature_importances = (london_rf.feature_importances_)\n",
        "london_sorted_idx = london_tree_feature_importances.argsort()\n",
        "\n",
        "london_y_ticks = np.arange(0, len(london_feature_names))\n",
        "fig, ax = plt.subplots(figsize=(10,5))\n",
        "ax.barh(london_y_ticks, london_tree_feature_importances[london_sorted_idx])\n",
        "ax.set_yticklabels(london_feature_names[london_sorted_idx])\n",
        "ax.set_yticks(london_y_ticks)\n",
        "ax.set_title(\"Random Forest Feature Importances (MDI)\")\n",
        "fig.tight_layout()\n",
        "plt.show()"
      ],
      "execution_count": null,
      "outputs": [
        {
          "output_type": "stream",
          "text": [
            "21\n"
          ],
          "name": "stdout"
        },
        {
          "output_type": "display_data",
          "data": {
            "image/png": "[encoded data removed]",
            "text/plain": [
              "<Figure size 720x360 with 1 Axes>"
            ]
          },
          "metadata": {
            "tags": [],
            "needs_background": "light"
          }
        }
      ]
    },
    {
      "cell_type": "markdown",
      "metadata": {
        "id": "6m-eBvJHJ461"
      },
      "source": [
        "**Fig 1. London's Random Forest Feature Importance (MDI)** The figure above shows the random forest feature importance conducted by Random Forest Regressor model (max depth is 2, and random state is 0). As a result of the model, log floor area is the most important feature. It is similar to the result of this article in that Roth et al.(2020)'s result shows the total area is the most important feature. "
      ]
    },
    {
      "cell_type": "code",
      "metadata": {
        "id": "Fn0bv96Zl_q1",
        "colab": {
          "base_uri": "https://localhost:8080/",
          "height": 1000
        },
        "outputId": "c9a67acb-8f2f-4c86-bab2-fc5fd5503cc4"
      },
      "source": [
        "# DC\n",
        "\n",
        "# Set feature names\n",
        "DC_feature_names = np.concatenate([DC_features.drop([\"report_status\", \"primary_ptype_self\", \"primary_ptype_epa\", \n",
        "               \"metered_areas_energy\", \"metered_areas_water\", \"ward\",\"postal_code\",\n",
        "               \"year_built\", \"tax_record_floor_area\", \"reported_gross_floor_area\", \"water_use\", \n",
        "               ], axis=1).columns.values,np.concatenate(DC_enc.categories_)])\n",
        "len(DC_feature_names)\n",
        "\n",
        "# Plot\n",
        "DC_tree_feature_importances = (DC_rf.feature_importances_)\n",
        "DC_sorted_idx = DC_tree_feature_importances.argsort()\n",
        "\n",
        "DC_y_ticks = np.arange(0, len(DC_feature_names))\n",
        "fig, ax = plt.subplots(figsize=(10,50))\n",
        "ax.barh(DC_y_ticks, DC_tree_feature_importances[DC_sorted_idx])\n",
        "ax.set_yticklabels(DC_feature_names[DC_sorted_idx])\n",
        "ax.set_yticks(DC_y_ticks)\n",
        "ax.set_title(\"Random Forest Feature Importances (MDI)\")\n",
        "fig.tight_layout()\n",
        "plt.show()"
      ],
      "execution_count": null,
      "outputs": [
        {
          "output_type": "display_data",
          "data": {
            "image/png": "[encoded data removed]",
            "text/plain": [
              "<Figure size 720x3600 with 1 Axes>"
            ]
          },
          "metadata": {
            "tags": [],
            "needs_background": "light"
          }
        }
      ]
    },
    {
      "cell_type": "markdown",
      "metadata": {
        "id": "ecVD6NAULlqb"
      },
      "source": [
        "**Fig 2. Washington DC's Random Forest Feature Importance (MDI)** The figure above shows the random forest feature importance conducted by Random Forest Regressor model (max depth is 2, and random state is 0). As a result of the model, log reported floor area is the most important feature and log tax flood area is the second most important feature. It is similar to the result of this article in that Roth et al.(2020)'s result shows the total area is the most important feature. "
      ]
    },
    {
      "cell_type": "markdown",
      "metadata": {
        "id": "XZxr_mNXV5QB"
      },
      "source": [
        "# useful links and methods and functions I used: \n",
        "\n",
        "```df.dropna()``` to remove observation with missing variables\n",
        "\n",
        "```df.drop(columns, axis=1)``` to remove features (columns)\n",
        "\n",
        "\n",
        "```np.log10()``` and ```np.isinf()``` to convert to log space and find infinite values  \n"
      ]
    },
    {
      "cell_type": "markdown",
      "metadata": {
        "id": "glzZInBSoLjW"
      },
      "source": [
        "one hot encoder https://scikit-learn.org/stable/modules/generated/sklearn.preprocessing.OneHotEncoder.html and https://stackabuse.com/one-hot-encoding-in-python-with-pandas-and-scikit-learn/\n"
      ]
    },
    {
      "cell_type": "markdown",
      "metadata": {
        "id": "c9_0ZFaGqRj1"
      },
      "source": [
        "KNN imputer https://scikit-learn.org/stable/modules/generated/sklearn.impute.KNNImputer.html , https://www.analyticsvidhya.com/blog/2020/07/knnimputer-a-robust-way-to-impute-missing-values-using-scikit-learn/, and \n",
        "https://machinelearningmastery.com/knn-imputation-for-missing-values-in-machine-learning/  "
      ]
    },
    {
      "cell_type": "markdown",
      "metadata": {
        "id": "bKLcYpBcqggC"
      },
      "source": [
        "# FBB pretty good but the comments are few and far between! importantly you split your data between training and test but forgot to discuss if the model was overfitting"
      ]
    },
    {
      "cell_type": "code",
      "metadata": {
        "id": "mTOJuDxbBD2S"
      },
      "source": [
        ""
      ],
      "execution_count": null,
      "outputs": []
    }
  ]
}